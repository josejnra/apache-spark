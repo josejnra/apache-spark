{
 "cells": [
  {
   "cell_type": "code",
   "execution_count": 1,
   "id": "8bb3af73-a829-4c5e-9472-586717e800c5",
   "metadata": {},
   "outputs": [
    {
     "name": "stdout",
     "output_type": "stream",
     "text": [
      "/opt/apps\n"
     ]
    }
   ],
   "source": [
    "! pwd"
   ]
  },
  {
   "cell_type": "code",
   "execution_count": 9,
   "id": "41b8315d-f0a3-4421-9da4-7ff99cd19a31",
   "metadata": {},
   "outputs": [
    {
     "name": "stderr",
     "output_type": "stream",
     "text": [
      "  % Total    % Received % Xferd  Average Speed   Time    Time     Time  Current\n",
      "                                 Dload  Upload   Total   Spent    Left  Speed\n",
      "100 25.0M  100 25.0M    0     0  5880k      0  0:00:04  0:00:04 --:--:-- 5880k\n"
     ]
    }
   ],
   "source": [
    "%%bash\n",
    "curl https://dl.min.io/client/mc/release/linux-amd64/mc \\\n",
    "  --create-dirs \\\n",
    "  -o $HOME/minio-binaries/mc"
   ]
  },
  {
   "cell_type": "code",
   "execution_count": 10,
   "id": "98d46339-f8b7-4a3e-ad8f-1f4f184fef50",
   "metadata": {},
   "outputs": [],
   "source": [
    "%%bash\n",
    "\n",
    "chmod +x $HOME/minio-binaries/mc\n",
    "\n",
    "cp $HOME/minio-binaries/mc /usr/local/bin"
   ]
  },
  {
   "cell_type": "code",
   "execution_count": 11,
   "id": "929914e0-810d-4ed3-897f-7b2809e940f6",
   "metadata": {},
   "outputs": [
    {
     "name": "stdout",
     "output_type": "stream",
     "text": [
      "NAME:\n",
      "  mc - MinIO Client for object storage and filesystems.\n",
      "\n",
      "USAGE:\n",
      "  mc [FLAGS] COMMAND [COMMAND FLAGS | -h] [ARGUMENTS...]\n",
      "\n",
      "COMMANDS:\n",
      "  alias      manage server credentials in configuration file\n",
      "  ls         list buckets and objects\n",
      "  mb         make a bucket\n",
      "  rb         remove a bucket\n",
      "  cp         copy objects\n",
      "  mv         move objects\n",
      "  rm         remove object(s)\n",
      "  mirror     synchronize object(s) to a remote site\n",
      "  cat        display object contents\n",
      "  head       display first 'n' lines of an object\n",
      "  pipe       stream STDIN to an object\n",
      "  find       search for objects\n",
      "  sql        run sql queries on objects\n",
      "  stat       show object metadata\n",
      "  tree       list buckets and objects in a tree format\n",
      "  du         summarize disk usage recursively\n",
      "  retention  set retention for object(s)\n",
      "  legalhold  manage legal hold for object(s)\n",
      "  support    support related commands\n",
      "  license    license related commands\n",
      "  share      generate URL for temporary access to an object\n",
      "  version    manage bucket versioning\n",
      "  ilm        manage bucket lifecycle\n",
      "  quota      manage bucket quota\n",
      "  encrypt    manage bucket encryption config\n",
      "  event      manage object notifications\n",
      "  watch      listen for object notification events\n",
      "  undo       undo PUT/DELETE operations\n",
      "  anonymous  manage anonymous access to buckets and objects\n",
      "  tag        manage tags for bucket and object(s)\n",
      "  diff       list differences in object name, size, and date between two buckets\n",
      "  replicate  configure server side bucket replication\n",
      "  admin      manage MinIO servers\n",
      "  idp        manage MinIO IDentity Provider server configuration\n",
      "  update     update mc to latest release\n",
      "  ready      checks if the cluster is ready or not\n",
      "  ping       perform liveness check\n",
      "  od         measure single stream upload and download\n",
      "  batch      manage batch jobs\n",
      "  \n",
      "GLOBAL FLAGS:\n",
      "  --autocompletion              install auto-completion for your shell\n",
      "  --config-dir value, -C value  path to configuration folder (default: \"/root/.mc\")\n",
      "  --quiet, -q                   disable progress bar display\n",
      "  --no-color                    disable color theme\n",
      "  --json                        enable JSON lines formatted output\n",
      "  --debug                       enable debug output\n",
      "  --insecure                    disable SSL certificate verification\n",
      "  --limit-upload value          limits uploads to a maximum rate in KiB/s, MiB/s, GiB/s. (default: unlimited)\n",
      "  --limit-download value        limits downloads to a maximum rate in KiB/s, MiB/s, GiB/s. (default: unlimited)\n",
      "  --help, -h                    show help\n",
      "  --version, -v                 print the version\n",
      "  \n",
      "TIP:\n",
      "  Use 'mc --autocompletion' to enable shell autocompletion\n",
      "\n",
      "COPYRIGHT:\n",
      "  Copyright (c) 2015-2023 MinIO, Inc.\n",
      "\n",
      "LICENSE:\n",
      "  GNU AGPLv3 <https://www.gnu.org/licenses/agpl-3.0.html>\n"
     ]
    }
   ],
   "source": [
    "%%bash\n",
    "\n",
    "mc --help"
   ]
  },
  {
   "cell_type": "code",
   "execution_count": 12,
   "id": "c590c5fb-96cd-481f-a2d1-1c0a6c82d75e",
   "metadata": {},
   "outputs": [
    {
     "name": "stdout",
     "output_type": "stream",
     "text": [
      "Added `myminio` successfully.\n"
     ]
    }
   ],
   "source": [
    "%%bash\n",
    "\n",
    "bash +o history\n",
    "mc alias set myminio http://minio:9000 minioadmin minioadmin\n",
    "bash -o history\n"
   ]
  },
  {
   "cell_type": "code",
   "execution_count": 13,
   "id": "6287cf3e-96d4-437a-bc06-08242fd4845b",
   "metadata": {},
   "outputs": [],
   "source": [
    "%%bash\n",
    "\n",
    "# list buckets\n",
    "mc ls myminio"
   ]
  },
  {
   "cell_type": "code",
   "execution_count": 14,
   "id": "9b5210ca-28f3-48a8-b294-6999988f1cc7",
   "metadata": {},
   "outputs": [
    {
     "name": "stdout",
     "output_type": "stream",
     "text": [
      "Bucket created successfully `myminio/my-bucket`.\n"
     ]
    }
   ],
   "source": [
    "%%bash\n",
    "\n",
    "# create a bucket\n",
    "mc mb --with-versioning myminio/my-bucket "
   ]
  },
  {
   "cell_type": "code",
   "execution_count": 17,
   "id": "4e7e165e-bb6e-48ad-a720-1f0f17abcb37",
   "metadata": {},
   "outputs": [
    {
     "name": "stdout",
     "output_type": "stream",
     "text": [
      "Removed `myminio/my-bucket` successfully.\n"
     ]
    }
   ],
   "source": [
    "%%bash\n",
    "\n",
    "# delete bucket\n",
    "mc rb --force myminio/my-bucket"
   ]
  },
  {
   "cell_type": "code",
   "execution_count": 15,
   "id": "46265f46-9911-445c-bb7f-4062576b7d37",
   "metadata": {},
   "outputs": [
    {
     "name": "stdout",
     "output_type": "stream",
     "text": [
      "`/opt/apps/file.txt` -> `myminio/my-bucket/file.txt`\n",
      "Total: 0 B, Transferred: 15 B, Speed: 1.27 KiB/s\n",
      "`myminio/my-bucket/file.txt` -> `file-d.txt`\n",
      "Total: 0 B, Transferred: 15 B, Speed: 1.15 KiB/s\n",
      "some test file\n"
     ]
    }
   ],
   "source": [
    "%%bash\n",
    "\n",
    "echo \"some test file\" > file.txt\n",
    "\n",
    "# copy file to bucket\n",
    "mc cp file.txt myminio/my-bucket\n",
    "\n",
    "# copy file from bucket\n",
    "mc cp myminio/my-bucket/file.txt file-d.txt\n",
    "\n",
    "cat file-d.txt\n",
    "\n",
    "# clean up\n",
    "rm file.txt file-d.txt"
   ]
  },
  {
   "cell_type": "code",
   "execution_count": 55,
   "id": "10f32735-9462-41e6-89dc-32b0779aabd7",
   "metadata": {},
   "outputs": [
    {
     "name": "stdout",
     "output_type": "stream",
     "text": [
      "some test file\n"
     ]
    }
   ],
   "source": [
    "%%bash\n",
    "\n"
   ]
  },
  {
   "cell_type": "code",
   "execution_count": null,
   "id": "dfc29e11-fe23-4acf-8b99-9d7a897642ac",
   "metadata": {},
   "outputs": [],
   "source": []
  }
 ],
 "metadata": {
  "kernelspec": {
   "display_name": "Python 3 (ipykernel)",
   "language": "python",
   "name": "python3"
  },
  "language_info": {
   "codemirror_mode": {
    "name": "ipython",
    "version": 3
   },
   "file_extension": ".py",
   "mimetype": "text/x-python",
   "name": "python",
   "nbconvert_exporter": "python",
   "pygments_lexer": "ipython3",
   "version": "3.9.2"
  }
 },
 "nbformat": 4,
 "nbformat_minor": 5
}
