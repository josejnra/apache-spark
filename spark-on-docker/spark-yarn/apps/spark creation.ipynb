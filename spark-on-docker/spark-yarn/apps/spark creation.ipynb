{
 "cells": [
  {
   "cell_type": "code",
   "execution_count": null,
   "id": "55c04987-3787-41d5-a69b-0387ded2d163",
   "metadata": {},
   "outputs": [],
   "source": [
    "from pyspark.sql import SparkSession\n",
    "\n",
    "# Preferable\n",
    "spark = SparkSession.builder \\\n",
    "                    .appName(\"Spark Session using builder\") \\\n",
    "                    .config(\"spark.executor.memory\", \"1G\") \\\n",
    "                    .config(\"spark.driver.memory\", \"1G\") \\\n",
    "                    .config(\"spark.driver.maxResultSize\", \"1G\") \\\n",
    "                    .config(\"spark.jars.packages\", \"com.mysql:mysql-connector-j:9.0.0,org.postgresql:postgresql:42.7.3\") \\\n",
    "                    .config(\"spark.sql.execution.arrow.pyspark.enabled\", \"true\") \\\n",
    "                    .config(\"spark.serializer\", \"org.apache.spark.serializer.KryoSerializer\") \\\n",
    "                    .getOrCreate()\n",
    "\n",
    "spark.sparkContext.setLogLevel(\"ERROR\")\n",
    "spark"
   ]
  },
  {
   "cell_type": "code",
   "execution_count": null,
   "id": "intermediate-institute",
   "metadata": {},
   "outputs": [],
   "source": [
    "from pyspark import SparkContext, SparkConf\n",
    "from pyspark.sql import SparkSession\n",
    "\n",
    "config = SparkConf() \\\n",
    "                    .setAppName(\"Spark Context Example\") \\\n",
    "                    .setAll([(\"spark.executor.memory\", \"1G\"),\n",
    "                            (\"spark.driver.memory\", \"1G\"),\n",
    "                            (\"spark.driver.maxResultSize\", \"1G\")]) \\\n",
    "                    .set(\"spark.jars.packages\", \"com.mysql:mysql-connector-j:9.0.0,org.postgresql:postgresql:42.7.3\") \\\n",
    "                    .set(\"spark.sql.execution.arrow.pyspark.enabled\", \"true\") \\\n",
    "                    .set(\"spark.sql.execution.arrow.pyspark.enabled\", \"true\") \\\n",
    "                    .set(\"spark.serializer\", \"org.apache.spark.serializer.KryoSerializer\")\n",
    "\n",
    "sc = SparkContext(conf=config)\n",
    "spark = SparkSession(sc)\n",
    "\n",
    "sc.setLogLevel(\"ERROR\")\n",
    "\n",
    "spark"
   ]
  },
  {
   "cell_type": "code",
   "execution_count": null,
   "id": "7fa55823-19ce-4a40-b011-9f3d70c84604",
   "metadata": {},
   "outputs": [],
   "source": [
    "spark.stop()"
   ]
  }
 ],
 "metadata": {
  "kernelspec": {
   "display_name": "Python 3 (ipykernel)",
   "language": "python",
   "name": "python3"
  },
  "language_info": {
   "codemirror_mode": {
    "name": "ipython",
    "version": 3
   },
   "file_extension": ".py",
   "mimetype": "text/x-python",
   "name": "python",
   "nbconvert_exporter": "python",
   "pygments_lexer": "ipython3",
   "version": "3.9.2"
  }
 },
 "nbformat": 4,
 "nbformat_minor": 5
}
