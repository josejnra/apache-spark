{
 "cells": [
  {
   "cell_type": "code",
   "execution_count": null,
   "id": "7d9dd017-9f1a-400e-b327-1dca7786235a",
   "metadata": {},
   "outputs": [],
   "source": [
    "from pyspark import SparkContext, SparkConf\n",
    "from pyspark.sql import SparkSession\n",
    "\n",
    "spark = SparkSession.builder \\\n",
    "                    .appName('Write to elasticsearch') \\\n",
    "                    .config('spark.jars.packages', 'org.elasticsearch:elasticsearch-spark-30_2.12:7.14.1') \\\n",
    "                    .getOrCreate()\n",
    "\n",
    "spark"
   ]
  },
  {
   "cell_type": "code",
   "execution_count": null,
   "id": "11a77653-472e-45d7-819f-fde1ed515704",
   "metadata": {},
   "outputs": [],
   "source": [
    "tuple_list_data = [('Alice', 1), ('Braga', 2), ('Steve', 3)]\n",
    "df = spark.createDataFrame(tuple_list_data, ['name', 'id'])\n",
    "df.show()"
   ]
  },
  {
   "cell_type": "code",
   "execution_count": null,
   "id": "52ebe1e3-4471-4b2a-a0e1-f6453f9db650",
   "metadata": {},
   "outputs": [],
   "source": [
    "df.write \\\n",
    "    .format(\"org.elasticsearch.spark.sql\") \\\n",
    "    .option(\"es.nodes.wan.only\", \"true\") \\\n",
    "    .option(\"es.net.ssl\", \"false\") \\\n",
    "    .option(\"es.nodes\", \"elasticsearch\") \\\n",
    "    .option(\"es.port\", 9200) \\\n",
    "    .option(\"es.index.auto.create\", \"true\") \\\n",
    "    .option(\"es.resource\", \"example/_doc\") \\\n",
    "    .mode(\"overwrite\") \\\n",
    "    .save()"
   ]
  }
 ],
 "metadata": {
  "kernelspec": {
   "display_name": "Python 3 (ipykernel)",
   "language": "python",
   "name": "python3"
  },
  "language_info": {
   "codemirror_mode": {
    "name": "ipython",
    "version": 3
   },
   "file_extension": ".py",
   "mimetype": "text/x-python",
   "name": "python",
   "nbconvert_exporter": "python",
   "pygments_lexer": "ipython3",
   "version": "3.7.3"
  }
 },
 "nbformat": 4,
 "nbformat_minor": 5
}
