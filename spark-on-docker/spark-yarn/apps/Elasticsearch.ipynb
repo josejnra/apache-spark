{
 "cells": [
  {
   "cell_type": "code",
   "execution_count": 1,
   "id": "7d9dd017-9f1a-400e-b327-1dca7786235a",
   "metadata": {},
   "outputs": [
    {
     "name": "stderr",
     "output_type": "stream",
     "text": [
      "2021-10-24 00:51:16,549 WARN util.Utils: Your hostname, localhost resolves to a loopback address: 127.0.0.1; using 172.22.0.5 instead (on interface eth0)\n",
      "2021-10-24 00:51:16,549 WARN util.Utils: Set SPARK_LOCAL_IP if you need to bind to another address\n",
      "WARNING: An illegal reflective access operation has occurred\n",
      "WARNING: Illegal reflective access by org.apache.spark.unsafe.Platform (file:/opt/spark-3.2.0-bin-without-hadoop/jars/spark-unsafe_2.12-3.2.0.jar) to constructor java.nio.DirectByteBuffer(long,int)\n",
      "WARNING: Please consider reporting this to the maintainers of org.apache.spark.unsafe.Platform\n",
      "WARNING: Use --illegal-access=warn to enable warnings of further illegal reflective access operations\n",
      "WARNING: All illegal access operations will be denied in a future release\n",
      "Ivy Default Cache set to: /root/.ivy2/cache\n",
      "The jars for the packages stored in: /root/.ivy2/jars\n",
      "org.elasticsearch#elasticsearch-spark-30_2.12 added as a dependency\n",
      ":: resolving dependencies :: org.apache.spark#spark-submit-parent-a472d1e1-d5a9-402d-9f13-abd3e7c51187;1.0\n",
      "\tconfs: [default]\n"
     ]
    },
    {
     "name": "stdout",
     "output_type": "stream",
     "text": [
      ":: loading settings :: url = jar:file:/opt/spark-3.2.0-bin-without-hadoop/jars/ivy-2.5.0.jar!/org/apache/ivy/core/settings/ivysettings.xml\n"
     ]
    },
    {
     "name": "stderr",
     "output_type": "stream",
     "text": [
      "\tfound org.elasticsearch#elasticsearch-spark-30_2.12;7.14.1 in central\n",
      "\tfound org.scala-lang#scala-reflect;2.12.8 in central\n",
      "\tfound org.slf4j#slf4j-api;1.7.6 in central\n",
      "\tfound commons-logging#commons-logging;1.1.1 in central\n",
      "\tfound javax.xml.bind#jaxb-api;2.3.1 in central\n",
      "\tfound com.google.protobuf#protobuf-java;2.5.0 in central\n",
      "\tfound org.apache.spark#spark-yarn_2.12;3.0.1 in central\n",
      "downloading https://repo1.maven.org/maven2/org/elasticsearch/elasticsearch-spark-30_2.12/7.14.1/elasticsearch-spark-30_2.12-7.14.1.jar ...\n",
      "\t[SUCCESSFUL ] org.elasticsearch#elasticsearch-spark-30_2.12;7.14.1!elasticsearch-spark-30_2.12.jar (1062ms)\n",
      "downloading https://repo1.maven.org/maven2/org/scala-lang/scala-reflect/2.12.8/scala-reflect-2.12.8.jar ...\n",
      "\t[SUCCESSFUL ] org.scala-lang#scala-reflect;2.12.8!scala-reflect.jar (2076ms)\n",
      "downloading https://repo1.maven.org/maven2/org/slf4j/slf4j-api/1.7.6/slf4j-api-1.7.6.jar ...\n",
      "\t[SUCCESSFUL ] org.slf4j#slf4j-api;1.7.6!slf4j-api.jar (223ms)\n",
      "downloading https://repo1.maven.org/maven2/commons-logging/commons-logging/1.1.1/commons-logging-1.1.1.jar ...\n",
      "\t[SUCCESSFUL ] commons-logging#commons-logging;1.1.1!commons-logging.jar (208ms)\n",
      "downloading https://repo1.maven.org/maven2/javax/xml/bind/jaxb-api/2.3.1/jaxb-api-2.3.1.jar ...\n",
      "\t[SUCCESSFUL ] javax.xml.bind#jaxb-api;2.3.1!jaxb-api.jar (204ms)\n",
      "downloading https://repo1.maven.org/maven2/com/google/protobuf/protobuf-java/2.5.0/protobuf-java-2.5.0.jar ...\n",
      "\t[SUCCESSFUL ] com.google.protobuf#protobuf-java;2.5.0!protobuf-java.jar(bundle) (317ms)\n",
      "downloading https://repo1.maven.org/maven2/org/apache/spark/spark-yarn_2.12/3.0.1/spark-yarn_2.12-3.0.1.jar ...\n",
      "\t[SUCCESSFUL ] org.apache.spark#spark-yarn_2.12;3.0.1!spark-yarn_2.12.jar (298ms)\n",
      ":: resolution report :: resolve 19305ms :: artifacts dl 4397ms\n",
      "\t:: modules in use:\n",
      "\tcom.google.protobuf#protobuf-java;2.5.0 from central in [default]\n",
      "\tcommons-logging#commons-logging;1.1.1 from central in [default]\n",
      "\tjavax.xml.bind#jaxb-api;2.3.1 from central in [default]\n",
      "\torg.apache.spark#spark-yarn_2.12;3.0.1 from central in [default]\n",
      "\torg.elasticsearch#elasticsearch-spark-30_2.12;7.14.1 from central in [default]\n",
      "\torg.scala-lang#scala-reflect;2.12.8 from central in [default]\n",
      "\torg.slf4j#slf4j-api;1.7.6 from central in [default]\n",
      "\t---------------------------------------------------------------------\n",
      "\t|                  |            modules            ||   artifacts   |\n",
      "\t|       conf       | number| search|dwnlded|evicted|| number|dwnlded|\n",
      "\t---------------------------------------------------------------------\n",
      "\t|      default     |   7   |   7   |   7   |   0   ||   7   |   7   |\n",
      "\t---------------------------------------------------------------------\n",
      ":: retrieving :: org.apache.spark#spark-submit-parent-a472d1e1-d5a9-402d-9f13-abd3e7c51187\n",
      "\tconfs: [default]\n",
      "\t7 artifacts copied, 0 already retrieved (6668kB/11ms)\n",
      "Setting default log level to \"WARN\".\n",
      "To adjust logging level use sc.setLogLevel(newLevel). For SparkR, use setLogLevel(newLevel).\n",
      "2021-10-24 00:51:41,987 WARN yarn.Client: Neither spark.yarn.jars nor spark.yarn.archive is set, falling back to uploading libraries under SPARK_HOME.\n",
      "2021-10-24 00:51:45,406 WARN yarn.Client: Same path resource file:///root/.ivy2/jars/org.elasticsearch_elasticsearch-spark-30_2.12-7.14.1.jar added multiple times to distributed cache.\n",
      "2021-10-24 00:51:45,406 WARN yarn.Client: Same path resource file:///root/.ivy2/jars/org.scala-lang_scala-reflect-2.12.8.jar added multiple times to distributed cache.\n",
      "2021-10-24 00:51:45,406 WARN yarn.Client: Same path resource file:///root/.ivy2/jars/org.slf4j_slf4j-api-1.7.6.jar added multiple times to distributed cache.\n",
      "2021-10-24 00:51:45,406 WARN yarn.Client: Same path resource file:///root/.ivy2/jars/commons-logging_commons-logging-1.1.1.jar added multiple times to distributed cache.\n",
      "2021-10-24 00:51:45,406 WARN yarn.Client: Same path resource file:///root/.ivy2/jars/javax.xml.bind_jaxb-api-2.3.1.jar added multiple times to distributed cache.\n",
      "2021-10-24 00:51:45,406 WARN yarn.Client: Same path resource file:///root/.ivy2/jars/com.google.protobuf_protobuf-java-2.5.0.jar added multiple times to distributed cache.\n",
      "2021-10-24 00:51:45,406 WARN yarn.Client: Same path resource file:///root/.ivy2/jars/org.apache.spark_spark-yarn_2.12-3.0.1.jar added multiple times to distributed cache.\n"
     ]
    },
    {
     "data": {
      "text/html": [
       "\n",
       "            <div>\n",
       "                <p><b>SparkSession - in-memory</b></p>\n",
       "                \n",
       "        <div>\n",
       "            <p><b>SparkContext</b></p>\n",
       "\n",
       "            <p><a href=\"http://localhost:4040\">Spark UI</a></p>\n",
       "\n",
       "            <dl>\n",
       "              <dt>Version</dt>\n",
       "                <dd><code>v3.2.0</code></dd>\n",
       "              <dt>Master</dt>\n",
       "                <dd><code>yarn</code></dd>\n",
       "              <dt>AppName</dt>\n",
       "                <dd><code>Write to elasticsearch</code></dd>\n",
       "            </dl>\n",
       "        </div>\n",
       "        \n",
       "            </div>\n",
       "        "
      ],
      "text/plain": [
       "<pyspark.sql.session.SparkSession at 0x7fe6855680a0>"
      ]
     },
     "execution_count": 1,
     "metadata": {},
     "output_type": "execute_result"
    }
   ],
   "source": [
    "from pyspark import SparkContext, SparkConf\n",
    "from pyspark.sql import SparkSession\n",
    "\n",
    "spark = SparkSession.builder \\\n",
    "                    .appName('Write to elasticsearch') \\\n",
    "                    .config('spark.jars.packages', 'org.elasticsearch:elasticsearch-spark-30_2.12:7.14.1') \\\n",
    "                    .getOrCreate()\n",
    "\n",
    "spark"
   ]
  },
  {
   "cell_type": "code",
   "execution_count": 2,
   "id": "11a77653-472e-45d7-819f-fde1ed515704",
   "metadata": {},
   "outputs": [
    {
     "name": "stderr",
     "output_type": "stream",
     "text": [
      "[Stage 0:>                                                          (0 + 1) / 1]\r"
     ]
    },
    {
     "name": "stdout",
     "output_type": "stream",
     "text": [
      "+-----+---+\n",
      "| name| id|\n",
      "+-----+---+\n",
      "|Alice|  1|\n",
      "|Braga|  2|\n",
      "|Steve|  3|\n",
      "+-----+---+\n",
      "\n"
     ]
    },
    {
     "name": "stderr",
     "output_type": "stream",
     "text": [
      "                                                                                \r"
     ]
    }
   ],
   "source": [
    "tuple_list_data = [('Alice', 1), ('Braga', 2), ('Steve', 3)]\n",
    "df = spark.createDataFrame(tuple_list_data, ['name', 'id'])\n",
    "df.show()"
   ]
  },
  {
   "cell_type": "code",
   "execution_count": 3,
   "id": "52ebe1e3-4471-4b2a-a0e1-f6453f9db650",
   "metadata": {},
   "outputs": [
    {
     "name": "stderr",
     "output_type": "stream",
     "text": [
      "2021-10-24 00:52:33,120 WARN rest.Resource: Detected type name in resource [example/_doc]. Type names are deprecated and will be removed in a later release.\n",
      "2021-10-24 00:52:33,122 WARN rest.Resource: Detected type name in resource [example/_doc]. Type names are deprecated and will be removed in a later release.\n",
      "                                                                                \r"
     ]
    }
   ],
   "source": [
    "df.write \\\n",
    "    .format(\"org.elasticsearch.spark.sql\") \\\n",
    "    .option(\"es.nodes.wan.only\", \"true\") \\\n",
    "    .option(\"es.net.ssl\", \"false\") \\\n",
    "    .option(\"es.nodes\", \"elasticsearch\") \\\n",
    "    .option(\"es.port\", 9200) \\\n",
    "    .option(\"es.index.auto.create\", \"true\") \\\n",
    "    .option(\"es.resource\", \"example/_doc\") \\\n",
    "    .mode(\"overwrite\") \\\n",
    "    .save()"
   ]
  },
  {
   "cell_type": "code",
   "execution_count": null,
   "id": "b93ef511-9edd-49c7-9213-fa23ab417285",
   "metadata": {},
   "outputs": [],
   "source": []
  }
 ],
 "metadata": {
  "kernelspec": {
   "display_name": "Python 3 (ipykernel)",
   "language": "python",
   "name": "python3"
  },
  "language_info": {
   "codemirror_mode": {
    "name": "ipython",
    "version": 3
   },
   "file_extension": ".py",
   "mimetype": "text/x-python",
   "name": "python",
   "nbconvert_exporter": "python",
   "pygments_lexer": "ipython3",
   "version": "3.9.2"
  }
 },
 "nbformat": 4,
 "nbformat_minor": 5
}
