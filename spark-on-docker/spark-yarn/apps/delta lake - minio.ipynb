{
 "cells": [
  {
   "cell_type": "code",
   "execution_count": 1,
   "id": "7f4cba42-4236-41d0-b79b-a1c3d86ed1ca",
   "metadata": {},
   "outputs": [],
   "source": [
    "from pyspark import SparkContext, SparkConf\n",
    "from pyspark.sql import SparkSession\n",
    "\n",
    "spark = SparkSession.builder \\\n",
    "            .appName(\"Delta Lake - minio\") \\\n",
    "            .config(\"spark.executor.memory\", \"1G\") \\\n",
    "            .config(\"spark.driver.memory\", \"1G\") \\\n",
    "            .config(\"spark.driver.maxResultSize\", \"1G\") \\\n",
    "            .config(\"spark.sql.execution.arrow.pyspark.enabled\", \"true\") \\\n",
    "            .config(\"spark.serializer\", \"org.apache.spark.serializer.KryoSerializer\") \\\n",
    "            .config(\"spark.jars.packages\", \"com.amazonaws:aws-java-sdk-s3:1.12.765,org.apache.hadoop:hadoop-aws:3.4.0,io.delta:delta-spark_2.12:3.2.0\") \\\n",
    "            .config(\"spark.hadoop.fs.s3a.endpoint\", \"http://minio:9000\") \\\n",
    "            .config(\"spark.hadoop.fs.s3a.access.key\", \"myuserserviceaccount\") \\\n",
    "            .config(\"spark.hadoop.fs.s3a.secret.key\", \"myuserserviceaccountpassword\") \\\n",
    "            .config(\"spark.hadoop.fs.s3a.path.style.access\", \"true\") \\\n",
    "            .config(\"spark.hadoop.fs.s3a.impl\", \"org.apache.hadoop.fs.s3a.S3AFileSystem\") \\\n",
    "            .config(\"spark.hadoop.fs.s3a.path.style.access\", \"true\") \\\n",
    "            .config(\"spark.hadoop.fs.s3a.committer.name\", \"directory\") \\\n",
    "            .config(\"spark.hadoop.fs.s3a.committer.staging.conflict-mode\", \"replace\") \\\n",
    "            .config(\"spark.hadoop.fs.s3a.committer.staging.tmp.path\", \"/tmp/staging\") \\\n",
    "            .config(\"spark.sql.extensions\", \"io.delta.sql.DeltaSparkSessionExtension\") \\\n",
    "            .config(\"spark.sql.catalog.spark_catalog\", \"org.apache.spark.sql.delta.catalog.DeltaCatalog\") \\\n",
    "            .config(\"spark.databricks.delta.retentionDurationCheck.enabled\", \"false\") \\\n",
    "            .getOrCreate()\n",
    "\n",
    "spark.sparkContext.setLogLevel(\"ERROR\")\n",
    "spark"
   ]
  },
  {
   "cell_type": "code",
   "execution_count": 2,
   "id": "9857b07a-9017-4436-980e-f497aa2808c8",
   "metadata": {},
   "outputs": [],
   "source": [
    "from datetime import datetime\n",
    "\n",
    "from pyspark.sql.types import StructType, StructField, StringType, IntegerType, DateType\n",
    "from pyspark.sql.functions import lit, col\n",
    "from delta.tables import DeltaTable"
   ]
  },
  {
   "cell_type": "code",
   "execution_count": 3,
   "id": "e7d12971-9370-43a3-b7d5-e99a09e72125",
   "metadata": {
    "scrolled": true
   },
   "outputs": [
    {
     "name": "stderr",
     "output_type": "stream",
     "text": [
      "                                                                                \r"
     ]
    },
    {
     "data": {
      "text/html": [
       "<div>\n",
       "<style scoped>\n",
       "    .dataframe tbody tr th:only-of-type {\n",
       "        vertical-align: middle;\n",
       "    }\n",
       "\n",
       "    .dataframe tbody tr th {\n",
       "        vertical-align: top;\n",
       "    }\n",
       "\n",
       "    .dataframe thead th {\n",
       "        text-align: right;\n",
       "    }\n",
       "</style>\n",
       "<table border=\"1\" class=\"dataframe\">\n",
       "  <thead>\n",
       "    <tr style=\"text-align: right;\">\n",
       "      <th></th>\n",
       "      <th>id</th>\n",
       "      <th>name</th>\n",
       "      <th>updated_at</th>\n",
       "    </tr>\n",
       "  </thead>\n",
       "  <tbody>\n",
       "    <tr>\n",
       "      <th>0</th>\n",
       "      <td>1</td>\n",
       "      <td>Alice</td>\n",
       "      <td>2022-01-01</td>\n",
       "    </tr>\n",
       "    <tr>\n",
       "      <th>1</th>\n",
       "      <td>2</td>\n",
       "      <td>Braga</td>\n",
       "      <td>2022-02-02</td>\n",
       "    </tr>\n",
       "    <tr>\n",
       "      <th>2</th>\n",
       "      <td>3</td>\n",
       "      <td>Steve</td>\n",
       "      <td>2022-03-03</td>\n",
       "    </tr>\n",
       "  </tbody>\n",
       "</table>\n",
       "</div>"
      ],
      "text/plain": [
       "   id   name  updated_at\n",
       "0   1  Alice  2022-01-01\n",
       "1   2  Braga  2022-02-02\n",
       "2   3  Steve  2022-03-03"
      ]
     },
     "execution_count": 3,
     "metadata": {},
     "output_type": "execute_result"
    }
   ],
   "source": [
    "data =  [{'id': 1, 'name': 'Alice', 'updated_at': datetime(2022, 1, 1)},\n",
    "         {'id': 2, 'name': 'Braga', 'updated_at': datetime(2022, 2, 2)},\n",
    "         {'id': 3, 'name': 'Steve', 'updated_at': datetime(2022, 3, 3)}]\n",
    "\n",
    "schema = StructType([StructField('id', IntegerType(), nullable=True),\n",
    "                     StructField('name', StringType(), nullable=True),\n",
    "                     StructField('updated_at', DateType(), nullable=True)])\n",
    "\n",
    "df = spark.createDataFrame(data, schema=schema)\n",
    "df.toPandas()"
   ]
  },
  {
   "cell_type": "code",
   "execution_count": 4,
   "id": "b02541d4-c10b-4e5b-bd5e-56f4d46321cc",
   "metadata": {},
   "outputs": [],
   "source": [
    "bucket = \"my-bucket\""
   ]
  },
  {
   "cell_type": "markdown",
   "id": "03d4acc7-980e-480d-970a-d745e8928ca3",
   "metadata": {},
   "source": [
    "# Create Delta Table from DF"
   ]
  },
  {
   "cell_type": "markdown",
   "id": "bff445e4-c0dd-45c7-b94a-6a43ca091a72",
   "metadata": {},
   "source": [
    "### Create delta table from DF"
   ]
  },
  {
   "cell_type": "code",
   "execution_count": 5,
   "id": "206fe19d-24ab-4b8e-95b7-61bc67dbb9b5",
   "metadata": {
    "scrolled": true
   },
   "outputs": [
    {
     "name": "stderr",
     "output_type": "stream",
     "text": [
      "                                                                                \r"
     ]
    }
   ],
   "source": [
    "df.write.format(\"delta\") \\\n",
    "  .mode(\"overwrite\") \\\n",
    "  .option(\"mergeSchema\", \"true\") \\\n",
    "  .save(f\"s3a://{bucket}//delta-lake/users\")"
   ]
  },
  {
   "cell_type": "markdown",
   "id": "ea7523a0-fffd-4330-8d92-efa7775e9c47",
   "metadata": {},
   "source": [
    "### Create table without data"
   ]
  },
  {
   "cell_type": "code",
   "execution_count": 7,
   "id": "ee6be46f-e6a8-45ef-884a-a3eb6ad12e50",
   "metadata": {
    "scrolled": true
   },
   "outputs": [],
   "source": [
    "my_table = DeltaTable.createOrReplace(spark) \\\n",
    "  .addColumn(\"id\", \"INT\") \\\n",
    "  .addColumn(\"firstName\", \"STRING\") \\\n",
    "  .addColumn(\"middleName\", \"STRING\") \\\n",
    "  .addColumn(\"lastName\", \"STRING\", comment = \"surname\") \\\n",
    "  .addColumn(\"gender\", \"STRING\") \\\n",
    "  .addColumn(\"birthDate\", \"TIMESTAMP\") \\\n",
    "  .addColumn(\"ssn\", \"STRING\") \\\n",
    "  .addColumn(\"salary\", \"INT\") \\\n",
    "  .property(\"description\", \"table with people info\") \\\n",
    "  .location(f\"s3a://{bucket}/delta-lake/employees\") \\\n",
    "  .execute()"
   ]
  },
  {
   "cell_type": "markdown",
   "id": "c970952c-57ff-4437-bfa3-bf5299ead1f3",
   "metadata": {},
   "source": [
    "## Read Delta Table"
   ]
  },
  {
   "cell_type": "markdown",
   "id": "f1bcdde1-6d32-4e6c-b7ba-24cad11adc74",
   "metadata": {},
   "source": [
    "### Read as Delta Table"
   ]
  },
  {
   "cell_type": "code",
   "execution_count": 8,
   "id": "cc711eee-64f6-4350-a6d6-1226c63e6e05",
   "metadata": {
    "scrolled": true
   },
   "outputs": [
    {
     "name": "stderr",
     "output_type": "stream",
     "text": [
      "                                                                                \r"
     ]
    },
    {
     "data": {
      "text/html": [
       "<div>\n",
       "<style scoped>\n",
       "    .dataframe tbody tr th:only-of-type {\n",
       "        vertical-align: middle;\n",
       "    }\n",
       "\n",
       "    .dataframe tbody tr th {\n",
       "        vertical-align: top;\n",
       "    }\n",
       "\n",
       "    .dataframe thead th {\n",
       "        text-align: right;\n",
       "    }\n",
       "</style>\n",
       "<table border=\"1\" class=\"dataframe\">\n",
       "  <thead>\n",
       "    <tr style=\"text-align: right;\">\n",
       "      <th></th>\n",
       "      <th>id</th>\n",
       "      <th>firstName</th>\n",
       "      <th>middleName</th>\n",
       "      <th>lastName</th>\n",
       "      <th>gender</th>\n",
       "      <th>birthDate</th>\n",
       "      <th>ssn</th>\n",
       "      <th>salary</th>\n",
       "    </tr>\n",
       "  </thead>\n",
       "  <tbody>\n",
       "  </tbody>\n",
       "</table>\n",
       "</div>"
      ],
      "text/plain": [
       "Empty DataFrame\n",
       "Columns: [id, firstName, middleName, lastName, gender, birthDate, ssn, salary]\n",
       "Index: []"
      ]
     },
     "execution_count": 8,
     "metadata": {},
     "output_type": "execute_result"
    }
   ],
   "source": [
    "from pyspark.sql import functions as F\n",
    "\n",
    "# Read delta table in delta format\n",
    "my_table = DeltaTable.forPath(spark, f\"s3a://{bucket}/delta-lake/employees\")\n",
    "\n",
    "# in order to fix the casting error dtype 'datetime64' is not supported: cast datetime fields\n",
    "my_table.toDF().withColumn('birthDate', F.from_unixtime(F.unix_timestamp('birthDate'))).toPandas()\n",
    "\n",
    "# or\n",
    "# my_table.toDF().show()"
   ]
  },
  {
   "cell_type": "markdown",
   "id": "aaf9e226-42c8-4cf2-a65c-547eac23bae8",
   "metadata": {},
   "source": [
    "### Read as DF"
   ]
  },
  {
   "cell_type": "code",
   "execution_count": 9,
   "id": "ef43a136-14e2-49b9-8264-8108cffb4e9a",
   "metadata": {
    "scrolled": true
   },
   "outputs": [
    {
     "name": "stderr",
     "output_type": "stream",
     "text": [
      "                                                                                \r"
     ]
    },
    {
     "data": {
      "text/html": [
       "<div>\n",
       "<style scoped>\n",
       "    .dataframe tbody tr th:only-of-type {\n",
       "        vertical-align: middle;\n",
       "    }\n",
       "\n",
       "    .dataframe tbody tr th {\n",
       "        vertical-align: top;\n",
       "    }\n",
       "\n",
       "    .dataframe thead th {\n",
       "        text-align: right;\n",
       "    }\n",
       "</style>\n",
       "<table border=\"1\" class=\"dataframe\">\n",
       "  <thead>\n",
       "    <tr style=\"text-align: right;\">\n",
       "      <th></th>\n",
       "      <th>id</th>\n",
       "      <th>name</th>\n",
       "      <th>updated_at</th>\n",
       "    </tr>\n",
       "  </thead>\n",
       "  <tbody>\n",
       "    <tr>\n",
       "      <th>0</th>\n",
       "      <td>2</td>\n",
       "      <td>Braga</td>\n",
       "      <td>2022-02-02</td>\n",
       "    </tr>\n",
       "    <tr>\n",
       "      <th>1</th>\n",
       "      <td>3</td>\n",
       "      <td>Steve</td>\n",
       "      <td>2022-03-03</td>\n",
       "    </tr>\n",
       "    <tr>\n",
       "      <th>2</th>\n",
       "      <td>1</td>\n",
       "      <td>Alice</td>\n",
       "      <td>2022-01-01</td>\n",
       "    </tr>\n",
       "  </tbody>\n",
       "</table>\n",
       "</div>"
      ],
      "text/plain": [
       "   id   name  updated_at\n",
       "0   2  Braga  2022-02-02\n",
       "1   3  Steve  2022-03-03\n",
       "2   1  Alice  2022-01-01"
      ]
     },
     "execution_count": 9,
     "metadata": {},
     "output_type": "execute_result"
    }
   ],
   "source": [
    "spark.read.format(\"delta\") \\\n",
    "     .load(f\"s3a://{bucket}/delta-lake/users\") \\\n",
    "     .toPandas()\n",
    "\n",
    "# spark.read.format(\"parquet\") \\\n",
    "#      .load(f\"s3a://{bucket}//delta-lake/users\") \\\n",
    "#      .show()"
   ]
  },
  {
   "cell_type": "markdown",
   "id": "3d1b34d1-1c33-4c58-811f-8ebd8c22eb89",
   "metadata": {},
   "source": [
    "### Read as DF using SQL"
   ]
  },
  {
   "cell_type": "code",
   "execution_count": 10,
   "id": "023cc699-8a31-4560-953c-9f69cabfaac5",
   "metadata": {
    "scrolled": true
   },
   "outputs": [
    {
     "name": "stderr",
     "output_type": "stream",
     "text": [
      "                                                                                \r"
     ]
    },
    {
     "data": {
      "text/html": [
       "<div>\n",
       "<style scoped>\n",
       "    .dataframe tbody tr th:only-of-type {\n",
       "        vertical-align: middle;\n",
       "    }\n",
       "\n",
       "    .dataframe tbody tr th {\n",
       "        vertical-align: top;\n",
       "    }\n",
       "\n",
       "    .dataframe thead th {\n",
       "        text-align: right;\n",
       "    }\n",
       "</style>\n",
       "<table border=\"1\" class=\"dataframe\">\n",
       "  <thead>\n",
       "    <tr style=\"text-align: right;\">\n",
       "      <th></th>\n",
       "      <th>id</th>\n",
       "      <th>name</th>\n",
       "      <th>updated_at</th>\n",
       "    </tr>\n",
       "  </thead>\n",
       "  <tbody>\n",
       "    <tr>\n",
       "      <th>0</th>\n",
       "      <td>2</td>\n",
       "      <td>Braga</td>\n",
       "      <td>2022-02-02</td>\n",
       "    </tr>\n",
       "    <tr>\n",
       "      <th>1</th>\n",
       "      <td>3</td>\n",
       "      <td>Steve</td>\n",
       "      <td>2022-03-03</td>\n",
       "    </tr>\n",
       "    <tr>\n",
       "      <th>2</th>\n",
       "      <td>1</td>\n",
       "      <td>Alice</td>\n",
       "      <td>2022-01-01</td>\n",
       "    </tr>\n",
       "  </tbody>\n",
       "</table>\n",
       "</div>"
      ],
      "text/plain": [
       "   id   name  updated_at\n",
       "0   2  Braga  2022-02-02\n",
       "1   3  Steve  2022-03-03\n",
       "2   1  Alice  2022-01-01"
      ]
     },
     "execution_count": 10,
     "metadata": {},
     "output_type": "execute_result"
    }
   ],
   "source": [
    "spark.sql(f\"\"\"\n",
    "    SELECT * FROM delta.`s3a://{bucket}/delta-lake/users`\n",
    "\"\"\").toPandas()"
   ]
  },
  {
   "cell_type": "markdown",
   "id": "23a04777-5946-4af7-a1cd-728e4bd736a4",
   "metadata": {},
   "source": [
    "## Describe tables"
   ]
  },
  {
   "cell_type": "code",
   "execution_count": 11,
   "id": "1c458d1e-d49b-403f-88dc-ec039a3b3585",
   "metadata": {
    "scrolled": true
   },
   "outputs": [
    {
     "name": "stderr",
     "output_type": "stream",
     "text": [
      "                                                                                \r"
     ]
    },
    {
     "data": {
      "text/html": [
       "<div>\n",
       "<style scoped>\n",
       "    .dataframe tbody tr th:only-of-type {\n",
       "        vertical-align: middle;\n",
       "    }\n",
       "\n",
       "    .dataframe tbody tr th {\n",
       "        vertical-align: top;\n",
       "    }\n",
       "\n",
       "    .dataframe thead th {\n",
       "        text-align: right;\n",
       "    }\n",
       "</style>\n",
       "<table border=\"1\" class=\"dataframe\">\n",
       "  <thead>\n",
       "    <tr style=\"text-align: right;\">\n",
       "      <th></th>\n",
       "      <th>version</th>\n",
       "      <th>timestamp</th>\n",
       "      <th>userId</th>\n",
       "      <th>userName</th>\n",
       "      <th>operation</th>\n",
       "      <th>operationParameters</th>\n",
       "      <th>job</th>\n",
       "      <th>notebook</th>\n",
       "      <th>clusterId</th>\n",
       "      <th>readVersion</th>\n",
       "      <th>isolationLevel</th>\n",
       "      <th>isBlindAppend</th>\n",
       "      <th>operationMetrics</th>\n",
       "      <th>userMetadata</th>\n",
       "      <th>engineInfo</th>\n",
       "    </tr>\n",
       "  </thead>\n",
       "  <tbody>\n",
       "    <tr>\n",
       "      <th>0</th>\n",
       "      <td>0</td>\n",
       "      <td>2024-08-02 01:51:11</td>\n",
       "      <td>None</td>\n",
       "      <td>None</td>\n",
       "      <td>CREATE OR REPLACE TABLE</td>\n",
       "      <td>{'partitionBy': '[]', 'clusterBy': '[]', 'desc...</td>\n",
       "      <td>None</td>\n",
       "      <td>None</td>\n",
       "      <td>None</td>\n",
       "      <td>NaN</td>\n",
       "      <td>Serializable</td>\n",
       "      <td>True</td>\n",
       "      <td>{}</td>\n",
       "      <td>None</td>\n",
       "      <td>Apache-Spark/3.5.1 Delta-Lake/3.2.0</td>\n",
       "    </tr>\n",
       "  </tbody>\n",
       "</table>\n",
       "</div>"
      ],
      "text/plain": [
       "   version            timestamp userId userName                operation  \\\n",
       "0        0  2024-08-02 01:51:11   None     None  CREATE OR REPLACE TABLE   \n",
       "\n",
       "                                 operationParameters   job notebook clusterId  \\\n",
       "0  {'partitionBy': '[]', 'clusterBy': '[]', 'desc...  None     None      None   \n",
       "\n",
       "   readVersion isolationLevel  isBlindAppend operationMetrics userMetadata  \\\n",
       "0          NaN   Serializable           True               {}         None   \n",
       "\n",
       "                            engineInfo  \n",
       "0  Apache-Spark/3.5.1 Delta-Lake/3.2.0  "
      ]
     },
     "execution_count": 11,
     "metadata": {},
     "output_type": "execute_result"
    }
   ],
   "source": [
    "from pyspark.sql import functions as F\n",
    "\n",
    "# Read empty delta table in delta format\n",
    "my_table = DeltaTable.forPath(spark, f\"s3a://{bucket}/delta-lake/employees\")\n",
    "history_df = my_table.history()\n",
    "\n",
    "# history_df.toPandas() # returns Casting to unit-less dtype 'datetime64' is not supported. Pass e.g. 'datetime64[ns]' instead.\n",
    "\n",
    "# in order to fix the above error: cast datetime fields\n",
    "history_df.withColumn('timestamp', F.from_unixtime(F.unix_timestamp('timestamp'))).toPandas()\n",
    "\n",
    "# history_df.withColumn('timestamp', F.from_unixtime(F.unix_timestamp('timestamp'))).dtypes\n",
    "\n",
    "# history_df.show(truncate=False)"
   ]
  },
  {
   "cell_type": "code",
   "execution_count": 12,
   "id": "777daf54-072a-4d8e-9546-f7cdcfa2f08b",
   "metadata": {},
   "outputs": [
    {
     "data": {
      "text/html": [
       "<div>\n",
       "<style scoped>\n",
       "    .dataframe tbody tr th:only-of-type {\n",
       "        vertical-align: middle;\n",
       "    }\n",
       "\n",
       "    .dataframe tbody tr th {\n",
       "        vertical-align: top;\n",
       "    }\n",
       "\n",
       "    .dataframe thead th {\n",
       "        text-align: right;\n",
       "    }\n",
       "</style>\n",
       "<table border=\"1\" class=\"dataframe\">\n",
       "  <thead>\n",
       "    <tr style=\"text-align: right;\">\n",
       "      <th></th>\n",
       "      <th>format</th>\n",
       "      <th>id</th>\n",
       "      <th>name</th>\n",
       "      <th>description</th>\n",
       "      <th>location</th>\n",
       "      <th>createdAt</th>\n",
       "      <th>lastModified</th>\n",
       "      <th>partitionColumns</th>\n",
       "      <th>clusteringColumns</th>\n",
       "      <th>numFiles</th>\n",
       "      <th>sizeInBytes</th>\n",
       "      <th>properties</th>\n",
       "      <th>minReaderVersion</th>\n",
       "      <th>minWriterVersion</th>\n",
       "      <th>tableFeatures</th>\n",
       "    </tr>\n",
       "  </thead>\n",
       "  <tbody>\n",
       "    <tr>\n",
       "      <th>0</th>\n",
       "      <td>delta</td>\n",
       "      <td>b7de3eb1-a632-40f4-af01-57763de6e772</td>\n",
       "      <td>None</td>\n",
       "      <td>None</td>\n",
       "      <td>s3a://my-bucket/delta-lake/employees</td>\n",
       "      <td>2024-08-02 01:51:11</td>\n",
       "      <td>2024-08-02 01:51:11</td>\n",
       "      <td>[]</td>\n",
       "      <td>[]</td>\n",
       "      <td>0</td>\n",
       "      <td>0</td>\n",
       "      <td>{'description': 'table with people info'}</td>\n",
       "      <td>1</td>\n",
       "      <td>2</td>\n",
       "      <td>[appendOnly, invariants]</td>\n",
       "    </tr>\n",
       "  </tbody>\n",
       "</table>\n",
       "</div>"
      ],
      "text/plain": [
       "  format                                    id  name description  \\\n",
       "0  delta  b7de3eb1-a632-40f4-af01-57763de6e772  None        None   \n",
       "\n",
       "                               location            createdAt  \\\n",
       "0  s3a://my-bucket/delta-lake/employees  2024-08-02 01:51:11   \n",
       "\n",
       "          lastModified partitionColumns clusteringColumns  numFiles  \\\n",
       "0  2024-08-02 01:51:11               []                []         0   \n",
       "\n",
       "   sizeInBytes                                 properties  minReaderVersion  \\\n",
       "0            0  {'description': 'table with people info'}                 1   \n",
       "\n",
       "   minWriterVersion             tableFeatures  \n",
       "0                 2  [appendOnly, invariants]  "
      ]
     },
     "execution_count": 12,
     "metadata": {},
     "output_type": "execute_result"
    }
   ],
   "source": [
    "my_table.detail() \\\n",
    ".withColumn('createdAt', F.from_unixtime(F.unix_timestamp('createdAt'))) \\\n",
    ".withColumn('lastModified', F.from_unixtime(F.unix_timestamp('lastModified'))) \\\n",
    ".toPandas()\n",
    "\n",
    "# my_table.detail().show()"
   ]
  },
  {
   "cell_type": "code",
   "execution_count": 13,
   "id": "2943a7c9-125e-4efc-a7fc-2d337e0b20fc",
   "metadata": {},
   "outputs": [
    {
     "data": {
      "text/html": [
       "<div>\n",
       "<style scoped>\n",
       "    .dataframe tbody tr th:only-of-type {\n",
       "        vertical-align: middle;\n",
       "    }\n",
       "\n",
       "    .dataframe tbody tr th {\n",
       "        vertical-align: top;\n",
       "    }\n",
       "\n",
       "    .dataframe thead th {\n",
       "        text-align: right;\n",
       "    }\n",
       "</style>\n",
       "<table border=\"1\" class=\"dataframe\">\n",
       "  <thead>\n",
       "    <tr style=\"text-align: right;\">\n",
       "      <th></th>\n",
       "      <th>version</th>\n",
       "      <th>timestamp</th>\n",
       "      <th>userId</th>\n",
       "      <th>userName</th>\n",
       "      <th>operation</th>\n",
       "      <th>operationParameters</th>\n",
       "      <th>job</th>\n",
       "      <th>notebook</th>\n",
       "      <th>clusterId</th>\n",
       "      <th>readVersion</th>\n",
       "      <th>isolationLevel</th>\n",
       "      <th>isBlindAppend</th>\n",
       "      <th>operationMetrics</th>\n",
       "      <th>userMetadata</th>\n",
       "      <th>engineInfo</th>\n",
       "    </tr>\n",
       "  </thead>\n",
       "  <tbody>\n",
       "    <tr>\n",
       "      <th>0</th>\n",
       "      <td>0</td>\n",
       "      <td>2024-08-02 01:51:10</td>\n",
       "      <td>None</td>\n",
       "      <td>None</td>\n",
       "      <td>WRITE</td>\n",
       "      <td>{'mode': 'Overwrite', 'partitionBy': '[]'}</td>\n",
       "      <td>None</td>\n",
       "      <td>None</td>\n",
       "      <td>None</td>\n",
       "      <td>NaN</td>\n",
       "      <td>Serializable</td>\n",
       "      <td>False</td>\n",
       "      <td>{'numFiles': '2', 'numOutputRows': '3', 'numOu...</td>\n",
       "      <td>None</td>\n",
       "      <td>Apache-Spark/3.5.1 Delta-Lake/3.2.0</td>\n",
       "    </tr>\n",
       "  </tbody>\n",
       "</table>\n",
       "</div>"
      ],
      "text/plain": [
       "   version            timestamp userId userName operation  \\\n",
       "0        0  2024-08-02 01:51:10   None     None     WRITE   \n",
       "\n",
       "                          operationParameters   job notebook clusterId  \\\n",
       "0  {'mode': 'Overwrite', 'partitionBy': '[]'}  None     None      None   \n",
       "\n",
       "   readVersion isolationLevel  isBlindAppend  \\\n",
       "0          NaN   Serializable          False   \n",
       "\n",
       "                                    operationMetrics userMetadata  \\\n",
       "0  {'numFiles': '2', 'numOutputRows': '3', 'numOu...         None   \n",
       "\n",
       "                            engineInfo  \n",
       "0  Apache-Spark/3.5.1 Delta-Lake/3.2.0  "
      ]
     },
     "execution_count": 13,
     "metadata": {},
     "output_type": "execute_result"
    }
   ],
   "source": [
    "users_table = DeltaTable.forPath(spark, f\"s3a://{bucket}/delta-lake/users\")\n",
    "\n",
    "users_table.history().withColumn('timestamp', F.from_unixtime(F.unix_timestamp('timestamp'))).toPandas()"
   ]
  },
  {
   "cell_type": "markdown",
   "id": "1305931e-7ed5-4718-a8e9-ba7e33c8d546",
   "metadata": {
    "tags": []
   },
   "source": [
    "## Upsert (Merge) new Data"
   ]
  },
  {
   "cell_type": "code",
   "execution_count": 14,
   "id": "64cf4061-8e7f-47a6-a660-a3df43a3cc47",
   "metadata": {
    "scrolled": true
   },
   "outputs": [
    {
     "name": "stderr",
     "output_type": "stream",
     "text": [
      "                                                                                \r"
     ]
    },
    {
     "data": {
      "text/html": [
       "<div>\n",
       "<style scoped>\n",
       "    .dataframe tbody tr th:only-of-type {\n",
       "        vertical-align: middle;\n",
       "    }\n",
       "\n",
       "    .dataframe tbody tr th {\n",
       "        vertical-align: top;\n",
       "    }\n",
       "\n",
       "    .dataframe thead th {\n",
       "        text-align: right;\n",
       "    }\n",
       "</style>\n",
       "<table border=\"1\" class=\"dataframe\">\n",
       "  <thead>\n",
       "    <tr style=\"text-align: right;\">\n",
       "      <th></th>\n",
       "      <th>id</th>\n",
       "      <th>name</th>\n",
       "      <th>updated_at</th>\n",
       "    </tr>\n",
       "  </thead>\n",
       "  <tbody>\n",
       "    <tr>\n",
       "      <th>0</th>\n",
       "      <td>2</td>\n",
       "      <td>Braga</td>\n",
       "      <td>2022-02-02 00:00:00</td>\n",
       "    </tr>\n",
       "    <tr>\n",
       "      <th>1</th>\n",
       "      <td>3</td>\n",
       "      <td>Steve</td>\n",
       "      <td>2022-03-03 00:00:00</td>\n",
       "    </tr>\n",
       "    <tr>\n",
       "      <th>2</th>\n",
       "      <td>1</td>\n",
       "      <td>Alice</td>\n",
       "      <td>2022-01-01 00:00:00</td>\n",
       "    </tr>\n",
       "  </tbody>\n",
       "</table>\n",
       "</div>"
      ],
      "text/plain": [
       "   id   name           updated_at\n",
       "0   2  Braga  2022-02-02 00:00:00\n",
       "1   3  Steve  2022-03-03 00:00:00\n",
       "2   1  Alice  2022-01-01 00:00:00"
      ]
     },
     "execution_count": 14,
     "metadata": {},
     "output_type": "execute_result"
    }
   ],
   "source": [
    "from pyspark.sql import functions as F\n",
    "\n",
    "users_table = DeltaTable.forPath(spark, f\"s3a://{bucket}/delta-lake/users\")\n",
    "\n",
    "users_table.toDF().withColumn('updated_at', F.from_unixtime(F.unix_timestamp('updated_at'))).toPandas()"
   ]
  },
  {
   "cell_type": "code",
   "execution_count": 15,
   "id": "aa5f0de7-2a33-4252-9546-bcf430b65eb4",
   "metadata": {
    "scrolled": true
   },
   "outputs": [
    {
     "data": {
      "text/html": [
       "<div>\n",
       "<style scoped>\n",
       "    .dataframe tbody tr th:only-of-type {\n",
       "        vertical-align: middle;\n",
       "    }\n",
       "\n",
       "    .dataframe tbody tr th {\n",
       "        vertical-align: top;\n",
       "    }\n",
       "\n",
       "    .dataframe thead th {\n",
       "        text-align: right;\n",
       "    }\n",
       "</style>\n",
       "<table border=\"1\" class=\"dataframe\">\n",
       "  <thead>\n",
       "    <tr style=\"text-align: right;\">\n",
       "      <th></th>\n",
       "      <th>id</th>\n",
       "      <th>name</th>\n",
       "      <th>updated_at</th>\n",
       "    </tr>\n",
       "  </thead>\n",
       "  <tbody>\n",
       "    <tr>\n",
       "      <th>0</th>\n",
       "      <td>1</td>\n",
       "      <td>Alice</td>\n",
       "      <td>2022-01-02</td>\n",
       "    </tr>\n",
       "    <tr>\n",
       "      <th>1</th>\n",
       "      <td>10</td>\n",
       "      <td>Jose</td>\n",
       "      <td>2023-01-02</td>\n",
       "    </tr>\n",
       "    <tr>\n",
       "      <th>2</th>\n",
       "      <td>4</td>\n",
       "      <td>Carell</td>\n",
       "      <td>2022-04-04</td>\n",
       "    </tr>\n",
       "  </tbody>\n",
       "</table>\n",
       "</div>"
      ],
      "text/plain": [
       "   id    name  updated_at\n",
       "0   1   Alice  2022-01-02\n",
       "1  10    Jose  2023-01-02\n",
       "2   4  Carell  2022-04-04"
      ]
     },
     "execution_count": 15,
     "metadata": {},
     "output_type": "execute_result"
    }
   ],
   "source": [
    "new_data = [{'id': 1, 'name': 'Alice', 'updated_at': datetime(2022, 1, 2)},\n",
    "            {'id': 10, 'name': 'Jose', 'updated_at': datetime(2023, 1, 2)},\n",
    "            {'id': 4, 'name': 'Carell', 'updated_at': datetime(2022, 4, 4)}]\n",
    "\n",
    "new_data_df = spark.createDataFrame(new_data, schema=schema)\n",
    "new_data_df.toPandas()"
   ]
  },
  {
   "cell_type": "code",
   "execution_count": 16,
   "id": "f2b9c6ae-dde1-4496-92a1-37035b5f19ad",
   "metadata": {
    "scrolled": true
   },
   "outputs": [
    {
     "name": "stderr",
     "output_type": "stream",
     "text": [
      "                                                                                \r"
     ]
    },
    {
     "data": {
      "text/html": [
       "<div>\n",
       "<style scoped>\n",
       "    .dataframe tbody tr th:only-of-type {\n",
       "        vertical-align: middle;\n",
       "    }\n",
       "\n",
       "    .dataframe tbody tr th {\n",
       "        vertical-align: top;\n",
       "    }\n",
       "\n",
       "    .dataframe thead th {\n",
       "        text-align: right;\n",
       "    }\n",
       "</style>\n",
       "<table border=\"1\" class=\"dataframe\">\n",
       "  <thead>\n",
       "    <tr style=\"text-align: right;\">\n",
       "      <th></th>\n",
       "      <th>id</th>\n",
       "      <th>name</th>\n",
       "      <th>updated_at</th>\n",
       "    </tr>\n",
       "  </thead>\n",
       "  <tbody>\n",
       "    <tr>\n",
       "      <th>0</th>\n",
       "      <td>1</td>\n",
       "      <td>Alice</td>\n",
       "      <td>2022-01-02</td>\n",
       "    </tr>\n",
       "    <tr>\n",
       "      <th>1</th>\n",
       "      <td>4</td>\n",
       "      <td>Carell</td>\n",
       "      <td>2022-04-04</td>\n",
       "    </tr>\n",
       "    <tr>\n",
       "      <th>2</th>\n",
       "      <td>10</td>\n",
       "      <td>Jose</td>\n",
       "      <td>2023-01-02</td>\n",
       "    </tr>\n",
       "    <tr>\n",
       "      <th>3</th>\n",
       "      <td>2</td>\n",
       "      <td>Braga</td>\n",
       "      <td>2022-02-02</td>\n",
       "    </tr>\n",
       "    <tr>\n",
       "      <th>4</th>\n",
       "      <td>3</td>\n",
       "      <td>Steve</td>\n",
       "      <td>2022-03-03</td>\n",
       "    </tr>\n",
       "  </tbody>\n",
       "</table>\n",
       "</div>"
      ],
      "text/plain": [
       "   id    name  updated_at\n",
       "0   1   Alice  2022-01-02\n",
       "1   4  Carell  2022-04-04\n",
       "2  10    Jose  2023-01-02\n",
       "3   2   Braga  2022-02-02\n",
       "4   3   Steve  2022-03-03"
      ]
     },
     "execution_count": 16,
     "metadata": {},
     "output_type": "execute_result"
    }
   ],
   "source": [
    "users_table.alias(\"old_data\") \\\n",
    "           .merge(source=new_data_df.alias(\"new_data\"), condition=\"old_data.id = new_data.id\") \\\n",
    "           .whenMatchedUpdate(set={\n",
    "                                    \"updated_at\": \"new_data.updated_at\"\n",
    "                              }) \\\n",
    "           .whenNotMatchedInsert(values={\n",
    "                                            \"id\": \"new_data.id\",\n",
    "                                            \"name\": \"new_data.name\",\n",
    "                                            \"updated_at\": \"new_data.updated_at\"\n",
    "                                }) \\\n",
    "           .execute()\n",
    "\n",
    "users_table.toDF().toPandas()"
   ]
  },
  {
   "cell_type": "code",
   "execution_count": 17,
   "id": "4fdc734b-fdf6-4bf3-88bf-187b82ca1823",
   "metadata": {
    "scrolled": true
   },
   "outputs": [
    {
     "name": "stderr",
     "output_type": "stream",
     "text": [
      "                                                                                \r"
     ]
    },
    {
     "data": {
      "text/html": [
       "<div>\n",
       "<style scoped>\n",
       "    .dataframe tbody tr th:only-of-type {\n",
       "        vertical-align: middle;\n",
       "    }\n",
       "\n",
       "    .dataframe tbody tr th {\n",
       "        vertical-align: top;\n",
       "    }\n",
       "\n",
       "    .dataframe thead th {\n",
       "        text-align: right;\n",
       "    }\n",
       "</style>\n",
       "<table border=\"1\" class=\"dataframe\">\n",
       "  <thead>\n",
       "    <tr style=\"text-align: right;\">\n",
       "      <th></th>\n",
       "      <th>id</th>\n",
       "      <th>name</th>\n",
       "      <th>updated_at</th>\n",
       "    </tr>\n",
       "  </thead>\n",
       "  <tbody>\n",
       "    <tr>\n",
       "      <th>0</th>\n",
       "      <td>1</td>\n",
       "      <td>Alice</td>\n",
       "      <td>2022-01-02</td>\n",
       "    </tr>\n",
       "    <tr>\n",
       "      <th>1</th>\n",
       "      <td>4</td>\n",
       "      <td>Carell</td>\n",
       "      <td>2022-04-04</td>\n",
       "    </tr>\n",
       "    <tr>\n",
       "      <th>2</th>\n",
       "      <td>10</td>\n",
       "      <td>Jose</td>\n",
       "      <td>2023-01-02</td>\n",
       "    </tr>\n",
       "    <tr>\n",
       "      <th>3</th>\n",
       "      <td>2</td>\n",
       "      <td>Braga</td>\n",
       "      <td>2022-02-02</td>\n",
       "    </tr>\n",
       "    <tr>\n",
       "      <th>4</th>\n",
       "      <td>3</td>\n",
       "      <td>Steve</td>\n",
       "      <td>2022-03-03</td>\n",
       "    </tr>\n",
       "  </tbody>\n",
       "</table>\n",
       "</div>"
      ],
      "text/plain": [
       "   id    name  updated_at\n",
       "0   1   Alice  2022-01-02\n",
       "1   4  Carell  2022-04-04\n",
       "2  10    Jose  2023-01-02\n",
       "3   2   Braga  2022-02-02\n",
       "4   3   Steve  2022-03-03"
      ]
     },
     "execution_count": 17,
     "metadata": {},
     "output_type": "execute_result"
    }
   ],
   "source": [
    "users_table.alias(\"old_data\") \\\n",
    "           .merge(source=new_data_df.alias(\"new_data\"), condition=\"old_data.id = new_data.id\") \\\n",
    "           .whenMatchedUpdateAll() \\\n",
    "           .whenNotMatchedInsertAll() \\\n",
    "           .execute()\n",
    "\n",
    "users_table.toDF().toPandas()"
   ]
  },
  {
   "cell_type": "markdown",
   "id": "d978ba37-ff16-4de1-bf98-9f7adac53850",
   "metadata": {},
   "source": [
    "## Read new/updates records only"
   ]
  },
  {
   "cell_type": "code",
   "execution_count": 18,
   "id": "1c8631ea-23c2-4a37-8cfa-97d008827c76",
   "metadata": {
    "scrolled": true
   },
   "outputs": [
    {
     "data": {
      "text/plain": [
       "DataFrame[]"
      ]
     },
     "execution_count": 18,
     "metadata": {},
     "output_type": "execute_result"
    }
   ],
   "source": [
    "spark.sql(f\"\"\"\n",
    "    ALTER TABLE delta.`s3a://{bucket}/delta-lake/users` SET TBLPROPERTIES (delta.enableChangeDataFeed = true)\n",
    "\"\"\")"
   ]
  },
  {
   "cell_type": "code",
   "execution_count": 19,
   "id": "8be3e37a-a6a9-4f53-b1c0-c954fc157ca2",
   "metadata": {
    "scrolled": true
   },
   "outputs": [
    {
     "data": {
      "text/html": [
       "<div>\n",
       "<style scoped>\n",
       "    .dataframe tbody tr th:only-of-type {\n",
       "        vertical-align: middle;\n",
       "    }\n",
       "\n",
       "    .dataframe tbody tr th {\n",
       "        vertical-align: top;\n",
       "    }\n",
       "\n",
       "    .dataframe thead th {\n",
       "        text-align: right;\n",
       "    }\n",
       "</style>\n",
       "<table border=\"1\" class=\"dataframe\">\n",
       "  <thead>\n",
       "    <tr style=\"text-align: right;\">\n",
       "      <th></th>\n",
       "      <th>version</th>\n",
       "      <th>timestamp</th>\n",
       "      <th>userId</th>\n",
       "      <th>userName</th>\n",
       "      <th>operation</th>\n",
       "      <th>operationParameters</th>\n",
       "      <th>job</th>\n",
       "      <th>notebook</th>\n",
       "      <th>clusterId</th>\n",
       "      <th>readVersion</th>\n",
       "      <th>isolationLevel</th>\n",
       "      <th>isBlindAppend</th>\n",
       "      <th>operationMetrics</th>\n",
       "      <th>userMetadata</th>\n",
       "      <th>engineInfo</th>\n",
       "    </tr>\n",
       "  </thead>\n",
       "  <tbody>\n",
       "    <tr>\n",
       "      <th>0</th>\n",
       "      <td>3</td>\n",
       "      <td>2024-08-02 01:52:10</td>\n",
       "      <td>None</td>\n",
       "      <td>None</td>\n",
       "      <td>SET TBLPROPERTIES</td>\n",
       "      <td>{'properties': '{\"delta.enableChangeDataFeed\":...</td>\n",
       "      <td>None</td>\n",
       "      <td>None</td>\n",
       "      <td>None</td>\n",
       "      <td>2.0</td>\n",
       "      <td>Serializable</td>\n",
       "      <td>True</td>\n",
       "      <td>{}</td>\n",
       "      <td>None</td>\n",
       "      <td>Apache-Spark/3.5.1 Delta-Lake/3.2.0</td>\n",
       "    </tr>\n",
       "    <tr>\n",
       "      <th>1</th>\n",
       "      <td>2</td>\n",
       "      <td>2024-08-02 01:52:09</td>\n",
       "      <td>None</td>\n",
       "      <td>None</td>\n",
       "      <td>MERGE</td>\n",
       "      <td>{'predicate': '[\"(id#1756 = id#1873)\"]', 'matc...</td>\n",
       "      <td>None</td>\n",
       "      <td>None</td>\n",
       "      <td>None</td>\n",
       "      <td>1.0</td>\n",
       "      <td>Serializable</td>\n",
       "      <td>False</td>\n",
       "      <td>{'numTargetRowsCopied': '0', 'numTargetRowsDel...</td>\n",
       "      <td>None</td>\n",
       "      <td>Apache-Spark/3.5.1 Delta-Lake/3.2.0</td>\n",
       "    </tr>\n",
       "    <tr>\n",
       "      <th>2</th>\n",
       "      <td>1</td>\n",
       "      <td>2024-08-02 01:52:03</td>\n",
       "      <td>None</td>\n",
       "      <td>None</td>\n",
       "      <td>MERGE</td>\n",
       "      <td>{'predicate': '[\"(id#1756 = id#1873)\"]', 'matc...</td>\n",
       "      <td>None</td>\n",
       "      <td>None</td>\n",
       "      <td>None</td>\n",
       "      <td>0.0</td>\n",
       "      <td>Serializable</td>\n",
       "      <td>False</td>\n",
       "      <td>{'numTargetRowsCopied': '0', 'numTargetRowsDel...</td>\n",
       "      <td>None</td>\n",
       "      <td>Apache-Spark/3.5.1 Delta-Lake/3.2.0</td>\n",
       "    </tr>\n",
       "    <tr>\n",
       "      <th>3</th>\n",
       "      <td>0</td>\n",
       "      <td>2024-08-02 01:51:10</td>\n",
       "      <td>None</td>\n",
       "      <td>None</td>\n",
       "      <td>WRITE</td>\n",
       "      <td>{'mode': 'Overwrite', 'partitionBy': '[]'}</td>\n",
       "      <td>None</td>\n",
       "      <td>None</td>\n",
       "      <td>None</td>\n",
       "      <td>NaN</td>\n",
       "      <td>Serializable</td>\n",
       "      <td>False</td>\n",
       "      <td>{'numFiles': '2', 'numOutputRows': '3', 'numOu...</td>\n",
       "      <td>None</td>\n",
       "      <td>Apache-Spark/3.5.1 Delta-Lake/3.2.0</td>\n",
       "    </tr>\n",
       "  </tbody>\n",
       "</table>\n",
       "</div>"
      ],
      "text/plain": [
       "   version            timestamp userId userName          operation  \\\n",
       "0        3  2024-08-02 01:52:10   None     None  SET TBLPROPERTIES   \n",
       "1        2  2024-08-02 01:52:09   None     None              MERGE   \n",
       "2        1  2024-08-02 01:52:03   None     None              MERGE   \n",
       "3        0  2024-08-02 01:51:10   None     None              WRITE   \n",
       "\n",
       "                                 operationParameters   job notebook clusterId  \\\n",
       "0  {'properties': '{\"delta.enableChangeDataFeed\":...  None     None      None   \n",
       "1  {'predicate': '[\"(id#1756 = id#1873)\"]', 'matc...  None     None      None   \n",
       "2  {'predicate': '[\"(id#1756 = id#1873)\"]', 'matc...  None     None      None   \n",
       "3         {'mode': 'Overwrite', 'partitionBy': '[]'}  None     None      None   \n",
       "\n",
       "   readVersion isolationLevel  isBlindAppend  \\\n",
       "0          2.0   Serializable           True   \n",
       "1          1.0   Serializable          False   \n",
       "2          0.0   Serializable          False   \n",
       "3          NaN   Serializable          False   \n",
       "\n",
       "                                    operationMetrics userMetadata  \\\n",
       "0                                                 {}         None   \n",
       "1  {'numTargetRowsCopied': '0', 'numTargetRowsDel...         None   \n",
       "2  {'numTargetRowsCopied': '0', 'numTargetRowsDel...         None   \n",
       "3  {'numFiles': '2', 'numOutputRows': '3', 'numOu...         None   \n",
       "\n",
       "                            engineInfo  \n",
       "0  Apache-Spark/3.5.1 Delta-Lake/3.2.0  \n",
       "1  Apache-Spark/3.5.1 Delta-Lake/3.2.0  \n",
       "2  Apache-Spark/3.5.1 Delta-Lake/3.2.0  \n",
       "3  Apache-Spark/3.5.1 Delta-Lake/3.2.0  "
      ]
     },
     "execution_count": 19,
     "metadata": {},
     "output_type": "execute_result"
    }
   ],
   "source": [
    "users_table = DeltaTable.forPath(spark, f\"s3a://{bucket}/delta-lake/users\")\n",
    "\n",
    "users_table.history().withColumn('timestamp', F.from_unixtime(F.unix_timestamp('timestamp'))).toPandas()"
   ]
  },
  {
   "cell_type": "code",
   "execution_count": 20,
   "id": "b05241fa-48ea-4f0b-b55e-8f11509ea602",
   "metadata": {
    "scrolled": true
   },
   "outputs": [
    {
     "name": "stdout",
     "output_type": "stream",
     "text": [
      "latest version: 3\n",
      "latest version with merge: 2\n"
     ]
    }
   ],
   "source": [
    "# get latest version\n",
    "latest_version = users_table.history().select(\"version\").collect()[0].version\n",
    "print(\"latest version:\", latest_version)\n",
    "\n",
    "latest_version_merge = users_table.history().filter(\"operation in ('MERGE', 'WRITE')\").select(\"version\").collect()[0].version\n",
    "print(\"latest version with merge:\", latest_version_merge)"
   ]
  },
  {
   "cell_type": "code",
   "execution_count": 21,
   "id": "60ea4a58-c097-4452-9984-e8f93313e178",
   "metadata": {
    "scrolled": true
   },
   "outputs": [
    {
     "data": {
      "text/html": [
       "<div>\n",
       "<style scoped>\n",
       "    .dataframe tbody tr th:only-of-type {\n",
       "        vertical-align: middle;\n",
       "    }\n",
       "\n",
       "    .dataframe tbody tr th {\n",
       "        vertical-align: top;\n",
       "    }\n",
       "\n",
       "    .dataframe thead th {\n",
       "        text-align: right;\n",
       "    }\n",
       "</style>\n",
       "<table border=\"1\" class=\"dataframe\">\n",
       "  <thead>\n",
       "    <tr style=\"text-align: right;\">\n",
       "      <th></th>\n",
       "      <th>id</th>\n",
       "      <th>name</th>\n",
       "      <th>updated_at</th>\n",
       "      <th>_change_type</th>\n",
       "      <th>_commit_version</th>\n",
       "      <th>_commit_timestamp</th>\n",
       "    </tr>\n",
       "  </thead>\n",
       "  <tbody>\n",
       "  </tbody>\n",
       "</table>\n",
       "</div>"
      ],
      "text/plain": [
       "Empty DataFrame\n",
       "Columns: [id, name, updated_at, _change_type, _commit_version, _commit_timestamp]\n",
       "Index: []"
      ]
     },
     "execution_count": 21,
     "metadata": {},
     "output_type": "execute_result"
    }
   ],
   "source": [
    "spark.read.format(\"delta\") \\\n",
    "    .option(\"readChangeFeed\", \"true\") \\\n",
    "    .option(\"startingVersion\", latest_version) \\\n",
    "    .load(f\"s3a://{bucket}/delta-lake/users\") \\\n",
    "    .filter(\"_change_type = 'update_postimage'\") \\\n",
    "    .withColumn('updated_at', F.from_unixtime(F.unix_timestamp('updated_at'))) \\\n",
    "    .withColumn('_commit_timestamp', F.from_unixtime(F.unix_timestamp('_commit_timestamp'))) \\\n",
    "    .toPandas()\n",
    "\n",
    "\n",
    "# spark.read.format(\"delta\") \\\n",
    "#     .option(\"readChangeFeed\", \"true\") \\\n",
    "#     .option(\"startingVersion\", latest_version - 4) \\\n",
    "#     .option(\"endingVersion\", latest_version) \\\n",
    "#     .load(f\"s3a://{bucket}/delta-lake/users\") \\\n",
    "#     .withColumn('updated_at', F.from_unixtime(F.unix_timestamp('updated_at'))).toPandas()\n"
   ]
  },
  {
   "cell_type": "code",
   "execution_count": null,
   "id": "f59c97d4-62bb-4402-92f7-5a37e47ef055",
   "metadata": {
    "scrolled": true
   },
   "outputs": [],
   "source": [
    "spark.read.format(\"delta\") \\\n",
    "    .option(\"readChangeFeed\", \"true\") \\\n",
    "    .option(\"startingVersion\", latest_version_merge) \\\n",
    "    .load(f\"s3a://{bucket}/delta-lake/users\") \\\n",
    "    .filter(\"_change_type = 'update_postimage'\") \\\n",
    "    .withColumn('updated_at', F.from_unixtime(F.unix_timestamp('updated_at'))) \\\n",
    "    .withColumn('_commit_timestamp', F.from_unixtime(F.unix_timestamp('_commit_timestamp'))) \\\n",
    "    .toPandas()"
   ]
  },
  {
   "cell_type": "code",
   "execution_count": null,
   "id": "c535d3a2-9533-4143-ab9a-8353bbc26333",
   "metadata": {
    "scrolled": true
   },
   "outputs": [],
   "source": [
    "DeltaTable.forPath(spark, f\"s3a://{bucket}/delta-lake/users\") \\\n",
    ".toDF() \\\n",
    ".withColumn('updated_at', F.from_unixtime(F.unix_timestamp('updated_at'))) \\\n",
    ".toPandas()"
   ]
  },
  {
   "cell_type": "markdown",
   "id": "d643ffa3-eb70-4d1b-aa40-9f5cce722bfc",
   "metadata": {},
   "source": [
    "### Upsert with Missing columns"
   ]
  },
  {
   "cell_type": "code",
   "execution_count": null,
   "id": "ad4dcdf9-4c82-4121-bafc-8d7f4b4efc29",
   "metadata": {},
   "outputs": [],
   "source": [
    "# it's missing 'updated_at' column\n",
    "data_missing_fields = [{\"id\": 5, 'name': 'Joao'}]\n",
    "\n",
    "data_missing_fields = spark.createDataFrame(data_missing_fields, schema=schema)\n",
    "data_missing_fields.toPandas()"
   ]
  },
  {
   "cell_type": "code",
   "execution_count": null,
   "id": "5db6fe9d-b5d2-481a-94da-c39d3befe469",
   "metadata": {
    "scrolled": true
   },
   "outputs": [],
   "source": [
    "users_table.alias(\"old_data\") \\\n",
    "           .merge(source=data_missing_fields.alias(\"new_data\"), condition=\"old_data.id = new_data.id\") \\\n",
    "           .whenMatchedUpdateAll() \\\n",
    "           .whenNotMatchedInsertAll() \\\n",
    "           .execute()\n",
    "\n",
    "users_table.toDF().toPandas()"
   ]
  },
  {
   "cell_type": "markdown",
   "id": "dc7f9daf-02e6-47e2-9786-12e0d0bbd34f",
   "metadata": {},
   "source": [
    "## Update Schema adding column"
   ]
  },
  {
   "cell_type": "code",
   "execution_count": null,
   "id": "d2d5f5af-9f60-4d8f-b884-a99bc23ad1b9",
   "metadata": {
    "scrolled": true
   },
   "outputs": [],
   "source": [
    "# Read as delta format\n",
    "users_df = spark.read.format(\"delta\").load(f\"s3a://{bucket}/delta-lake/users\")\n",
    "\n",
    "users_df.toPandas()"
   ]
  },
  {
   "cell_type": "code",
   "execution_count": null,
   "id": "4d3ae7ed-ee12-4b0b-81fa-fb867365391f",
   "metadata": {},
   "outputs": [],
   "source": [
    "# Add column\n",
    "new_users_df = users_df.withColumn(\"age\", lit(None).cast(StringType()))\n",
    "new_users_df.printSchema()"
   ]
  },
  {
   "cell_type": "code",
   "execution_count": null,
   "id": "8578df30-87c7-4ae8-94b6-c2777d7d945c",
   "metadata": {
    "scrolled": true
   },
   "outputs": [],
   "source": [
    "new_users_df.toPandas()"
   ]
  },
  {
   "cell_type": "code",
   "execution_count": null,
   "id": "58afc83e-32f3-4ebc-af7f-13af7bb4ec06",
   "metadata": {
    "scrolled": true
   },
   "outputs": [],
   "source": [
    "# Merge Schema, another option is overwriteSchema\n",
    "new_users_df.write.format(\"delta\") \\\n",
    "  .mode(\"overwrite\") \\\n",
    "  .option(\"mergeSchema\", \"true\") \\\n",
    "  .option(\"userMetadata\", \"add age column\") \\\n",
    "  .save(f\"s3a://{bucket}/delta-lake/users\")"
   ]
  },
  {
   "cell_type": "code",
   "execution_count": null,
   "id": "74698b00-c46f-4ebc-81b0-5a138c0f4bdc",
   "metadata": {
    "scrolled": true
   },
   "outputs": [],
   "source": [
    "# DeltaTable.forPath(spark, f\"s3a://{bucket}/delta-lake/users\").history().show(vertical=True, truncate=False)\n",
    "\n",
    "DeltaTable.forPath(spark, f\"s3a://{bucket}/delta-lake/users\").history().withColumn('timestamp', F.from_unixtime(F.unix_timestamp('timestamp'))).toPandas()"
   ]
  },
  {
   "cell_type": "code",
   "execution_count": null,
   "id": "04e35a2a-cb36-4545-b59d-7984f4e21983",
   "metadata": {
    "scrolled": true
   },
   "outputs": [],
   "source": [
    "DeltaTable.forPath(spark, f\"s3a://{bucket}/delta-lake/users\").toDF().toPandas()"
   ]
  },
  {
   "cell_type": "markdown",
   "id": "94a3435b-0b00-4a87-8480-e622d6e6b9fb",
   "metadata": {},
   "source": [
    "## Update values"
   ]
  },
  {
   "cell_type": "code",
   "execution_count": null,
   "id": "0201ab3f-6911-4360-92b7-6801b6ac14ed",
   "metadata": {
    "scrolled": true
   },
   "outputs": [],
   "source": [
    "users_table = DeltaTable.forPath(spark, f\"s3a://{bucket}/delta-lake/users\")\n",
    "\n",
    "users_table.toDF().withColumn('updated_at', F.from_unixtime(F.unix_timestamp('updated_at'))).toPandas()"
   ]
  },
  {
   "cell_type": "code",
   "execution_count": null,
   "id": "5e070da8-a2b5-4b8e-805d-378a7de6912b",
   "metadata": {
    "scrolled": true
   },
   "outputs": [],
   "source": [
    "users_table.update(\n",
    "    condition = col(\"id\") == 5,\n",
    "    set = { \"age\": lit(30) }\n",
    ")"
   ]
  },
  {
   "cell_type": "code",
   "execution_count": null,
   "id": "97df2b21-0b23-48c9-b26e-2060d23858e7",
   "metadata": {
    "scrolled": true
   },
   "outputs": [],
   "source": [
    "DeltaTable.forPath(spark, f\"s3a://{bucket}/delta-lake/users\").toDF().withColumn('updated_at', F.from_unixtime(F.unix_timestamp('updated_at'))).toPandas()"
   ]
  },
  {
   "cell_type": "markdown",
   "id": "04d8f00b-88eb-44f0-9fd0-9ee660815d38",
   "metadata": {},
   "source": [
    "## Read specific version"
   ]
  },
  {
   "cell_type": "code",
   "execution_count": null,
   "id": "e8167b6e-d383-4663-b867-012af7263088",
   "metadata": {
    "scrolled": true
   },
   "outputs": [],
   "source": [
    "spark.read \\\n",
    "    .format(\"delta\") \\\n",
    "    .option(\"versionAsOf\", 0) \\\n",
    "    .load(f\"s3a://{bucket}/delta-lake/users\") \\\n",
    "    .toPandas()"
   ]
  },
  {
   "cell_type": "code",
   "execution_count": null,
   "id": "305f6f0d-d7ef-4fbf-af1f-48e3351c9510",
   "metadata": {
    "scrolled": true
   },
   "outputs": [],
   "source": [
    "spark.read \\\n",
    "    .format(\"delta\") \\\n",
    "    .option(\"versionAsOf\", 9) \\\n",
    "    .load(f\"s3a://{bucket}/delta-lake/users\") \\\n",
    "    .toPandas()"
   ]
  },
  {
   "cell_type": "code",
   "execution_count": null,
   "id": "71318d8b-f5f0-4ea2-8952-4e0b8e1c0199",
   "metadata": {},
   "outputs": [],
   "source": [
    "DeltaTable.forPath(spark, f\"s3a://{bucket}/delta-lake/users\").toDF().withColumn('timestamp', F.from_unixtime(F.unix_timestamp('timestamp'))).toPandas()"
   ]
  },
  {
   "cell_type": "markdown",
   "id": "512e362d-2811-48a7-9e3e-ae5d3d04b367",
   "metadata": {},
   "source": [
    "## Delete rows"
   ]
  },
  {
   "cell_type": "code",
   "execution_count": null,
   "id": "bfffb6ca-793e-4618-a64b-fa246358578f",
   "metadata": {
    "scrolled": true
   },
   "outputs": [],
   "source": [
    "users_table = DeltaTable.forPath(spark, f\"s3a://{bucket}/delta-lake/users\")\n",
    "\n",
    "users_table.toDF().withColumn('updated_at', F.from_unixtime(F.unix_timestamp('updated_at'))).toPandas()"
   ]
  },
  {
   "cell_type": "code",
   "execution_count": null,
   "id": "7ca94412-5a8c-4f49-840d-4acabcf6263a",
   "metadata": {
    "scrolled": true
   },
   "outputs": [],
   "source": [
    "users_table.delete(col(\"name\") == \"Alice\")"
   ]
  },
  {
   "cell_type": "code",
   "execution_count": null,
   "id": "4d5afa74-ae74-4099-8d6d-fb86c8ded507",
   "metadata": {
    "scrolled": true
   },
   "outputs": [],
   "source": [
    "DeltaTable.forPath(spark, f\"s3a://{bucket}/delta-lake/users\").toDF().withColumn('updated_at', F.from_unixtime(F.unix_timestamp('updated_at'))).toPandas()"
   ]
  },
  {
   "cell_type": "markdown",
   "id": "564bff7b-72f4-457f-a407-d77e20c43732",
   "metadata": {},
   "source": [
    "## Time Travel"
   ]
  },
  {
   "cell_type": "code",
   "execution_count": 23,
   "id": "512b922c-6db4-44e3-8173-9e5ed17390d5",
   "metadata": {},
   "outputs": [
    {
     "data": {
      "text/html": [
       "<div>\n",
       "<style scoped>\n",
       "    .dataframe tbody tr th:only-of-type {\n",
       "        vertical-align: middle;\n",
       "    }\n",
       "\n",
       "    .dataframe tbody tr th {\n",
       "        vertical-align: top;\n",
       "    }\n",
       "\n",
       "    .dataframe thead th {\n",
       "        text-align: right;\n",
       "    }\n",
       "</style>\n",
       "<table border=\"1\" class=\"dataframe\">\n",
       "  <thead>\n",
       "    <tr style=\"text-align: right;\">\n",
       "      <th></th>\n",
       "      <th>version</th>\n",
       "      <th>timestamp</th>\n",
       "      <th>operation</th>\n",
       "      <th>operationParameters</th>\n",
       "      <th>operationMetrics</th>\n",
       "      <th>userMetadata</th>\n",
       "    </tr>\n",
       "  </thead>\n",
       "  <tbody>\n",
       "    <tr>\n",
       "      <th>0</th>\n",
       "      <td>3</td>\n",
       "      <td>2024-08-02 01:52:10</td>\n",
       "      <td>SET TBLPROPERTIES</td>\n",
       "      <td>{'properties': '{\"delta.enableChangeDataFeed\":...</td>\n",
       "      <td>{}</td>\n",
       "      <td>None</td>\n",
       "    </tr>\n",
       "    <tr>\n",
       "      <th>1</th>\n",
       "      <td>2</td>\n",
       "      <td>2024-08-02 01:52:09</td>\n",
       "      <td>MERGE</td>\n",
       "      <td>{'predicate': '[\"(id#1756 = id#1873)\"]', 'matc...</td>\n",
       "      <td>{'numTargetRowsCopied': '0', 'numTargetRowsDel...</td>\n",
       "      <td>None</td>\n",
       "    </tr>\n",
       "    <tr>\n",
       "      <th>2</th>\n",
       "      <td>1</td>\n",
       "      <td>2024-08-02 01:52:03</td>\n",
       "      <td>MERGE</td>\n",
       "      <td>{'predicate': '[\"(id#1756 = id#1873)\"]', 'matc...</td>\n",
       "      <td>{'numTargetRowsCopied': '0', 'numTargetRowsDel...</td>\n",
       "      <td>None</td>\n",
       "    </tr>\n",
       "    <tr>\n",
       "      <th>3</th>\n",
       "      <td>0</td>\n",
       "      <td>2024-08-02 01:51:10</td>\n",
       "      <td>WRITE</td>\n",
       "      <td>{'mode': 'Overwrite', 'partitionBy': '[]'}</td>\n",
       "      <td>{'numFiles': '2', 'numOutputRows': '3', 'numOu...</td>\n",
       "      <td>None</td>\n",
       "    </tr>\n",
       "  </tbody>\n",
       "</table>\n",
       "</div>"
      ],
      "text/plain": [
       "   version            timestamp          operation  \\\n",
       "0        3  2024-08-02 01:52:10  SET TBLPROPERTIES   \n",
       "1        2  2024-08-02 01:52:09              MERGE   \n",
       "2        1  2024-08-02 01:52:03              MERGE   \n",
       "3        0  2024-08-02 01:51:10              WRITE   \n",
       "\n",
       "                                 operationParameters  \\\n",
       "0  {'properties': '{\"delta.enableChangeDataFeed\":...   \n",
       "1  {'predicate': '[\"(id#1756 = id#1873)\"]', 'matc...   \n",
       "2  {'predicate': '[\"(id#1756 = id#1873)\"]', 'matc...   \n",
       "3         {'mode': 'Overwrite', 'partitionBy': '[]'}   \n",
       "\n",
       "                                    operationMetrics userMetadata  \n",
       "0                                                 {}         None  \n",
       "1  {'numTargetRowsCopied': '0', 'numTargetRowsDel...         None  \n",
       "2  {'numTargetRowsCopied': '0', 'numTargetRowsDel...         None  \n",
       "3  {'numFiles': '2', 'numOutputRows': '3', 'numOu...         None  "
      ]
     },
     "execution_count": 23,
     "metadata": {},
     "output_type": "execute_result"
    }
   ],
   "source": [
    "# available versions\n",
    "DeltaTable \\\n",
    ".forPath(spark, f\"s3a://{bucket}/delta-lake/users\").history() \\\n",
    ".select(\"version\", \"timestamp\", \"operation\", \"operationParameters\", \"operationMetrics\", \"userMetadata\") \\\n",
    ".withColumn('timestamp', F.from_unixtime(F.unix_timestamp('timestamp'))) \\\n",
    ".toPandas()"
   ]
  },
  {
   "cell_type": "code",
   "execution_count": 24,
   "id": "fae4e0f6-d200-4fbf-9627-0cb86556a72a",
   "metadata": {
    "scrolled": true
   },
   "outputs": [
    {
     "name": "stderr",
     "output_type": "stream",
     "text": [
      "                                                                                \r"
     ]
    },
    {
     "data": {
      "text/html": [
       "<div>\n",
       "<style scoped>\n",
       "    .dataframe tbody tr th:only-of-type {\n",
       "        vertical-align: middle;\n",
       "    }\n",
       "\n",
       "    .dataframe tbody tr th {\n",
       "        vertical-align: top;\n",
       "    }\n",
       "\n",
       "    .dataframe thead th {\n",
       "        text-align: right;\n",
       "    }\n",
       "</style>\n",
       "<table border=\"1\" class=\"dataframe\">\n",
       "  <thead>\n",
       "    <tr style=\"text-align: right;\">\n",
       "      <th></th>\n",
       "      <th>id</th>\n",
       "      <th>name</th>\n",
       "      <th>updated_at</th>\n",
       "    </tr>\n",
       "  </thead>\n",
       "  <tbody>\n",
       "    <tr>\n",
       "      <th>0</th>\n",
       "      <td>1</td>\n",
       "      <td>Alice</td>\n",
       "      <td>2022-01-02</td>\n",
       "    </tr>\n",
       "    <tr>\n",
       "      <th>1</th>\n",
       "      <td>4</td>\n",
       "      <td>Carell</td>\n",
       "      <td>2022-04-04</td>\n",
       "    </tr>\n",
       "    <tr>\n",
       "      <th>2</th>\n",
       "      <td>10</td>\n",
       "      <td>Jose</td>\n",
       "      <td>2023-01-02</td>\n",
       "    </tr>\n",
       "    <tr>\n",
       "      <th>3</th>\n",
       "      <td>2</td>\n",
       "      <td>Braga</td>\n",
       "      <td>2022-02-02</td>\n",
       "    </tr>\n",
       "    <tr>\n",
       "      <th>4</th>\n",
       "      <td>3</td>\n",
       "      <td>Steve</td>\n",
       "      <td>2022-03-03</td>\n",
       "    </tr>\n",
       "  </tbody>\n",
       "</table>\n",
       "</div>"
      ],
      "text/plain": [
       "   id    name  updated_at\n",
       "0   1   Alice  2022-01-02\n",
       "1   4  Carell  2022-04-04\n",
       "2  10    Jose  2023-01-02\n",
       "3   2   Braga  2022-02-02\n",
       "4   3   Steve  2022-03-03"
      ]
     },
     "execution_count": 24,
     "metadata": {},
     "output_type": "execute_result"
    }
   ],
   "source": [
    "spark.read \\\n",
    "    .format(\"delta\") \\\n",
    "    .load(f\"s3a://{bucket}/delta-lake/users\") \\\n",
    "    .toPandas()"
   ]
  },
  {
   "cell_type": "code",
   "execution_count": null,
   "id": "4c840e61-be99-4cb3-8bdf-3fb4a7f8e989",
   "metadata": {
    "scrolled": true
   },
   "outputs": [],
   "source": [
    "DeltaTable.forPath(spark, f\"s3a://{bucket}/delta-lake/users\").restoreToVersion(9).toPandas()"
   ]
  },
  {
   "cell_type": "code",
   "execution_count": null,
   "id": "16e35a95-b257-4eaa-9f97-07c4b3db9480",
   "metadata": {
    "scrolled": true
   },
   "outputs": [],
   "source": [
    "spark.read \\\n",
    "    .format(\"delta\") \\\n",
    "    .load(f\"s3a://{bucket}/delta-lake/users\") \\\n",
    "    .toPandas()"
   ]
  },
  {
   "cell_type": "markdown",
   "id": "f36518db-da5e-430d-89b3-14daef953d51",
   "metadata": {},
   "source": [
    "### Repartition and time travel"
   ]
  },
  {
   "cell_type": "code",
   "execution_count": 26,
   "id": "cf037be4-0db0-407b-b04e-36b2a110a8a5",
   "metadata": {
    "scrolled": true
   },
   "outputs": [],
   "source": [
    "spark.read \\\n",
    "    .format(\"delta\") \\\n",
    "    .load(f\"s3a://{bucket}/delta-lake/users\") \\\n",
    "    .write \\\n",
    "    .format(\"delta\") \\\n",
    "    .mode(\"overwrite\") \\\n",
    "    .option(\"overwriteSchema\", \"true\") \\\n",
    "    .option(\"userMetadata\", \"partitioning by date\") \\\n",
    "    .partitionBy(\"updated_at\") \\\n",
    "    .save(f\"s3a://{bucket}/delta-lake/users\")"
   ]
  },
  {
   "cell_type": "code",
   "execution_count": 27,
   "id": "85896064-fb03-4608-a9d0-943317bf50d1",
   "metadata": {
    "scrolled": true
   },
   "outputs": [
    {
     "name": "stderr",
     "output_type": "stream",
     "text": [
      "                                                                                \r"
     ]
    },
    {
     "data": {
      "text/plain": [
       "2"
      ]
     },
     "execution_count": 27,
     "metadata": {},
     "output_type": "execute_result"
    }
   ],
   "source": [
    "spark.read \\\n",
    "    .format(\"delta\") \\\n",
    "    .load(f\"s3a://{bucket}/delta-lake/users\") \\\n",
    "    .rdd \\\n",
    "    .getNumPartitions()"
   ]
  },
  {
   "cell_type": "code",
   "execution_count": 28,
   "id": "f47017ca-caa8-4d0c-b51e-2fea544eb808",
   "metadata": {
    "scrolled": true
   },
   "outputs": [
    {
     "data": {
      "text/html": [
       "<div>\n",
       "<style scoped>\n",
       "    .dataframe tbody tr th:only-of-type {\n",
       "        vertical-align: middle;\n",
       "    }\n",
       "\n",
       "    .dataframe tbody tr th {\n",
       "        vertical-align: top;\n",
       "    }\n",
       "\n",
       "    .dataframe thead th {\n",
       "        text-align: right;\n",
       "    }\n",
       "</style>\n",
       "<table border=\"1\" class=\"dataframe\">\n",
       "  <thead>\n",
       "    <tr style=\"text-align: right;\">\n",
       "      <th></th>\n",
       "      <th>version</th>\n",
       "      <th>timestamp</th>\n",
       "      <th>operation</th>\n",
       "      <th>operationParameters</th>\n",
       "      <th>operationMetrics</th>\n",
       "      <th>userMetadata</th>\n",
       "    </tr>\n",
       "  </thead>\n",
       "  <tbody>\n",
       "    <tr>\n",
       "      <th>0</th>\n",
       "      <td>4</td>\n",
       "      <td>2024-08-02 01:53:10</td>\n",
       "      <td>WRITE</td>\n",
       "      <td>{'mode': 'Overwrite', 'partitionBy': '[\"update...</td>\n",
       "      <td>{'numFiles': '5', 'numOutputRows': '5', 'numOu...</td>\n",
       "      <td>partitioning by date</td>\n",
       "    </tr>\n",
       "    <tr>\n",
       "      <th>1</th>\n",
       "      <td>3</td>\n",
       "      <td>2024-08-02 01:52:10</td>\n",
       "      <td>SET TBLPROPERTIES</td>\n",
       "      <td>{'properties': '{\"delta.enableChangeDataFeed\":...</td>\n",
       "      <td>{}</td>\n",
       "      <td>None</td>\n",
       "    </tr>\n",
       "    <tr>\n",
       "      <th>2</th>\n",
       "      <td>2</td>\n",
       "      <td>2024-08-02 01:52:09</td>\n",
       "      <td>MERGE</td>\n",
       "      <td>{'predicate': '[\"(id#1756 = id#1873)\"]', 'matc...</td>\n",
       "      <td>{'numTargetRowsCopied': '0', 'numTargetRowsDel...</td>\n",
       "      <td>None</td>\n",
       "    </tr>\n",
       "    <tr>\n",
       "      <th>3</th>\n",
       "      <td>1</td>\n",
       "      <td>2024-08-02 01:52:03</td>\n",
       "      <td>MERGE</td>\n",
       "      <td>{'predicate': '[\"(id#1756 = id#1873)\"]', 'matc...</td>\n",
       "      <td>{'numTargetRowsCopied': '0', 'numTargetRowsDel...</td>\n",
       "      <td>None</td>\n",
       "    </tr>\n",
       "    <tr>\n",
       "      <th>4</th>\n",
       "      <td>0</td>\n",
       "      <td>2024-08-02 01:51:10</td>\n",
       "      <td>WRITE</td>\n",
       "      <td>{'mode': 'Overwrite', 'partitionBy': '[]'}</td>\n",
       "      <td>{'numFiles': '2', 'numOutputRows': '3', 'numOu...</td>\n",
       "      <td>None</td>\n",
       "    </tr>\n",
       "  </tbody>\n",
       "</table>\n",
       "</div>"
      ],
      "text/plain": [
       "   version            timestamp          operation  \\\n",
       "0        4  2024-08-02 01:53:10              WRITE   \n",
       "1        3  2024-08-02 01:52:10  SET TBLPROPERTIES   \n",
       "2        2  2024-08-02 01:52:09              MERGE   \n",
       "3        1  2024-08-02 01:52:03              MERGE   \n",
       "4        0  2024-08-02 01:51:10              WRITE   \n",
       "\n",
       "                                 operationParameters  \\\n",
       "0  {'mode': 'Overwrite', 'partitionBy': '[\"update...   \n",
       "1  {'properties': '{\"delta.enableChangeDataFeed\":...   \n",
       "2  {'predicate': '[\"(id#1756 = id#1873)\"]', 'matc...   \n",
       "3  {'predicate': '[\"(id#1756 = id#1873)\"]', 'matc...   \n",
       "4         {'mode': 'Overwrite', 'partitionBy': '[]'}   \n",
       "\n",
       "                                    operationMetrics          userMetadata  \n",
       "0  {'numFiles': '5', 'numOutputRows': '5', 'numOu...  partitioning by date  \n",
       "1                                                 {}                  None  \n",
       "2  {'numTargetRowsCopied': '0', 'numTargetRowsDel...                  None  \n",
       "3  {'numTargetRowsCopied': '0', 'numTargetRowsDel...                  None  \n",
       "4  {'numFiles': '2', 'numOutputRows': '3', 'numOu...                  None  "
      ]
     },
     "execution_count": 28,
     "metadata": {},
     "output_type": "execute_result"
    }
   ],
   "source": [
    "# available versions\n",
    "DeltaTable \\\n",
    ".forPath(spark, f\"s3a://{bucket}/delta-lake/users\").history() \\\n",
    ".select(\"version\", \"timestamp\", \"operation\", \"operationParameters\", \"operationMetrics\", \"userMetadata\") \\\n",
    ".withColumn('timestamp', F.from_unixtime(F.unix_timestamp('timestamp'))) \\\n",
    ".toPandas()"
   ]
  },
  {
   "cell_type": "code",
   "execution_count": 30,
   "id": "680e57f6-dc30-4bf6-a95d-0acbd96d9664",
   "metadata": {
    "scrolled": true
   },
   "outputs": [
    {
     "data": {
      "text/html": [
       "<div>\n",
       "<style scoped>\n",
       "    .dataframe tbody tr th:only-of-type {\n",
       "        vertical-align: middle;\n",
       "    }\n",
       "\n",
       "    .dataframe tbody tr th {\n",
       "        vertical-align: top;\n",
       "    }\n",
       "\n",
       "    .dataframe thead th {\n",
       "        text-align: right;\n",
       "    }\n",
       "</style>\n",
       "<table border=\"1\" class=\"dataframe\">\n",
       "  <thead>\n",
       "    <tr style=\"text-align: right;\">\n",
       "      <th></th>\n",
       "    </tr>\n",
       "  </thead>\n",
       "  <tbody>\n",
       "  </tbody>\n",
       "</table>\n",
       "</div>"
      ],
      "text/plain": [
       "Empty DataFrame\n",
       "Columns: []\n",
       "Index: []"
      ]
     },
     "execution_count": 30,
     "metadata": {},
     "output_type": "execute_result"
    }
   ],
   "source": [
    "DeltaTable.forPath(spark, f\"s3a://{bucket}/delta-lake/users\").restoreToVersion(4).toPandas()"
   ]
  },
  {
   "cell_type": "code",
   "execution_count": 31,
   "id": "daf52ef8-8af8-4973-bb8f-35bef1556fd2",
   "metadata": {
    "scrolled": true
   },
   "outputs": [
    {
     "name": "stderr",
     "output_type": "stream",
     "text": [
      "                                                                                \r"
     ]
    },
    {
     "data": {
      "text/plain": [
       "2"
      ]
     },
     "execution_count": 31,
     "metadata": {},
     "output_type": "execute_result"
    }
   ],
   "source": [
    "spark.read \\\n",
    "    .format(\"delta\") \\\n",
    "    .load(f\"s3a://{bucket}/delta-lake/users\") \\\n",
    "    .rdd \\\n",
    "    .getNumPartitions()"
   ]
  },
  {
   "cell_type": "code",
   "execution_count": 33,
   "id": "5535fffc-5f03-44e5-9850-5a23edade122",
   "metadata": {
    "scrolled": true
   },
   "outputs": [
    {
     "data": {
      "text/html": [
       "<div>\n",
       "<style scoped>\n",
       "    .dataframe tbody tr th:only-of-type {\n",
       "        vertical-align: middle;\n",
       "    }\n",
       "\n",
       "    .dataframe tbody tr th {\n",
       "        vertical-align: top;\n",
       "    }\n",
       "\n",
       "    .dataframe thead th {\n",
       "        text-align: right;\n",
       "    }\n",
       "</style>\n",
       "<table border=\"1\" class=\"dataframe\">\n",
       "  <thead>\n",
       "    <tr style=\"text-align: right;\">\n",
       "      <th></th>\n",
       "      <th>version</th>\n",
       "      <th>timestamp</th>\n",
       "      <th>operation</th>\n",
       "      <th>operationParameters</th>\n",
       "      <th>operationMetrics</th>\n",
       "      <th>userMetadata</th>\n",
       "    </tr>\n",
       "  </thead>\n",
       "  <tbody>\n",
       "    <tr>\n",
       "      <th>0</th>\n",
       "      <td>4</td>\n",
       "      <td>2024-08-02 01:53:10</td>\n",
       "      <td>WRITE</td>\n",
       "      <td>{'mode': 'Overwrite', 'partitionBy': '[\"update...</td>\n",
       "      <td>{'numFiles': '5', 'numOutputRows': '5', 'numOu...</td>\n",
       "      <td>partitioning by date</td>\n",
       "    </tr>\n",
       "    <tr>\n",
       "      <th>1</th>\n",
       "      <td>3</td>\n",
       "      <td>2024-08-02 01:52:10</td>\n",
       "      <td>SET TBLPROPERTIES</td>\n",
       "      <td>{'properties': '{\"delta.enableChangeDataFeed\":...</td>\n",
       "      <td>{}</td>\n",
       "      <td>None</td>\n",
       "    </tr>\n",
       "    <tr>\n",
       "      <th>2</th>\n",
       "      <td>2</td>\n",
       "      <td>2024-08-02 01:52:09</td>\n",
       "      <td>MERGE</td>\n",
       "      <td>{'predicate': '[\"(id#1756 = id#1873)\"]', 'matc...</td>\n",
       "      <td>{'numTargetRowsCopied': '0', 'numTargetRowsDel...</td>\n",
       "      <td>None</td>\n",
       "    </tr>\n",
       "    <tr>\n",
       "      <th>3</th>\n",
       "      <td>1</td>\n",
       "      <td>2024-08-02 01:52:03</td>\n",
       "      <td>MERGE</td>\n",
       "      <td>{'predicate': '[\"(id#1756 = id#1873)\"]', 'matc...</td>\n",
       "      <td>{'numTargetRowsCopied': '0', 'numTargetRowsDel...</td>\n",
       "      <td>None</td>\n",
       "    </tr>\n",
       "    <tr>\n",
       "      <th>4</th>\n",
       "      <td>0</td>\n",
       "      <td>2024-08-02 01:51:10</td>\n",
       "      <td>WRITE</td>\n",
       "      <td>{'mode': 'Overwrite', 'partitionBy': '[]'}</td>\n",
       "      <td>{'numFiles': '2', 'numOutputRows': '3', 'numOu...</td>\n",
       "      <td>None</td>\n",
       "    </tr>\n",
       "  </tbody>\n",
       "</table>\n",
       "</div>"
      ],
      "text/plain": [
       "   version            timestamp          operation  \\\n",
       "0        4  2024-08-02 01:53:10              WRITE   \n",
       "1        3  2024-08-02 01:52:10  SET TBLPROPERTIES   \n",
       "2        2  2024-08-02 01:52:09              MERGE   \n",
       "3        1  2024-08-02 01:52:03              MERGE   \n",
       "4        0  2024-08-02 01:51:10              WRITE   \n",
       "\n",
       "                                 operationParameters  \\\n",
       "0  {'mode': 'Overwrite', 'partitionBy': '[\"update...   \n",
       "1  {'properties': '{\"delta.enableChangeDataFeed\":...   \n",
       "2  {'predicate': '[\"(id#1756 = id#1873)\"]', 'matc...   \n",
       "3  {'predicate': '[\"(id#1756 = id#1873)\"]', 'matc...   \n",
       "4         {'mode': 'Overwrite', 'partitionBy': '[]'}   \n",
       "\n",
       "                                    operationMetrics          userMetadata  \n",
       "0  {'numFiles': '5', 'numOutputRows': '5', 'numOu...  partitioning by date  \n",
       "1                                                 {}                  None  \n",
       "2  {'numTargetRowsCopied': '0', 'numTargetRowsDel...                  None  \n",
       "3  {'numTargetRowsCopied': '0', 'numTargetRowsDel...                  None  \n",
       "4  {'numFiles': '2', 'numOutputRows': '3', 'numOu...                  None  "
      ]
     },
     "execution_count": 33,
     "metadata": {},
     "output_type": "execute_result"
    }
   ],
   "source": [
    "# available versions\n",
    "DeltaTable \\\n",
    ".forPath(spark, f\"s3a://{bucket}/delta-lake/users\").history() \\\n",
    ".select(\"version\", \"timestamp\", \"operation\", \"operationParameters\", \"operationMetrics\", \"userMetadata\") \\\n",
    ".withColumn('timestamp', F.from_unixtime(F.unix_timestamp('timestamp'))) \\\n",
    ".toPandas()"
   ]
  },
  {
   "cell_type": "code",
   "execution_count": 34,
   "id": "37c885be-ca5b-4aed-a1b5-e6c5df74567c",
   "metadata": {
    "scrolled": true
   },
   "outputs": [
    {
     "name": "stderr",
     "output_type": "stream",
     "text": [
      "                                                                                \r"
     ]
    },
    {
     "name": "stdout",
     "output_type": "stream",
     "text": [
      "Deleted 4 files and directories in a total of 6 directories.\n"
     ]
    },
    {
     "data": {
      "text/html": [
       "<div>\n",
       "<style scoped>\n",
       "    .dataframe tbody tr th:only-of-type {\n",
       "        vertical-align: middle;\n",
       "    }\n",
       "\n",
       "    .dataframe tbody tr th {\n",
       "        vertical-align: top;\n",
       "    }\n",
       "\n",
       "    .dataframe thead th {\n",
       "        text-align: right;\n",
       "    }\n",
       "</style>\n",
       "<table border=\"1\" class=\"dataframe\">\n",
       "  <thead>\n",
       "    <tr style=\"text-align: right;\">\n",
       "      <th></th>\n",
       "    </tr>\n",
       "  </thead>\n",
       "  <tbody>\n",
       "  </tbody>\n",
       "</table>\n",
       "</div>"
      ],
      "text/plain": [
       "Empty DataFrame\n",
       "Columns: []\n",
       "Index: []"
      ]
     },
     "execution_count": 34,
     "metadata": {},
     "output_type": "execute_result"
    }
   ],
   "source": [
    "DeltaTable.forPath(spark, f\"s3a://{bucket}/delta-lake/users\").vacuum(0.3).toPandas()"
   ]
  },
  {
   "cell_type": "code",
   "execution_count": 35,
   "id": "099b1a60-db92-4479-87bb-3756a5165e2c",
   "metadata": {
    "scrolled": true
   },
   "outputs": [
    {
     "data": {
      "text/html": [
       "<div>\n",
       "<style scoped>\n",
       "    .dataframe tbody tr th:only-of-type {\n",
       "        vertical-align: middle;\n",
       "    }\n",
       "\n",
       "    .dataframe tbody tr th {\n",
       "        vertical-align: top;\n",
       "    }\n",
       "\n",
       "    .dataframe thead th {\n",
       "        text-align: right;\n",
       "    }\n",
       "</style>\n",
       "<table border=\"1\" class=\"dataframe\">\n",
       "  <thead>\n",
       "    <tr style=\"text-align: right;\">\n",
       "      <th></th>\n",
       "      <th>version</th>\n",
       "      <th>timestamp</th>\n",
       "      <th>operation</th>\n",
       "      <th>operationParameters</th>\n",
       "      <th>operationMetrics</th>\n",
       "      <th>userMetadata</th>\n",
       "    </tr>\n",
       "  </thead>\n",
       "  <tbody>\n",
       "    <tr>\n",
       "      <th>0</th>\n",
       "      <td>4</td>\n",
       "      <td>2024-08-02 01:53:10</td>\n",
       "      <td>WRITE</td>\n",
       "      <td>{'mode': 'Overwrite', 'partitionBy': '[\"update...</td>\n",
       "      <td>{'numFiles': '5', 'numOutputRows': '5', 'numOu...</td>\n",
       "      <td>partitioning by date</td>\n",
       "    </tr>\n",
       "    <tr>\n",
       "      <th>1</th>\n",
       "      <td>3</td>\n",
       "      <td>2024-08-02 01:52:10</td>\n",
       "      <td>SET TBLPROPERTIES</td>\n",
       "      <td>{'properties': '{\"delta.enableChangeDataFeed\":...</td>\n",
       "      <td>{}</td>\n",
       "      <td>None</td>\n",
       "    </tr>\n",
       "    <tr>\n",
       "      <th>2</th>\n",
       "      <td>2</td>\n",
       "      <td>2024-08-02 01:52:09</td>\n",
       "      <td>MERGE</td>\n",
       "      <td>{'predicate': '[\"(id#1756 = id#1873)\"]', 'matc...</td>\n",
       "      <td>{'numTargetRowsCopied': '0', 'numTargetRowsDel...</td>\n",
       "      <td>None</td>\n",
       "    </tr>\n",
       "    <tr>\n",
       "      <th>3</th>\n",
       "      <td>1</td>\n",
       "      <td>2024-08-02 01:52:03</td>\n",
       "      <td>MERGE</td>\n",
       "      <td>{'predicate': '[\"(id#1756 = id#1873)\"]', 'matc...</td>\n",
       "      <td>{'numTargetRowsCopied': '0', 'numTargetRowsDel...</td>\n",
       "      <td>None</td>\n",
       "    </tr>\n",
       "    <tr>\n",
       "      <th>4</th>\n",
       "      <td>0</td>\n",
       "      <td>2024-08-02 01:51:10</td>\n",
       "      <td>WRITE</td>\n",
       "      <td>{'mode': 'Overwrite', 'partitionBy': '[]'}</td>\n",
       "      <td>{'numFiles': '2', 'numOutputRows': '3', 'numOu...</td>\n",
       "      <td>None</td>\n",
       "    </tr>\n",
       "  </tbody>\n",
       "</table>\n",
       "</div>"
      ],
      "text/plain": [
       "   version            timestamp          operation  \\\n",
       "0        4  2024-08-02 01:53:10              WRITE   \n",
       "1        3  2024-08-02 01:52:10  SET TBLPROPERTIES   \n",
       "2        2  2024-08-02 01:52:09              MERGE   \n",
       "3        1  2024-08-02 01:52:03              MERGE   \n",
       "4        0  2024-08-02 01:51:10              WRITE   \n",
       "\n",
       "                                 operationParameters  \\\n",
       "0  {'mode': 'Overwrite', 'partitionBy': '[\"update...   \n",
       "1  {'properties': '{\"delta.enableChangeDataFeed\":...   \n",
       "2  {'predicate': '[\"(id#1756 = id#1873)\"]', 'matc...   \n",
       "3  {'predicate': '[\"(id#1756 = id#1873)\"]', 'matc...   \n",
       "4         {'mode': 'Overwrite', 'partitionBy': '[]'}   \n",
       "\n",
       "                                    operationMetrics          userMetadata  \n",
       "0  {'numFiles': '5', 'numOutputRows': '5', 'numOu...  partitioning by date  \n",
       "1                                                 {}                  None  \n",
       "2  {'numTargetRowsCopied': '0', 'numTargetRowsDel...                  None  \n",
       "3  {'numTargetRowsCopied': '0', 'numTargetRowsDel...                  None  \n",
       "4  {'numFiles': '2', 'numOutputRows': '3', 'numOu...                  None  "
      ]
     },
     "execution_count": 35,
     "metadata": {},
     "output_type": "execute_result"
    }
   ],
   "source": [
    "# available versions\n",
    "DeltaTable \\\n",
    ".forPath(spark, f\"s3a://{bucket}/delta-lake/users\").history() \\\n",
    ".select(\"version\", \"timestamp\", \"operation\", \"operationParameters\", \"operationMetrics\", \"userMetadata\") \\\n",
    ".withColumn('timestamp', F.from_unixtime(F.unix_timestamp('timestamp'))) \\\n",
    ".toPandas()"
   ]
  },
  {
   "cell_type": "markdown",
   "id": "a246ea82-da03-4329-8cd5-55cd7eee446c",
   "metadata": {},
   "source": [
    "## Optimizations"
   ]
  },
  {
   "cell_type": "code",
   "execution_count": 36,
   "id": "205e0cec-1a9c-44d1-919c-4e576c275cb1",
   "metadata": {
    "scrolled": true
   },
   "outputs": [
    {
     "name": "stderr",
     "output_type": "stream",
     "text": [
      "                                                                                \r"
     ]
    },
    {
     "data": {
      "text/html": [
       "<div>\n",
       "<style scoped>\n",
       "    .dataframe tbody tr th:only-of-type {\n",
       "        vertical-align: middle;\n",
       "    }\n",
       "\n",
       "    .dataframe tbody tr th {\n",
       "        vertical-align: top;\n",
       "    }\n",
       "\n",
       "    .dataframe thead th {\n",
       "        text-align: right;\n",
       "    }\n",
       "</style>\n",
       "<table border=\"1\" class=\"dataframe\">\n",
       "  <thead>\n",
       "    <tr style=\"text-align: right;\">\n",
       "      <th></th>\n",
       "      <th>path</th>\n",
       "      <th>metrics</th>\n",
       "    </tr>\n",
       "  </thead>\n",
       "  <tbody>\n",
       "    <tr>\n",
       "      <th>0</th>\n",
       "      <td>s3a://my-bucket/delta-lake/users</td>\n",
       "      <td>{'numFilesAdded': 0, 'numFilesRemoved': 0, 'fi...</td>\n",
       "    </tr>\n",
       "  </tbody>\n",
       "</table>\n",
       "</div>"
      ],
      "text/plain": [
       "                               path  \\\n",
       "0  s3a://my-bucket/delta-lake/users   \n",
       "\n",
       "                                             metrics  \n",
       "0  {'numFilesAdded': 0, 'numFilesRemoved': 0, 'fi...  "
      ]
     },
     "execution_count": 36,
     "metadata": {},
     "output_type": "execute_result"
    }
   ],
   "source": [
    "# coalesce small files into larger ones\n",
    "DeltaTable.forPath(spark, f\"s3a://{bucket}/delta-lake/users\").optimize().executeCompaction().toPandas()"
   ]
  },
  {
   "cell_type": "code",
   "execution_count": 37,
   "id": "76257d38-6dc0-4315-a0da-ccbe7fca91f8",
   "metadata": {
    "scrolled": true
   },
   "outputs": [
    {
     "name": "stderr",
     "output_type": "stream",
     "text": [
      "[Stage 247:=================================>                   (128 + 2) / 200]\r"
     ]
    },
    {
     "name": "stdout",
     "output_type": "stream",
     "text": [
      "Deleted 0 files and directories in a total of 6 directories.\n"
     ]
    },
    {
     "name": "stderr",
     "output_type": "stream",
     "text": [
      "                                                                                \r"
     ]
    },
    {
     "data": {
      "text/html": [
       "<div>\n",
       "<style scoped>\n",
       "    .dataframe tbody tr th:only-of-type {\n",
       "        vertical-align: middle;\n",
       "    }\n",
       "\n",
       "    .dataframe tbody tr th {\n",
       "        vertical-align: top;\n",
       "    }\n",
       "\n",
       "    .dataframe thead th {\n",
       "        text-align: right;\n",
       "    }\n",
       "</style>\n",
       "<table border=\"1\" class=\"dataframe\">\n",
       "  <thead>\n",
       "    <tr style=\"text-align: right;\">\n",
       "      <th></th>\n",
       "    </tr>\n",
       "  </thead>\n",
       "  <tbody>\n",
       "  </tbody>\n",
       "</table>\n",
       "</div>"
      ],
      "text/plain": [
       "Empty DataFrame\n",
       "Columns: []\n",
       "Index: []"
      ]
     },
     "execution_count": 37,
     "metadata": {},
     "output_type": "execute_result"
    }
   ],
   "source": [
    "# vacuum -  remove files no longer referenced\n",
    "# vacuum files not required by versions more than 1 hour old\n",
    "DeltaTable.forPath(spark, f\"s3a://{bucket}/delta-lake/users\").vacuum(1).toPandas()"
   ]
  },
  {
   "cell_type": "markdown",
   "id": "8c335819-621f-4372-a005-172078f7cf04",
   "metadata": {
    "scrolled": true
   },
   "source": [
    "## Using SQL commands on a delta table from S3"
   ]
  },
  {
   "cell_type": "code",
   "execution_count": 38,
   "id": "ca32136d-9f14-47f7-8402-15a84b453962",
   "metadata": {
    "scrolled": true
   },
   "outputs": [
    {
     "data": {
      "text/plain": [
       "DataFrame[]"
      ]
     },
     "execution_count": 38,
     "metadata": {},
     "output_type": "execute_result"
    }
   ],
   "source": [
    "spark.sql(f\"\"\"\n",
    "    ALTER TABLE delta.`s3a://{bucket}/delta-lake/users` SET TBLPROPERTIES (delta.enableChangeDataFeed = true)\n",
    "\"\"\")"
   ]
  },
  {
   "cell_type": "code",
   "execution_count": 39,
   "id": "e8c124f0-522e-4fcb-a0ee-cd557a482dd7",
   "metadata": {
    "scrolled": true
   },
   "outputs": [
    {
     "name": "stderr",
     "output_type": "stream",
     "text": [
      "                                                                                \r"
     ]
    },
    {
     "data": {
      "text/html": [
       "<div>\n",
       "<style scoped>\n",
       "    .dataframe tbody tr th:only-of-type {\n",
       "        vertical-align: middle;\n",
       "    }\n",
       "\n",
       "    .dataframe tbody tr th {\n",
       "        vertical-align: top;\n",
       "    }\n",
       "\n",
       "    .dataframe thead th {\n",
       "        text-align: right;\n",
       "    }\n",
       "</style>\n",
       "<table border=\"1\" class=\"dataframe\">\n",
       "  <thead>\n",
       "    <tr style=\"text-align: right;\">\n",
       "      <th></th>\n",
       "      <th>id</th>\n",
       "      <th>name</th>\n",
       "      <th>updated_at</th>\n",
       "    </tr>\n",
       "  </thead>\n",
       "  <tbody>\n",
       "    <tr>\n",
       "      <th>0</th>\n",
       "      <td>4</td>\n",
       "      <td>Carell</td>\n",
       "      <td>2022-04-04</td>\n",
       "    </tr>\n",
       "    <tr>\n",
       "      <th>1</th>\n",
       "      <td>2</td>\n",
       "      <td>Braga</td>\n",
       "      <td>2022-02-02</td>\n",
       "    </tr>\n",
       "    <tr>\n",
       "      <th>2</th>\n",
       "      <td>3</td>\n",
       "      <td>Steve</td>\n",
       "      <td>2022-03-03</td>\n",
       "    </tr>\n",
       "    <tr>\n",
       "      <th>3</th>\n",
       "      <td>1</td>\n",
       "      <td>Alice</td>\n",
       "      <td>2022-01-02</td>\n",
       "    </tr>\n",
       "    <tr>\n",
       "      <th>4</th>\n",
       "      <td>10</td>\n",
       "      <td>Jose</td>\n",
       "      <td>2023-01-02</td>\n",
       "    </tr>\n",
       "  </tbody>\n",
       "</table>\n",
       "</div>"
      ],
      "text/plain": [
       "   id    name  updated_at\n",
       "0   4  Carell  2022-04-04\n",
       "1   2   Braga  2022-02-02\n",
       "2   3   Steve  2022-03-03\n",
       "3   1   Alice  2022-01-02\n",
       "4  10    Jose  2023-01-02"
      ]
     },
     "execution_count": 39,
     "metadata": {},
     "output_type": "execute_result"
    }
   ],
   "source": [
    "spark.sql(f\"\"\"\n",
    "    SELECT * FROM delta.`s3a://{bucket}/delta-lake/users`\n",
    "\"\"\").toPandas()"
   ]
  },
  {
   "cell_type": "code",
   "execution_count": null,
   "id": "75228520-c426-40c8-89c4-75564b95fc47",
   "metadata": {},
   "outputs": [],
   "source": []
  },
  {
   "cell_type": "code",
   "execution_count": null,
   "id": "a9302181-a891-46f5-ba7c-a1df64af663d",
   "metadata": {},
   "outputs": [],
   "source": []
  },
  {
   "cell_type": "code",
   "execution_count": null,
   "id": "44f6f14c-dbfc-4e2f-a868-e26dc446e719",
   "metadata": {
    "scrolled": true
   },
   "outputs": [],
   "source": [
    "spark.stop()"
   ]
  },
  {
   "cell_type": "code",
   "execution_count": null,
   "id": "d26fe9d3-ab83-4d42-bdd8-a5ce7bc77aff",
   "metadata": {},
   "outputs": [],
   "source": []
  }
 ],
 "metadata": {
  "kernelspec": {
   "display_name": "Python 3 (ipykernel)",
   "language": "python",
   "name": "python3"
  },
  "language_info": {
   "codemirror_mode": {
    "name": "ipython",
    "version": 3
   },
   "file_extension": ".py",
   "mimetype": "text/x-python",
   "name": "python",
   "nbconvert_exporter": "python",
   "pygments_lexer": "ipython3",
   "version": "3.9.2"
  },
  "vscode": {
   "interpreter": {
    "hash": "916dbcbb3f70747c44a77c7bcd40155683ae19c65e1c03b4aa3499c5328201f1"
   }
  }
 },
 "nbformat": 4,
 "nbformat_minor": 5
}
