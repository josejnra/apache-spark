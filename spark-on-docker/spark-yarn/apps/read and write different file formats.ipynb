{
 "cells": [
  {
   "cell_type": "code",
   "execution_count": 1,
   "id": "waiting-professor",
   "metadata": {},
   "outputs": [
    {
     "name": "stderr",
     "output_type": "stream",
     "text": [
      "2022-02-19 03:47:32,763 WARN util.Utils: Your hostname, localhost resolves to a loopback address: 127.0.0.1; using 172.30.0.2 instead (on interface eth0)\n",
      "2022-02-19 03:47:32,763 WARN util.Utils: Set SPARK_LOCAL_IP if you need to bind to another address\n",
      "WARNING: An illegal reflective access operation has occurred\n",
      "WARNING: Illegal reflective access by org.apache.spark.unsafe.Platform (file:/opt/spark-3.2.1-bin-without-hadoop/jars/spark-unsafe_2.12-3.2.1.jar) to constructor java.nio.DirectByteBuffer(long,int)\n",
      "WARNING: Please consider reporting this to the maintainers of org.apache.spark.unsafe.Platform\n",
      "WARNING: Use --illegal-access=warn to enable warnings of further illegal reflective access operations\n",
      "WARNING: All illegal access operations will be denied in a future release\n",
      "Ivy Default Cache set to: /root/.ivy2/cache\n",
      "The jars for the packages stored in: /root/.ivy2/jars\n",
      "mysql#mysql-connector-java added as a dependency\n",
      "com.amazonaws#aws-java-sdk-s3 added as a dependency\n",
      "org.apache.hadoop#hadoop-aws added as a dependency\n",
      ":: resolving dependencies :: org.apache.spark#spark-submit-parent-b2087eed-ab85-4e03-9df4-dbb9c67255cc;1.0\n",
      "\tconfs: [default]\n"
     ]
    },
    {
     "name": "stdout",
     "output_type": "stream",
     "text": [
      ":: loading settings :: url = jar:file:/opt/spark-3.2.1-bin-without-hadoop/jars/ivy-2.5.0.jar!/org/apache/ivy/core/settings/ivysettings.xml\n"
     ]
    },
    {
     "name": "stderr",
     "output_type": "stream",
     "text": [
      "\tfound mysql#mysql-connector-java;8.0.28 in central\n",
      "\tfound com.google.protobuf#protobuf-java;3.11.4 in central\n",
      "\tfound com.amazonaws#aws-java-sdk-s3;1.12.161 in central\n",
      "\tfound com.amazonaws#aws-java-sdk-kms;1.12.161 in central\n",
      "\tfound com.amazonaws#aws-java-sdk-core;1.12.161 in central\n",
      "\tfound commons-logging#commons-logging;1.1.3 in central\n",
      "\tfound commons-codec#commons-codec;1.15 in central\n",
      "\tfound org.apache.httpcomponents#httpclient;4.5.13 in central\n",
      "\tfound org.apache.httpcomponents#httpcore;4.4.13 in central\n",
      "\tfound software.amazon.ion#ion-java;1.0.2 in central\n",
      "\tfound com.fasterxml.jackson.core#jackson-databind;2.12.6 in central\n",
      "\tfound com.fasterxml.jackson.core#jackson-annotations;2.12.6 in central\n",
      "\tfound com.fasterxml.jackson.core#jackson-core;2.12.6 in central\n",
      "\tfound com.fasterxml.jackson.dataformat#jackson-dataformat-cbor;2.12.6 in central\n",
      "\tfound joda-time#joda-time;2.8.1 in central\n",
      "\tfound com.amazonaws#jmespath-java;1.12.161 in central\n",
      "\tfound org.apache.hadoop#hadoop-aws;3.3.1 in central\n",
      "\tfound com.amazonaws#aws-java-sdk-bundle;1.11.901 in central\n",
      "\tfound org.wildfly.openssl#wildfly-openssl;1.0.7.Final in central\n",
      ":: resolution report :: resolve 305ms :: artifacts dl 8ms\n",
      "\t:: modules in use:\n",
      "\tcom.amazonaws#aws-java-sdk-bundle;1.11.901 from central in [default]\n",
      "\tcom.amazonaws#aws-java-sdk-core;1.12.161 from central in [default]\n",
      "\tcom.amazonaws#aws-java-sdk-kms;1.12.161 from central in [default]\n",
      "\tcom.amazonaws#aws-java-sdk-s3;1.12.161 from central in [default]\n",
      "\tcom.amazonaws#jmespath-java;1.12.161 from central in [default]\n",
      "\tcom.fasterxml.jackson.core#jackson-annotations;2.12.6 from central in [default]\n",
      "\tcom.fasterxml.jackson.core#jackson-core;2.12.6 from central in [default]\n",
      "\tcom.fasterxml.jackson.core#jackson-databind;2.12.6 from central in [default]\n",
      "\tcom.fasterxml.jackson.dataformat#jackson-dataformat-cbor;2.12.6 from central in [default]\n",
      "\tcom.google.protobuf#protobuf-java;3.11.4 from central in [default]\n",
      "\tcommons-codec#commons-codec;1.15 from central in [default]\n",
      "\tcommons-logging#commons-logging;1.1.3 from central in [default]\n",
      "\tjoda-time#joda-time;2.8.1 from central in [default]\n",
      "\tmysql#mysql-connector-java;8.0.28 from central in [default]\n",
      "\torg.apache.hadoop#hadoop-aws;3.3.1 from central in [default]\n",
      "\torg.apache.httpcomponents#httpclient;4.5.13 from central in [default]\n",
      "\torg.apache.httpcomponents#httpcore;4.4.13 from central in [default]\n",
      "\torg.wildfly.openssl#wildfly-openssl;1.0.7.Final from central in [default]\n",
      "\tsoftware.amazon.ion#ion-java;1.0.2 from central in [default]\n",
      "\t:: evicted modules:\n",
      "\tcommons-logging#commons-logging;1.2 by [commons-logging#commons-logging;1.1.3] in [default]\n",
      "\tcommons-codec#commons-codec;1.11 by [commons-codec#commons-codec;1.15] in [default]\n",
      "\t---------------------------------------------------------------------\n",
      "\t|                  |            modules            ||   artifacts   |\n",
      "\t|       conf       | number| search|dwnlded|evicted|| number|dwnlded|\n",
      "\t---------------------------------------------------------------------\n",
      "\t|      default     |   21  |   0   |   0   |   2   ||   19  |   0   |\n",
      "\t---------------------------------------------------------------------\n",
      ":: retrieving :: org.apache.spark#spark-submit-parent-b2087eed-ab85-4e03-9df4-dbb9c67255cc\n",
      "\tconfs: [default]\n",
      "\t0 artifacts copied, 19 already retrieved (0kB/7ms)\n",
      "Setting default log level to \"WARN\".\n",
      "To adjust logging level use sc.setLogLevel(newLevel). For SparkR, use setLogLevel(newLevel).\n",
      "2022-02-19 03:47:34,898 WARN yarn.Client: Neither spark.yarn.jars nor spark.yarn.archive is set, falling back to uploading libraries under SPARK_HOME.\n",
      "2022-02-19 03:47:39,618 WARN yarn.Client: Same path resource file:///root/.ivy2/jars/mysql_mysql-connector-java-8.0.28.jar added multiple times to distributed cache.\n",
      "2022-02-19 03:47:39,618 WARN yarn.Client: Same path resource file:///root/.ivy2/jars/com.amazonaws_aws-java-sdk-s3-1.12.161.jar added multiple times to distributed cache.\n",
      "2022-02-19 03:47:39,618 WARN yarn.Client: Same path resource file:///root/.ivy2/jars/org.apache.hadoop_hadoop-aws-3.3.1.jar added multiple times to distributed cache.\n",
      "2022-02-19 03:47:39,618 WARN yarn.Client: Same path resource file:///root/.ivy2/jars/com.google.protobuf_protobuf-java-3.11.4.jar added multiple times to distributed cache.\n",
      "2022-02-19 03:47:39,619 WARN yarn.Client: Same path resource file:///root/.ivy2/jars/com.amazonaws_aws-java-sdk-kms-1.12.161.jar added multiple times to distributed cache.\n",
      "2022-02-19 03:47:39,619 WARN yarn.Client: Same path resource file:///root/.ivy2/jars/com.amazonaws_aws-java-sdk-core-1.12.161.jar added multiple times to distributed cache.\n",
      "2022-02-19 03:47:39,619 WARN yarn.Client: Same path resource file:///root/.ivy2/jars/com.amazonaws_jmespath-java-1.12.161.jar added multiple times to distributed cache.\n",
      "2022-02-19 03:47:39,619 WARN yarn.Client: Same path resource file:///root/.ivy2/jars/commons-logging_commons-logging-1.1.3.jar added multiple times to distributed cache.\n",
      "2022-02-19 03:47:39,619 WARN yarn.Client: Same path resource file:///root/.ivy2/jars/commons-codec_commons-codec-1.15.jar added multiple times to distributed cache.\n",
      "2022-02-19 03:47:39,619 WARN yarn.Client: Same path resource file:///root/.ivy2/jars/org.apache.httpcomponents_httpclient-4.5.13.jar added multiple times to distributed cache.\n",
      "2022-02-19 03:47:39,619 WARN yarn.Client: Same path resource file:///root/.ivy2/jars/software.amazon.ion_ion-java-1.0.2.jar added multiple times to distributed cache.\n",
      "2022-02-19 03:47:39,619 WARN yarn.Client: Same path resource file:///root/.ivy2/jars/com.fasterxml.jackson.core_jackson-databind-2.12.6.jar added multiple times to distributed cache.\n",
      "2022-02-19 03:47:39,619 WARN yarn.Client: Same path resource file:///root/.ivy2/jars/com.fasterxml.jackson.dataformat_jackson-dataformat-cbor-2.12.6.jar added multiple times to distributed cache.\n",
      "2022-02-19 03:47:39,619 WARN yarn.Client: Same path resource file:///root/.ivy2/jars/joda-time_joda-time-2.8.1.jar added multiple times to distributed cache.\n",
      "2022-02-19 03:47:39,619 WARN yarn.Client: Same path resource file:///root/.ivy2/jars/org.apache.httpcomponents_httpcore-4.4.13.jar added multiple times to distributed cache.\n",
      "2022-02-19 03:47:39,619 WARN yarn.Client: Same path resource file:///root/.ivy2/jars/com.fasterxml.jackson.core_jackson-annotations-2.12.6.jar added multiple times to distributed cache.\n",
      "2022-02-19 03:47:39,619 WARN yarn.Client: Same path resource file:///root/.ivy2/jars/com.fasterxml.jackson.core_jackson-core-2.12.6.jar added multiple times to distributed cache.\n",
      "2022-02-19 03:47:39,619 WARN yarn.Client: Same path resource file:///root/.ivy2/jars/com.amazonaws_aws-java-sdk-bundle-1.11.901.jar added multiple times to distributed cache.\n",
      "2022-02-19 03:47:39,619 WARN yarn.Client: Same path resource file:///root/.ivy2/jars/org.wildfly.openssl_wildfly-openssl-1.0.7.Final.jar added multiple times to distributed cache.\n"
     ]
    },
    {
     "data": {
      "text/html": [
       "\n",
       "            <div>\n",
       "                <p><b>SparkSession - in-memory</b></p>\n",
       "                \n",
       "        <div>\n",
       "            <p><b>SparkContext</b></p>\n",
       "\n",
       "            <p><a href=\"http://localhost:4040\">Spark UI</a></p>\n",
       "\n",
       "            <dl>\n",
       "              <dt>Version</dt>\n",
       "                <dd><code>v3.2.1</code></dd>\n",
       "              <dt>Master</dt>\n",
       "                <dd><code>yarn</code></dd>\n",
       "              <dt>AppName</dt>\n",
       "                <dd><code>Read and Write</code></dd>\n",
       "            </dl>\n",
       "        </div>\n",
       "        \n",
       "            </div>\n",
       "        "
      ],
      "text/plain": [
       "<pyspark.sql.session.SparkSession at 0x7f8fa8483a90>"
      ]
     },
     "execution_count": 1,
     "metadata": {},
     "output_type": "execute_result"
    }
   ],
   "source": [
    "from pyspark.sql import SparkSession\n",
    "\n",
    "spark = SparkSession.builder \\\n",
    "                    .appName('Read and Write different file formats') \\\n",
    "                    .config(\"spark.jars.packages\", \"com.amazonaws:aws-java-sdk-s3:1.12.540,org.apache.hadoop:hadoop-aws:3.3.6\") \\\n",
    "                    .config(\"spark.hadoop.fs.s3a.endpoint\", \"http://minio:9000\") \\\n",
    "                    .config(\"spark.hadoop.fs.s3a.access.key\", \"minio\") \\\n",
    "                    .config(\"spark.hadoop.fs.s3a.secret.key\", \"minio123\") \\\n",
    "                    .config(\"spark.hadoop.fs.s3a.path.style.access\", True) \\\n",
    "                    .config(\"spark.hadoop.fs.s3a.impl\", \"org.apache.hadoop.fs.s3a.S3AFileSystem\") \\\n",
    "                    .config(\"spark.hadoop.fs.s3a.path.style.access\", \"true\") \\\n",
    "                    .config(\"spark.hadoop.fs.s3a.committer.name\", \"directory\") \\\n",
    "                    .config(\"spark.hadoop.fs.s3a.committer.staging.conflict-mode\", \"replace\") \\\n",
    "                    .config(\"spark.hadoop.fs.s3a.committer.staging.tmp.path\", \"/tmp/staging\") \\\n",
    "                    .getOrCreate()\n",
    "\n",
    "spark"
   ]
  },
  {
   "cell_type": "markdown",
   "id": "portable-charm",
   "metadata": {},
   "source": [
    "## CSV"
   ]
  },
  {
   "cell_type": "code",
   "execution_count": 1,
   "id": "631148a2-9b21-436f-ba94-facde4bbb03b",
   "metadata": {},
   "outputs": [
    {
     "name": "stderr",
     "output_type": "stream",
     "text": [
      "                                                                                \r"
     ]
    },
    {
     "name": "stdout",
     "output_type": "stream",
     "text": [
      "+---+---+-----+---+----+-----+-----+----+----+---+----+----+----+\n",
      "|  X|  Y|month|day|FFMC|  DMC|   DC| ISI|temp| RH|wind|rain|area|\n",
      "+---+---+-----+---+----+-----+-----+----+----+---+----+----+----+\n",
      "|  7|  5|  mar|fri|86.2| 26.2| 94.3| 5.1| 8.2| 51| 6.7| 0.0| 0.0|\n",
      "|  7|  4|  oct|tue|90.6| 35.4|669.1| 6.7|18.0| 33| 0.9| 0.0| 0.0|\n",
      "|  7|  4|  oct|sat|90.6| 43.7|686.9| 6.7|14.6| 33| 1.3| 0.0| 0.0|\n",
      "|  8|  6|  mar|fri|91.7| 33.3| 77.5| 9.0| 8.3| 97| 4.0| 0.2| 0.0|\n",
      "|  8|  6|  mar|sun|89.3| 51.3|102.2| 9.6|11.4| 99| 1.8| 0.0| 0.0|\n",
      "|  8|  6|  aug|sun|92.3| 85.3|488.0|14.7|22.2| 29| 5.4| 0.0| 0.0|\n",
      "|  8|  6|  aug|mon|92.3| 88.9|495.6| 8.5|24.1| 27| 3.1| 0.0| 0.0|\n",
      "|  8|  6|  aug|mon|91.5|145.4|608.2|10.7| 8.0| 86| 2.2| 0.0| 0.0|\n",
      "|  8|  6|  sep|tue|91.0|129.5|692.6| 7.0|13.1| 63| 5.4| 0.0| 0.0|\n",
      "|  7|  5|  sep|sat|92.5| 88.0|698.6| 7.1|22.8| 40| 4.0| 0.0| 0.0|\n",
      "|  7|  5|  sep|sat|92.5| 88.0|698.6| 7.1|17.8| 51| 7.2| 0.0| 0.0|\n",
      "|  7|  5|  sep|sat|92.8| 73.2|713.0|22.6|19.3| 38| 4.0| 0.0| 0.0|\n",
      "|  6|  5|  aug|fri|63.5| 70.8|665.3| 0.8|17.0| 72| 6.7| 0.0| 0.0|\n",
      "|  6|  5|  sep|mon|90.9|126.5|686.5| 7.0|21.3| 42| 2.2| 0.0| 0.0|\n",
      "|  6|  5|  sep|wed|92.9|133.3|699.6| 9.2|26.4| 21| 4.5| 0.0| 0.0|\n",
      "|  6|  5|  sep|fri|93.3|141.2|713.9|13.9|22.9| 44| 5.4| 0.0| 0.0|\n",
      "|  5|  5|  mar|sat|91.7| 35.8| 80.8| 7.8|15.1| 27| 5.4| 0.0| 0.0|\n",
      "|  8|  5|  oct|mon|84.9| 32.8|664.2| 3.0|16.7| 47| 4.9| 0.0| 0.0|\n",
      "|  6|  4|  mar|wed|89.2| 27.9| 70.8| 6.3|15.9| 35| 4.0| 0.0| 0.0|\n",
      "|  6|  4|  apr|sat|86.3| 27.4| 97.1| 5.1| 9.3| 44| 4.5| 0.0| 0.0|\n",
      "+---+---+-----+---+----+-----+-----+----+----+---+----+----+----+\n",
      "only showing top 20 rows\n",
      "\n"
     ]
    },
    {
     "data": {
      "text/plain": [
       "517"
      ]
     },
     "execution_count": 2,
     "metadata": {},
     "output_type": "execute_result"
    }
   ],
   "source": [
    "csv_df = spark.read.csv('./datasets/forestfires.csv', sep=',', header=True, inferSchema=True)\n",
    "csv_df.show()\n",
    "csv_df.printSchema()\n",
    "csv_df.count()"
   ]
  },
  {
   "cell_type": "markdown",
   "id": "d6d942c3-ee64-4841-9cd3-5a576b4c7eb6",
   "metadata": {},
   "source": [
    "## Passing Schema"
   ]
  },
  {
   "cell_type": "code",
   "execution_count": null,
   "id": "897177c1",
   "metadata": {},
   "outputs": [
    {
     "name": "stderr",
     "output_type": "stream",
     "text": [
      "                                                                                \r"
     ]
    },
    {
     "name": "stdout",
     "output_type": "stream",
     "text": [
      "+---+---+-----+---+----+-----+-----+----+----+---+----+----+----+\n",
      "|  X|  Y|month|day|FFMC|  DMC|   DC| ISI|temp| RH|wind|rain|area|\n",
      "+---+---+-----+---+----+-----+-----+----+----+---+----+----+----+\n",
      "|  7|  5|  mar|fri|86.2| 26.2| 94.3| 5.1| 8.2| 51| 6.7| 0.0| 0.0|\n",
      "|  7|  4|  oct|tue|90.6| 35.4|669.1| 6.7|18.0| 33| 0.9| 0.0| 0.0|\n",
      "|  7|  4|  oct|sat|90.6| 43.7|686.9| 6.7|14.6| 33| 1.3| 0.0| 0.0|\n",
      "|  8|  6|  mar|fri|91.7| 33.3| 77.5| 9.0| 8.3| 97| 4.0| 0.2| 0.0|\n",
      "|  8|  6|  mar|sun|89.3| 51.3|102.2| 9.6|11.4| 99| 1.8| 0.0| 0.0|\n",
      "|  8|  6|  aug|sun|92.3| 85.3|488.0|14.7|22.2| 29| 5.4| 0.0| 0.0|\n",
      "|  8|  6|  aug|mon|92.3| 88.9|495.6| 8.5|24.1| 27| 3.1| 0.0| 0.0|\n",
      "|  8|  6|  aug|mon|91.5|145.4|608.2|10.7| 8.0| 86| 2.2| 0.0| 0.0|\n",
      "|  8|  6|  sep|tue|91.0|129.5|692.6| 7.0|13.1| 63| 5.4| 0.0| 0.0|\n",
      "|  7|  5|  sep|sat|92.5| 88.0|698.6| 7.1|22.8| 40| 4.0| 0.0| 0.0|\n",
      "|  7|  5|  sep|sat|92.5| 88.0|698.6| 7.1|17.8| 51| 7.2| 0.0| 0.0|\n",
      "|  7|  5|  sep|sat|92.8| 73.2|713.0|22.6|19.3| 38| 4.0| 0.0| 0.0|\n",
      "|  6|  5|  aug|fri|63.5| 70.8|665.3| 0.8|17.0| 72| 6.7| 0.0| 0.0|\n",
      "|  6|  5|  sep|mon|90.9|126.5|686.5| 7.0|21.3| 42| 2.2| 0.0| 0.0|\n",
      "|  6|  5|  sep|wed|92.9|133.3|699.6| 9.2|26.4| 21| 4.5| 0.0| 0.0|\n",
      "|  6|  5|  sep|fri|93.3|141.2|713.9|13.9|22.9| 44| 5.4| 0.0| 0.0|\n",
      "|  5|  5|  mar|sat|91.7| 35.8| 80.8| 7.8|15.1| 27| 5.4| 0.0| 0.0|\n",
      "|  8|  5|  oct|mon|84.9| 32.8|664.2| 3.0|16.7| 47| 4.9| 0.0| 0.0|\n",
      "|  6|  4|  mar|wed|89.2| 27.9| 70.8| 6.3|15.9| 35| 4.0| 0.0| 0.0|\n",
      "|  6|  4|  apr|sat|86.3| 27.4| 97.1| 5.1| 9.3| 44| 4.5| 0.0| 0.0|\n",
      "+---+---+-----+---+----+-----+-----+----+----+---+----+----+----+\n",
      "only showing top 20 rows\n",
      "\n"
     ]
    },
    {
     "data": {
      "text/plain": [
       "517"
      ]
     },
     "metadata": {},
     "output_type": "display_data"
    }
   ],
   "source": [
    "from pyspark.sql.types import StructType, StructField, StringType, IntegerType, DoubleType\n",
    "\n",
    "\n",
    "schema = StructType([\n",
    "    StructField('x', IntegerType()),\n",
    "    StructField('y', IntegerType()),\n",
    "    StructField('month', StringType()),\n",
    "    StructField('day', StringType()),\n",
    "    StructField('ffmc', DoubleType()),\n",
    "    StructField('dmc', DoubleType()),\n",
    "    StructField('dc', DoubleType()),\n",
    "    StructField('isi', DoubleType()),\n",
    "    StructField('temp', DoubleType()),\n",
    "    StructField('rh', IntegerType()),\n",
    "    StructField('wind', DoubleType()),\n",
    "    StructField('rain', DoubleType()),\n",
    "    StructField('area', DoubleType())\n",
    "])\n",
    "\n",
    "csv_df = spark.read.csv('datasets/forestfires.csv', header=True, sep=',', schema=schema)\n",
    "\n",
    "csv_df.show()\n",
    "csv_df.count()"
   ]
  },
  {
   "cell_type": "code",
   "execution_count": 3,
   "id": "skilled-blond",
   "metadata": {},
   "outputs": [],
   "source": [
    "csv_df.write.csv('output/write-csv', mode='overwrite')"
   ]
  },
  {
   "cell_type": "markdown",
   "id": "plain-joseph",
   "metadata": {},
   "source": [
    "## Parquet"
   ]
  },
  {
   "cell_type": "code",
   "execution_count": 4,
   "id": "charitable-license",
   "metadata": {},
   "outputs": [
    {
     "name": "stdout",
     "output_type": "stream",
     "text": [
      "+---+--------------------+---+---+------+------+--------------+---+-----------+----+------+-----------+--------------------+--------------------+-----+\n",
      "| ID|                Name|Sex|Age|Height|Weight|          Team|NOC|      Games|Year|Season|       City|               Sport|               Event|Medal|\n",
      "+---+--------------------+---+---+------+------+--------------+---+-----------+----+------+-----------+--------------------+--------------------+-----+\n",
      "|  1|           A Dijiang|  M| 24|   180|    80|         China|CHN|1992 Summer|1992|Summer|  Barcelona|          Basketball|Basketball Men's ...|   NA|\n",
      "|  2|            A Lamusi|  M| 23|   170|    60|         China|CHN|2012 Summer|2012|Summer|     London|                Judo|Judo Men's Extra-...|   NA|\n",
      "|  3| Gunnar Nielsen Aaby|  M| 24|    NA|    NA|       Denmark|DEN|1920 Summer|1920|Summer|  Antwerpen|            Football|Football Men's Fo...|   NA|\n",
      "|  4|Edgar Lindenau Aabye|  M| 34|    NA|    NA|Denmark/Sweden|DEN|1900 Summer|1900|Summer|      Paris|          Tug-Of-War|Tug-Of-War Men's ...| Gold|\n",
      "|  5|Christine Jacoba ...|  F| 21|   185|    82|   Netherlands|NED|1988 Winter|1988|Winter|    Calgary|       Speed Skating|Speed Skating Wom...|   NA|\n",
      "|  5|Christine Jacoba ...|  F| 21|   185|    82|   Netherlands|NED|1988 Winter|1988|Winter|    Calgary|       Speed Skating|Speed Skating Wom...|   NA|\n",
      "|  5|Christine Jacoba ...|  F| 25|   185|    82|   Netherlands|NED|1992 Winter|1992|Winter|Albertville|       Speed Skating|Speed Skating Wom...|   NA|\n",
      "|  5|Christine Jacoba ...|  F| 25|   185|    82|   Netherlands|NED|1992 Winter|1992|Winter|Albertville|       Speed Skating|Speed Skating Wom...|   NA|\n",
      "|  5|Christine Jacoba ...|  F| 27|   185|    82|   Netherlands|NED|1994 Winter|1994|Winter|Lillehammer|       Speed Skating|Speed Skating Wom...|   NA|\n",
      "|  5|Christine Jacoba ...|  F| 27|   185|    82|   Netherlands|NED|1994 Winter|1994|Winter|Lillehammer|       Speed Skating|Speed Skating Wom...|   NA|\n",
      "|  6|     Per Knut Aaland|  M| 31|   188|    75| United States|USA|1992 Winter|1992|Winter|Albertville|Cross Country Skiing|Cross Country Ski...|   NA|\n",
      "|  6|     Per Knut Aaland|  M| 31|   188|    75| United States|USA|1992 Winter|1992|Winter|Albertville|Cross Country Skiing|Cross Country Ski...|   NA|\n",
      "|  6|     Per Knut Aaland|  M| 31|   188|    75| United States|USA|1992 Winter|1992|Winter|Albertville|Cross Country Skiing|Cross Country Ski...|   NA|\n",
      "|  6|     Per Knut Aaland|  M| 31|   188|    75| United States|USA|1992 Winter|1992|Winter|Albertville|Cross Country Skiing|Cross Country Ski...|   NA|\n",
      "|  6|     Per Knut Aaland|  M| 33|   188|    75| United States|USA|1994 Winter|1994|Winter|Lillehammer|Cross Country Skiing|Cross Country Ski...|   NA|\n",
      "|  6|     Per Knut Aaland|  M| 33|   188|    75| United States|USA|1994 Winter|1994|Winter|Lillehammer|Cross Country Skiing|Cross Country Ski...|   NA|\n",
      "|  6|     Per Knut Aaland|  M| 33|   188|    75| United States|USA|1994 Winter|1994|Winter|Lillehammer|Cross Country Skiing|Cross Country Ski...|   NA|\n",
      "|  6|     Per Knut Aaland|  M| 33|   188|    75| United States|USA|1994 Winter|1994|Winter|Lillehammer|Cross Country Skiing|Cross Country Ski...|   NA|\n",
      "|  7|        John Aalberg|  M| 31|   183|    72| United States|USA|1992 Winter|1992|Winter|Albertville|Cross Country Skiing|Cross Country Ski...|   NA|\n",
      "|  7|        John Aalberg|  M| 31|   183|    72| United States|USA|1992 Winter|1992|Winter|Albertville|Cross Country Skiing|Cross Country Ski...|   NA|\n",
      "+---+--------------------+---+---+------+------+--------------+---+-----------+----+------+-----------+--------------------+--------------------+-----+\n",
      "only showing top 20 rows\n",
      "\n"
     ]
    },
    {
     "data": {
      "text/plain": [
       "271116"
      ]
     },
     "execution_count": 4,
     "metadata": {},
     "output_type": "execute_result"
    }
   ],
   "source": [
    "parquet_df = spark.read \\\n",
    "                  .parquet('datasets/olympic-history/athletes_events')\n",
    "parquet_df.show()\n",
    "parquet_df.count()"
   ]
  },
  {
   "cell_type": "code",
   "execution_count": 5,
   "id": "7c5c47d1-748a-4412-9ded-bf00809471c5",
   "metadata": {},
   "outputs": [
    {
     "name": "stdout",
     "output_type": "stream",
     "text": [
      "root\n",
      " |-- ID: string (nullable = true)\n",
      " |-- Name: string (nullable = true)\n",
      " |-- Sex: string (nullable = true)\n",
      " |-- Age: string (nullable = true)\n",
      " |-- Height: string (nullable = true)\n",
      " |-- Weight: string (nullable = true)\n",
      " |-- Team: string (nullable = true)\n",
      " |-- NOC: string (nullable = true)\n",
      " |-- Games: string (nullable = true)\n",
      " |-- Year: string (nullable = true)\n",
      " |-- Season: string (nullable = true)\n",
      " |-- City: string (nullable = true)\n",
      " |-- Sport: string (nullable = true)\n",
      " |-- Event: string (nullable = true)\n",
      " |-- Medal: string (nullable = true)\n",
      "\n"
     ]
    }
   ],
   "source": [
    "parquet_df.printSchema()"
   ]
  },
  {
   "cell_type": "code",
   "execution_count": 6,
   "id": "495ef020-015c-4a29-a4f3-9fcfeab8180d",
   "metadata": {},
   "outputs": [],
   "source": [
    "from pyspark.sql.types import StructType, StructField, StringType\n",
    "\n",
    "p_schema = StructType([\n",
    "            StructField(\"id\", StringType(), True),\n",
    "            StructField(\"name\", StringType(), True)\n",
    "])"
   ]
  },
  {
   "cell_type": "code",
   "execution_count": 7,
   "id": "bb975820-9ed0-4d10-8275-748fe2b62bb3",
   "metadata": {},
   "outputs": [
    {
     "name": "stdout",
     "output_type": "stream",
     "text": [
      "+---+--------------------+\n",
      "| id|                name|\n",
      "+---+--------------------+\n",
      "|  1|           A Dijiang|\n",
      "|  2|            A Lamusi|\n",
      "|  3| Gunnar Nielsen Aaby|\n",
      "|  4|Edgar Lindenau Aabye|\n",
      "|  5|Christine Jacoba ...|\n",
      "|  5|Christine Jacoba ...|\n",
      "|  5|Christine Jacoba ...|\n",
      "|  5|Christine Jacoba ...|\n",
      "|  5|Christine Jacoba ...|\n",
      "|  5|Christine Jacoba ...|\n",
      "|  6|     Per Knut Aaland|\n",
      "|  6|     Per Knut Aaland|\n",
      "|  6|     Per Knut Aaland|\n",
      "|  6|     Per Knut Aaland|\n",
      "|  6|     Per Knut Aaland|\n",
      "|  6|     Per Knut Aaland|\n",
      "|  6|     Per Knut Aaland|\n",
      "|  6|     Per Knut Aaland|\n",
      "|  7|        John Aalberg|\n",
      "|  7|        John Aalberg|\n",
      "+---+--------------------+\n",
      "only showing top 20 rows\n",
      "\n"
     ]
    }
   ],
   "source": [
    "p_df = spark.read \\\n",
    "            .schema(p_schema) \\\n",
    "            .parquet('datasets/olympic-history/athletes_events')\n",
    "p_df.show()"
   ]
  },
  {
   "cell_type": "markdown",
   "id": "53cd6093-5ab7-4877-904c-217912705d7e",
   "metadata": {},
   "source": [
    "### Write to HDFS"
   ]
  },
  {
   "cell_type": "code",
   "execution_count": 8,
   "id": "0e774a97-f449-4b01-bad1-90d4467353a0",
   "metadata": {},
   "outputs": [
    {
     "name": "stderr",
     "output_type": "stream",
     "text": [
      "                                                                                \r"
     ]
    }
   ],
   "source": [
    "parquet_df.write.parquet('output/write-parquet', mode='overwrite')"
   ]
  },
  {
   "cell_type": "markdown",
   "id": "fa43dbb1-f660-494c-a959-c6bc9e564382",
   "metadata": {},
   "source": [
    "### Write to Minio (S3)"
   ]
  },
  {
   "cell_type": "code",
   "execution_count": 9,
   "id": "23ea0714-0cf2-436f-8fdb-fcac382fe452",
   "metadata": {},
   "outputs": [
    {
     "name": "stderr",
     "output_type": "stream",
     "text": [
      "                                                                                \r"
     ]
    }
   ],
   "source": [
    "parquet_df.write.parquet(\"s3a://teste/data/output/\", mode='overwrite')"
   ]
  },
  {
   "cell_type": "code",
   "execution_count": 10,
   "id": "5b169852-2b63-4439-88c3-df03f1ca1547",
   "metadata": {},
   "outputs": [
    {
     "name": "stdout",
     "output_type": "stream",
     "text": [
      "+---+--------------------+---+---+------+------+--------------+---+-----------+----+------+-----------+--------------------+--------------------+-----+\n",
      "| ID|                Name|Sex|Age|Height|Weight|          Team|NOC|      Games|Year|Season|       City|               Sport|               Event|Medal|\n",
      "+---+--------------------+---+---+------+------+--------------+---+-----------+----+------+-----------+--------------------+--------------------+-----+\n",
      "|  1|           A Dijiang|  M| 24|   180|    80|         China|CHN|1992 Summer|1992|Summer|  Barcelona|          Basketball|Basketball Men's ...|   NA|\n",
      "|  2|            A Lamusi|  M| 23|   170|    60|         China|CHN|2012 Summer|2012|Summer|     London|                Judo|Judo Men's Extra-...|   NA|\n",
      "|  3| Gunnar Nielsen Aaby|  M| 24|    NA|    NA|       Denmark|DEN|1920 Summer|1920|Summer|  Antwerpen|            Football|Football Men's Fo...|   NA|\n",
      "|  4|Edgar Lindenau Aabye|  M| 34|    NA|    NA|Denmark/Sweden|DEN|1900 Summer|1900|Summer|      Paris|          Tug-Of-War|Tug-Of-War Men's ...| Gold|\n",
      "|  5|Christine Jacoba ...|  F| 21|   185|    82|   Netherlands|NED|1988 Winter|1988|Winter|    Calgary|       Speed Skating|Speed Skating Wom...|   NA|\n",
      "|  5|Christine Jacoba ...|  F| 21|   185|    82|   Netherlands|NED|1988 Winter|1988|Winter|    Calgary|       Speed Skating|Speed Skating Wom...|   NA|\n",
      "|  5|Christine Jacoba ...|  F| 25|   185|    82|   Netherlands|NED|1992 Winter|1992|Winter|Albertville|       Speed Skating|Speed Skating Wom...|   NA|\n",
      "|  5|Christine Jacoba ...|  F| 25|   185|    82|   Netherlands|NED|1992 Winter|1992|Winter|Albertville|       Speed Skating|Speed Skating Wom...|   NA|\n",
      "|  5|Christine Jacoba ...|  F| 27|   185|    82|   Netherlands|NED|1994 Winter|1994|Winter|Lillehammer|       Speed Skating|Speed Skating Wom...|   NA|\n",
      "|  5|Christine Jacoba ...|  F| 27|   185|    82|   Netherlands|NED|1994 Winter|1994|Winter|Lillehammer|       Speed Skating|Speed Skating Wom...|   NA|\n",
      "|  6|     Per Knut Aaland|  M| 31|   188|    75| United States|USA|1992 Winter|1992|Winter|Albertville|Cross Country Skiing|Cross Country Ski...|   NA|\n",
      "|  6|     Per Knut Aaland|  M| 31|   188|    75| United States|USA|1992 Winter|1992|Winter|Albertville|Cross Country Skiing|Cross Country Ski...|   NA|\n",
      "|  6|     Per Knut Aaland|  M| 31|   188|    75| United States|USA|1992 Winter|1992|Winter|Albertville|Cross Country Skiing|Cross Country Ski...|   NA|\n",
      "|  6|     Per Knut Aaland|  M| 31|   188|    75| United States|USA|1992 Winter|1992|Winter|Albertville|Cross Country Skiing|Cross Country Ski...|   NA|\n",
      "|  6|     Per Knut Aaland|  M| 33|   188|    75| United States|USA|1994 Winter|1994|Winter|Lillehammer|Cross Country Skiing|Cross Country Ski...|   NA|\n",
      "|  6|     Per Knut Aaland|  M| 33|   188|    75| United States|USA|1994 Winter|1994|Winter|Lillehammer|Cross Country Skiing|Cross Country Ski...|   NA|\n",
      "|  6|     Per Knut Aaland|  M| 33|   188|    75| United States|USA|1994 Winter|1994|Winter|Lillehammer|Cross Country Skiing|Cross Country Ski...|   NA|\n",
      "|  6|     Per Knut Aaland|  M| 33|   188|    75| United States|USA|1994 Winter|1994|Winter|Lillehammer|Cross Country Skiing|Cross Country Ski...|   NA|\n",
      "|  7|        John Aalberg|  M| 31|   183|    72| United States|USA|1992 Winter|1992|Winter|Albertville|Cross Country Skiing|Cross Country Ski...|   NA|\n",
      "|  7|        John Aalberg|  M| 31|   183|    72| United States|USA|1992 Winter|1992|Winter|Albertville|Cross Country Skiing|Cross Country Ski...|   NA|\n",
      "+---+--------------------+---+---+------+------+--------------+---+-----------+----+------+-----------+--------------------+--------------------+-----+\n",
      "only showing top 20 rows\n",
      "\n"
     ]
    }
   ],
   "source": [
    "spark.read.parquet(\"s3a://teste/data/output/\").show()"
   ]
  },
  {
   "cell_type": "markdown",
   "id": "c3efbc4b-1a57-45cd-ae6a-b9c00b8fd12f",
   "metadata": {},
   "source": [
    "## PartitionBy"
   ]
  },
  {
   "cell_type": "code",
   "execution_count": 13,
   "id": "1149f0b5-9ed4-45bb-9a8e-e192faff796f",
   "metadata": {},
   "outputs": [
    {
     "name": "stdout",
     "output_type": "stream",
     "text": [
      "root\n",
      " |-- ID: string (nullable = true)\n",
      " |-- Name: string (nullable = true)\n",
      " |-- Sex: string (nullable = true)\n",
      " |-- Age: string (nullable = true)\n",
      " |-- Height: string (nullable = true)\n",
      " |-- Weight: string (nullable = true)\n",
      " |-- Team: string (nullable = true)\n",
      " |-- NOC: string (nullable = true)\n",
      " |-- Games: string (nullable = true)\n",
      " |-- Year: string (nullable = true)\n",
      " |-- Season: string (nullable = true)\n",
      " |-- City: string (nullable = true)\n",
      " |-- Sport: string (nullable = true)\n",
      " |-- Event: string (nullable = true)\n",
      " |-- Medal: string (nullable = true)\n",
      "\n"
     ]
    }
   ],
   "source": [
    "parquet_df.printSchema()"
   ]
  },
  {
   "cell_type": "code",
   "execution_count": 14,
   "id": "255c3c47-a32c-45e3-9d90-d0ff4aa7e846",
   "metadata": {},
   "outputs": [
    {
     "name": "stderr",
     "output_type": "stream",
     "text": [
      "                                                                                \r"
     ]
    }
   ],
   "source": [
    "parquet_df.write \\\n",
    "          .partitionBy(\"City\", \"Year\") \\\n",
    "          .parquet('output/partitioned', mode='overwrite')"
   ]
  },
  {
   "cell_type": "code",
   "execution_count": 15,
   "id": "c1ae38cc-5003-49ae-aca2-3b206561d984",
   "metadata": {},
   "outputs": [
    {
     "name": "stdout",
     "output_type": "stream",
     "text": [
      "root\n",
      " |-- ID: string (nullable = true)\n",
      " |-- Name: string (nullable = true)\n",
      " |-- Sex: string (nullable = true)\n",
      " |-- Age: string (nullable = true)\n",
      " |-- Height: string (nullable = true)\n",
      " |-- Weight: string (nullable = true)\n",
      " |-- Team: string (nullable = true)\n",
      " |-- NOC: string (nullable = true)\n",
      " |-- Games: string (nullable = true)\n",
      " |-- Season: string (nullable = true)\n",
      " |-- Sport: string (nullable = true)\n",
      " |-- Event: string (nullable = true)\n",
      " |-- Medal: string (nullable = true)\n",
      " |-- City: string (nullable = true)\n",
      " |-- Year: string (nullable = true)\n",
      "\n"
     ]
    }
   ],
   "source": [
    "spark.read.parquet(\"output/partitioned\").printSchema()"
   ]
  },
  {
   "cell_type": "markdown",
   "id": "07ed52a3-b6f0-4415-9bc4-c609939eb1ff",
   "metadata": {},
   "source": [
    "## Bucketing"
   ]
  },
  {
   "cell_type": "code",
   "execution_count": 16,
   "id": "25ebd792-5ebc-498e-97a1-6297f1403a8b",
   "metadata": {},
   "outputs": [
    {
     "name": "stderr",
     "output_type": "stream",
     "text": [
      "                                                                                \r"
     ]
    }
   ],
   "source": [
    "parquet_df.write \\\n",
    "          .mode(\"overwrite\") \\\n",
    "          .bucketBy(16, 'City') \\\n",
    "          .sortBy('City') \\\n",
    "          .saveAsTable(\"bucketed\", format='parquet')"
   ]
  },
  {
   "cell_type": "code",
   "execution_count": 17,
   "id": "abcaf86a-476a-45d4-87b1-44c159d9a037",
   "metadata": {},
   "outputs": [
    {
     "name": "stdout",
     "output_type": "stream",
     "text": [
      "+-----+--------------------+----------+------------+------+------+---------+---+-----------+----+-----------+--------+-------------+--------------------+---------+\n",
      "|   ID|                Name|       Sex|         Age|Height|Weight|     Team|NOC|      Games|Year|     Season|    City|        Sport|               Event|    Medal|\n",
      "+-----+--------------------+----------+------------+------+------+---------+---+-----------+----+-----------+--------+-------------+--------------------+---------+\n",
      "| 5816|\"Edna Roxanne \"\"R...| -Campbell| -Andersen)\"|     F|    24|      160| NA|     Canada| CAN|1936 Summer|    1936|       Summer|              Berlin|Athletics|\n",
      "|27542|\"Willemijntje \"\"W...|    -Jager| -Schupper)\"|     F|    18|      163| NA|Netherlands| NED|1936 Summer|    1936|       Summer|              Berlin| Swimming|\n",
      "|27542|\"Willemijntje \"\"W...|    -Jager| -Schupper)\"|     F|    18|      163| NA|Netherlands| NED|1936 Summer|    1936|       Summer|              Berlin| Swimming|\n",
      "|   52|       Patrick Abada|         M|          22|   189|    80|   France|FRA|1976 Summer|1976|     Summer|Montreal|    Athletics|Athletics Men's P...|       NA|\n",
      "|   85|Alejandro Abascal...|         M|          24|   181|    82|    Spain|ESP|1976 Summer|1976|     Summer|Montreal|      Sailing|Sailing Mixed Two...|       NA|\n",
      "|   97|Carlos Alberto Ab...|         M|          16|   180|    70|Nicaragua|NCA|1976 Summer|1976|     Summer|Montreal|    Athletics|Athletics Men's H...|       NA|\n",
      "|  109|Abdul Latif Al-Sa...|         M|          23|   176|    64|   Kuwait|KUW|1976 Summer|1976|     Summer|Montreal|    Athletics|Athletics Men's 4...|       NA|\n",
      "|  109|Abdul Latif Al-Sa...|         M|          23|   176|    64|   Kuwait|KUW|1976 Summer|1976|     Summer|Montreal|    Athletics|Athletics Men's 4...|       NA|\n",
      "|  146|       Jeremy Abbott|         M|          19|   179|    71|   Canada|CAN|1976 Summer|1976|     Summer|Montreal|     Canoeing|Canoeing Men's Ca...|       NA|\n",
      "|  187|Moustafa Ali Abde...|         M|          32|   152|    52|    Egypt|EGY|1976 Summer|1976|     Summer|Montreal|Weightlifting|Weightlifting Men...|       NA|\n",
      "|  196|Mohamed Abdel Khaled|         M|          24|   183|    76|  Tunisia|TUN|1976 Summer|1976|     Summer|Montreal|     Handball|Handball Men's Ha...|       NA|\n",
      "|  202|Awad Abdel Nabi Awad|         M|          23|   198|    80|    Egypt|EGY|1976 Summer|1976|     Summer|Montreal|   Basketball|Basketball Men's ...|       NA|\n",
      "|  222|Mohamed Said Abde...|         M|          22|   157|    48|    Egypt|EGY|1976 Summer|1976|     Summer|Montreal|       Boxing|Boxing Men's Ligh...|       NA|\n",
      "|  261| Nasrollah Abdollahi|         M|          24|   183|    75|     Iran|IRI|1976 Summer|1976|     Summer|Montreal|     Football|Football Men's Fo...|       NA|\n",
      "|  286|Abdul Aziz Hassan...|         M|          23|   169|    60|   Kuwait|KUW|1976 Summer|1976|     Summer|Montreal|    Athletics|Athletics Men's 2...|       NA|\n",
      "|  286|Abdul Aziz Hassan...|         M|          23|   169|    60|   Kuwait|KUW|1976 Summer|1976|     Summer|Montreal|    Athletics|Athletics Men's 4...|       NA|\n",
      "|  292|Firouz Abdul Moha...|         M|          34|   178|    74|     Iran|IRI|1976 Summer|1976|     Summer|Montreal|   Water Polo|Water Polo Men's ...|       NA|\n",
      "|  370|        Shigeaki Abe|         M|          28|   178|    70|    Japan|JPN|1976 Summer|1976|     Summer|Montreal|   Basketball|Basketball Men's ...|       NA|\n",
      "|  386|     Alexandre Abeid|         M|          26|   194|    92|   Brazil|BRA|1976 Summer|1976|     Summer|Montreal|   Volleyball|Volleyball Men's ...|       NA|\n",
      "|  413|Hugo Ral Aberastegui|         M|          34|   186|    84|Argentina|ARG|1976 Summer|1976|     Summer|Montreal|       Rowing|Rowing Men's Coxe...|       NA|\n",
      "+-----+--------------------+----------+------------+------+------+---------+---+-----------+----+-----------+--------+-------------+--------------------+---------+\n",
      "only showing top 20 rows\n",
      "\n"
     ]
    }
   ],
   "source": [
    "spark.table('bucketed').show()"
   ]
  },
  {
   "cell_type": "code",
   "execution_count": 18,
   "id": "370a99e5-5eed-4f5f-bfdb-1157a89d7ee4",
   "metadata": {},
   "outputs": [],
   "source": [
    "spark.stop()"
   ]
  },
  {
   "cell_type": "code",
   "execution_count": null,
   "id": "a951f712-fb92-4312-adf4-7f32de2efcd3",
   "metadata": {},
   "outputs": [],
   "source": []
  }
 ],
 "metadata": {
  "kernelspec": {
   "display_name": "Python 3 (ipykernel)",
   "language": "python",
   "name": "python3"
  },
  "language_info": {
   "codemirror_mode": {
    "name": "ipython",
    "version": 3
   },
   "file_extension": ".py",
   "mimetype": "text/x-python",
   "name": "python",
   "nbconvert_exporter": "python",
   "pygments_lexer": "ipython3",
   "version": "3.9.2"
  }
 },
 "nbformat": 4,
 "nbformat_minor": 5
}
