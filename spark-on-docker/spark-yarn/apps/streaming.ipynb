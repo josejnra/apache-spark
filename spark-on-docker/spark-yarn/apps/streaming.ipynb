{
 "cells": [
  {
   "cell_type": "code",
   "execution_count": null,
   "id": "complicated-harmony",
   "metadata": {},
   "outputs": [],
   "source": [
    "from pyspark import SparkContext, SparkConf\n",
    "from pyspark.sql import SparkSession\n",
    "\n",
    "config = SparkConf() \\\n",
    "                    .setAppName(\"Spark Streaming\") \\\n",
    "                    .set(\"spark.jars.packages\",\"org.apache.spark:spark-sql-kafka-0-10_2.12:3.4.1\") \\\n",
    "                    .set(\"spark.sql.streaming.checkpointLocation\", \"hdfs:///user/root/checkpoint\")\n",
    "\n",
    "sc = SparkContext(conf=config)\n",
    "spark = SparkSession(sc)\n",
    "\n",
    "spark"
   ]
  },
  {
   "cell_type": "markdown",
   "id": "ab55998c-2fb7-406d-aaa1-31c3d0eb049a",
   "metadata": {},
   "source": [
    "### Import some spark functions"
   ]
  },
  {
   "cell_type": "code",
   "execution_count": 2,
   "id": "71dc4e2f-8bc4-4551-8d2c-355861f8e9cc",
   "metadata": {},
   "outputs": [],
   "source": [
    "from pyspark.sql.functions import lit, col"
   ]
  },
  {
   "cell_type": "markdown",
   "id": "finnish-nebraska",
   "metadata": {},
   "source": [
    "## Structured Streaming"
   ]
  },
  {
   "cell_type": "markdown",
   "id": "36be4b7f-5389-40ca-8737-fdb3396e5ec0",
   "metadata": {
    "tags": []
   },
   "source": [
    "### Streaming Queries"
   ]
  },
  {
   "cell_type": "code",
   "execution_count": 3,
   "id": "1eba83a9-c478-4212-adf8-898d7d147563",
   "metadata": {},
   "outputs": [],
   "source": [
    "# Subscribe to 1 topic, with headers\n",
    "df = spark \\\n",
    "    .readStream \\\n",
    "    .format(\"kafka\") \\\n",
    "    .option(\"kafka.bootstrap.servers\", \"kafka-broker:29092\") \\\n",
    "    .option(\"subscribe\", \"quickstart-events\") \\\n",
    "    .option(\"startingOffsets\", \"latest\") \\\n",
    "    .option(\"minPartitions\", \"10\") \\\n",
    "    .option(\"failOnDataLoss\", \"true\") \\\n",
    "    .option(\"includeHeaders\", \"true\") \\\n",
    "    .load()"
   ]
  },
  {
   "cell_type": "code",
   "execution_count": null,
   "id": "f71a1422-6864-4de8-853f-57fcba974e9a",
   "metadata": {},
   "outputs": [],
   "source": [
    "# Subscribe to a pattern\n",
    "df = spark \\\n",
    "     .readStream \\\n",
    "     .format(\"kafka\") \\\n",
    "     .option(\"kafka.bootstrap.servers\", \"kafka-broker:29092\") \\\n",
    "     .option(\"subscribePattern\", \"topic.*\") \\\n",
    "     .load()"
   ]
  },
  {
   "cell_type": "markdown",
   "id": "29c06eeb-3d22-4529-a97a-a80f40227b49",
   "metadata": {},
   "source": [
    "#### Sink"
   ]
  },
  {
   "cell_type": "code",
   "execution_count": 4,
   "id": "3f549f49-ebcf-4563-8bed-dcfdebb124ef",
   "metadata": {},
   "outputs": [
    {
     "name": "stderr",
     "output_type": "stream",
     "text": [
      "                                                                                \r"
     ]
    }
   ],
   "source": [
    "# Write key-value data from a DataFrame to a specific Kafka topic specified in an option\n",
    "df = df \\\n",
    "  .selectExpr(\"CAST(key AS STRING)\", \"CAST(value AS STRING)\", \"headers\") \\\n",
    "  .withColumn(\"value\", lit(\"changing events value\")) \\\n",
    "  .writeStream \\\n",
    "  .format(\"kafka\") \\\n",
    "  .option(\"kafka.bootstrap.servers\", \"kafka-broker:29092\") \\\n",
    "  .option(\"topic\", \"another-topic\") \\\n",
    "  .start()"
   ]
  },
  {
   "cell_type": "code",
   "execution_count": null,
   "id": "b8ea1e6f-2b0d-4a62-95be-aef5fe2547f6",
   "metadata": {},
   "outputs": [],
   "source": [
    "# Write key-value data from a DataFrame to Kafka using a topic specified in the data\n",
    "df = df \\\n",
    "  .selectExpr(\"topic\", \"CAST(key AS STRING)\", \"CAST(value AS STRING)\") \\\n",
    "  .withColumn(\"value\", lit(\"outro valor\")) \\\n",
    "  .writeStream \\\n",
    "  .format(\"kafka\") \\\n",
    "  .option(\"kafka.bootstrap.servers\", \"kafka-broker:29092\") \\\n",
    "  .start()"
   ]
  },
  {
   "cell_type": "markdown",
   "id": "9f2e2b68-8062-4239-a979-0127391273b8",
   "metadata": {
    "tags": []
   },
   "source": [
    "### Batch Queries"
   ]
  },
  {
   "cell_type": "code",
   "execution_count": 5,
   "id": "wooden-newark",
   "metadata": {},
   "outputs": [
    {
     "name": "stderr",
     "output_type": "stream",
     "text": [
      "                                                                                \r"
     ]
    },
    {
     "name": "stdout",
     "output_type": "stream",
     "text": [
      "+----+--------------------+-------+\n",
      "| key|               value|headers|\n",
      "+----+--------------------+-------+\n",
      "|null|            testando|   null|\n",
      "|null|          novo texto|   null|\n",
      "|null|       aqui vai dado|   null|\n",
      "|null|                  oi|   null|\n",
      "|null|                bora|   null|\n",
      "|null|                 vai|   null|\n",
      "|null|          tudo novo?|   null|\n",
      "|null|           ola,mundo|   null|\n",
      "|null|             eu,jose|   null|\n",
      "|null|         aqui,denovo|   null|\n",
      "|null|E la vamos nos de...|   null|\n",
      "|null|    testando mais um|   null|\n",
      "|null|                e ai|   null|\n",
      "|null|                 foi|   null|\n",
      "|null|            e agora?|   null|\n",
      "|null|            so isto?|   null|\n",
      "+----+--------------------+-------+\n",
      "\n"
     ]
    }
   ],
   "source": [
    "# Subscribe to 1 topic, with headers\n",
    "df = spark \\\n",
    "  .read \\\n",
    "  .format(\"kafka\") \\\n",
    "  .option(\"kafka.bootstrap.servers\", \"kafka-broker:29092\") \\\n",
    "  .option(\"subscribe\", \"quickstart-events\") \\\n",
    "  .option(\"startingOffsets\", \"earliest\") \\\n",
    "  .option(\"endingOffsets\", \"latest\") \\\n",
    "  .option(\"includeHeaders\", \"true\") \\\n",
    "  .load()\n",
    "df.selectExpr(\"CAST(key AS STRING)\", \"CAST(value AS STRING)\", \"headers\").show()"
   ]
  },
  {
   "cell_type": "code",
   "execution_count": null,
   "id": "b224b57c-1be4-4fd8-96ee-3b20f2018f84",
   "metadata": {},
   "outputs": [],
   "source": [
    "# Subscribe to multiple topics, specifying explicit Kafka offsets\n",
    "df = spark \\\n",
    "  .read \\\n",
    "  .format(\"kafka\") \\\n",
    "  .option(\"kafka.bootstrap.servers\", \"kafka-broker:29092\") \\\n",
    "  .option(\"subscribe\", \"topic1,topic2\") \\\n",
    "  .option(\"startingOffsets\", \"\"\"{\"topic1\":{\"0\":23,\"1\":-2},\"topic2\":{\"0\":-2}}\"\"\") \\\n",
    "  .option(\"endingOffsets\", \"\"\"{\"topic1\":{\"0\":50,\"1\":-1},\"topic2\":{\"0\":-1}}\"\"\") \\\n",
    "  .load()\n",
    "df.selectExpr(\"CAST(key AS STRING)\", \"CAST(value AS STRING)\").show()"
   ]
  },
  {
   "cell_type": "code",
   "execution_count": null,
   "id": "1b0128b9-0e72-4e87-8a7c-9e98604c87cb",
   "metadata": {},
   "outputs": [],
   "source": [
    "# Subscribe to a pattern, at the earliest and latest offsets\n",
    "df = spark \\\n",
    "  .read \\\n",
    "  .format(\"kafka\") \\\n",
    "  .option(\"kafka.bootstrap.servers\", \"kafka-broker:29092\") \\\n",
    "  .option(\"subscribePattern\", \"topic.*\") \\\n",
    "  .option(\"startingOffsets\", \"earliest\") \\\n",
    "  .option(\"endingOffsets\", \"latest\") \\\n",
    "  .load()\n",
    "df.selectExpr(\"CAST(key AS STRING)\", \"CAST(value AS STRING)\").show()"
   ]
  },
  {
   "cell_type": "code",
   "execution_count": 6,
   "id": "6a7522a6-994b-4da7-af96-c312e07d4fba",
   "metadata": {},
   "outputs": [
    {
     "name": "stdout",
     "output_type": "stream",
     "text": [
      "root\n",
      " |-- key: binary (nullable = true)\n",
      " |-- value: binary (nullable = true)\n",
      " |-- topic: string (nullable = true)\n",
      " |-- partition: integer (nullable = true)\n",
      " |-- offset: long (nullable = true)\n",
      " |-- timestamp: timestamp (nullable = true)\n",
      " |-- timestampType: integer (nullable = true)\n",
      " |-- headers: array (nullable = true)\n",
      " |    |-- element: struct (containsNull = true)\n",
      " |    |    |-- key: string (nullable = true)\n",
      " |    |    |-- value: binary (nullable = true)\n",
      "\n"
     ]
    }
   ],
   "source": [
    "df.printSchema()"
   ]
  },
  {
   "cell_type": "code",
   "execution_count": null,
   "id": "33681a6e-1551-4c02-a208-d17bbb309592",
   "metadata": {},
   "outputs": [],
   "source": [
    "df = df.withColumn(\"value\", lit(\"some text\"))\n",
    "df.show()"
   ]
  },
  {
   "cell_type": "markdown",
   "id": "34344d28-ea70-444a-838a-ec17bb5b77f1",
   "metadata": {},
   "source": [
    "#### Sink"
   ]
  },
  {
   "cell_type": "code",
   "execution_count": 8,
   "id": "f9c0b069-8041-4c9a-a467-659525d9e972",
   "metadata": {},
   "outputs": [],
   "source": [
    "# Write key-value data from a DataFrame to a specific Kafka topic specified in an option\n",
    "df.selectExpr(\"CAST(key AS STRING)\", \"CAST(value AS STRING)\") \\\n",
    "  .write \\\n",
    "  .format(\"kafka\") \\\n",
    "  .option(\"kafka.bootstrap.servers\", \"kafka-broker:29092\") \\\n",
    "  .option(\"topic\", \"another-topic\") \\\n",
    "  .save()"
   ]
  },
  {
   "cell_type": "code",
   "execution_count": null,
   "id": "39eb7861-7f42-404f-8458-a9132c99b04e",
   "metadata": {},
   "outputs": [],
   "source": [
    "# Write key-value data from a DataFrame to Kafka using a topic specified in the data\n",
    "df.selectExpr(\"topic\", \"CAST(key AS STRING)\", \"CAST(value AS STRING)\") \\\n",
    "  .write \\\n",
    "  .format(\"kafka\") \\\n",
    "  .option(\"kafka.bootstrap.servers\", \"kafka-broker:29092\") \\\n",
    "  .save()"
   ]
  },
  {
   "cell_type": "markdown",
   "id": "739cb97f-33f6-447a-b888-0ddc166a98b7",
   "metadata": {},
   "source": [
    "## Spark Streaming (DStreams)"
   ]
  },
  {
   "cell_type": "code",
   "execution_count": null,
   "id": "bfd149a8-17e8-4028-a1c4-be74470449b1",
   "metadata": {},
   "outputs": [],
   "source": []
  }
 ],
 "metadata": {
  "kernelspec": {
   "display_name": "Python 3 (ipykernel)",
   "language": "python",
   "name": "python3"
  },
  "language_info": {
   "codemirror_mode": {
    "name": "ipython",
    "version": 3
   },
   "file_extension": ".py",
   "mimetype": "text/x-python",
   "name": "python",
   "nbconvert_exporter": "python",
   "pygments_lexer": "ipython3",
   "version": "3.9.2"
  }
 },
 "nbformat": 4,
 "nbformat_minor": 5
}
