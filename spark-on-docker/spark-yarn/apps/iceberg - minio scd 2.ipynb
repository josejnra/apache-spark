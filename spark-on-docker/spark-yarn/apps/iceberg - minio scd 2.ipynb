{
 "cells": [
  {
   "cell_type": "markdown",
   "id": "85e38b90-8056-448e-9f5f-53a65595389e",
   "metadata": {},
   "source": [
    "## Summary\n",
    "\t- Catalog: Coleção de namespaces e tabelas, responsável pelo gerenciamento de metadados.\n",
    "\t- Namespace: Organização lógica dentro de um catálogo, similar a esquemas ou bancos de dados.\n",
    "\t- Database: Termo equivalente a namespace no contexto do Spark e frequentemente utilizado de forma intercambiável."
   ]
  },
  {
   "cell_type": "code",
   "execution_count": 1,
   "id": "335cfe9b-c8f6-4402-ab70-367c77fa7377",
   "metadata": {
    "scrolled": true
   },
   "outputs": [
    {
     "data": {
      "text/html": [
       "\n",
       "            <div>\n",
       "                <p><b>SparkSession - in-memory</b></p>\n",
       "                \n",
       "        <div>\n",
       "            <p><b>SparkContext</b></p>\n",
       "\n",
       "            <p><a href=\"http://localhost:4040\">Spark UI</a></p>\n",
       "\n",
       "            <dl>\n",
       "              <dt>Version</dt>\n",
       "                <dd><code>v3.5.1</code></dd>\n",
       "              <dt>Master</dt>\n",
       "                <dd><code>yarn</code></dd>\n",
       "              <dt>AppName</dt>\n",
       "                <dd><code>Iceberg - minio - SCD 2</code></dd>\n",
       "            </dl>\n",
       "        </div>\n",
       "        \n",
       "            </div>\n",
       "        "
      ],
      "text/plain": [
       "<pyspark.sql.session.SparkSession at 0xffff7b5dc4f0>"
      ]
     },
     "execution_count": 56,
     "metadata": {},
     "output_type": "execute_result"
    }
   ],
   "source": [
    "from pyspark.sql import SparkSession\n",
    "\n",
    "spark = SparkSession.builder \\\n",
    "            .appName('Iceberg - minio - SCD 2') \\\n",
    "            .config('spark.executor.memory', '2G') \\\n",
    "            .config('spark.driver.memory', '2G') \\\n",
    "            .config('spark.driver.maxResultSize', '1G') \\\n",
    "            .config(\"spark.jars.packages\", \"com.amazonaws:aws-java-sdk-s3:1.12.765,org.apache.hadoop:hadoop-aws:3.4.0,org.apache.iceberg:iceberg-spark-runtime-3.5_2.12:1.6.0\") \\\n",
    "            .config(\"spark.hadoop.fs.s3a.endpoint\", \"http://minio:9000\") \\\n",
    "            .config(\"spark.hadoop.fs.s3a.access.key\", \"myuserserviceaccount\") \\\n",
    "            .config(\"spark.hadoop.fs.s3a.secret.key\", \"myuserserviceaccountpassword\") \\\n",
    "            .config(\"spark.hadoop.fs.s3a.impl\", \"org.apache.hadoop.fs.s3a.S3AFileSystem\") \\\n",
    "            .config(\"spark.hadoop.fs.s3a.path.style.access\", \"true\") \\\n",
    "            .config(\"spark.hadoop.fs.s3a.committer.name\", \"directory\") \\\n",
    "            .config(\"spark.hadoop.fs.s3a.committer.staging.conflict-mode\", \"replace\") \\\n",
    "            .config(\"spark.hadoop.fs.s3a.committer.staging.tmp.path\", \"/tmp/staging\") \\\n",
    "            .config(\"spark.sql.extensions\", \"org.apache.iceberg.spark.extensions.IcebergSparkSessionExtensions\") \\\n",
    "            .config(\"spark.sql.catalog.spark_catalog\", \"org.apache.iceberg.spark.SparkCatalog\") \\\n",
    "            .config(\"spark.sql.catalog.spark_catalog.type\", \"hadoop\") \\\n",
    "            .config(\"spark.sql.catalog.spark_catalog.warehouse\", \"s3a://my-bucket/iceberg\") \\\n",
    "            .config(\"spark.sql.execution.arrow.pyspark.enabled\", \"true\") \\\n",
    "            .getOrCreate()\n",
    "\n",
    "spark.sparkContext.setLogLevel(\"ERROR\")\n",
    "spark"
   ]
  },
  {
   "cell_type": "markdown",
   "id": "71a29071-c16d-487b-bd2f-f6c5437e1603",
   "metadata": {},
   "source": [
    "## Create namespace / database"
   ]
  },
  {
   "cell_type": "code",
   "execution_count": 2,
   "id": "8314f4c1-e702-4175-8b51-34ab28dd9ec0",
   "metadata": {},
   "outputs": [
    {
     "name": "stderr",
     "output_type": "stream",
     "text": [
      "                                                                                \r"
     ]
    },
    {
     "data": {
      "text/plain": [
       "[CatalogMetadata(name='spark_catalog', description=None)]"
      ]
     },
     "execution_count": 2,
     "metadata": {},
     "output_type": "execute_result"
    }
   ],
   "source": [
    "spark.catalog.listCatalogs()"
   ]
  },
  {
   "cell_type": "code",
   "execution_count": 3,
   "id": "48cae171-5ea9-405d-9150-45fd9e460a0a",
   "metadata": {},
   "outputs": [
    {
     "data": {
      "text/plain": [
       "'spark_catalog'"
      ]
     },
     "execution_count": 3,
     "metadata": {},
     "output_type": "execute_result"
    }
   ],
   "source": [
    "spark.catalog.currentCatalog()"
   ]
  },
  {
   "cell_type": "code",
   "execution_count": 4,
   "id": "3aaf3c59-fb67-4a79-bd65-23bf06a95e6e",
   "metadata": {},
   "outputs": [],
   "source": [
    "spark.catalog.setCurrentCatalog(\"spark_catalog\")"
   ]
  },
  {
   "cell_type": "code",
   "execution_count": 3,
   "id": "ee2effa0-d672-4d83-8606-f904d58b7f2e",
   "metadata": {},
   "outputs": [
    {
     "data": {
      "text/plain": [
       "DataFrame[]"
      ]
     },
     "execution_count": 3,
     "metadata": {},
     "output_type": "execute_result"
    }
   ],
   "source": [
    "spark.sql(\"CREATE NAMESPACE IF NOT EXISTS spark_catalog.mydb\")\n",
    "\n",
    "# namespace = database\n",
    "# location = \"s3://my-bucket/another-database\"\n",
    "# # Crie o namespace com a localização especificada\n",
    "# spark.sql(f\"CREATE NAMESPACE IF NOT EXISTS spark_catalog.{namespace} LOCATION '{location}'\")"
   ]
  },
  {
   "cell_type": "code",
   "execution_count": 6,
   "id": "78211052-1372-4f18-bcf5-a840341eb8e1",
   "metadata": {
    "scrolled": true
   },
   "outputs": [
    {
     "data": {
      "text/plain": [
       "[Database(name='mydb', catalog='spark_catalog', description=None, locationUri='s3a://my-bucket/iceberg/mydb')]"
      ]
     },
     "execution_count": 6,
     "metadata": {},
     "output_type": "execute_result"
    }
   ],
   "source": [
    "spark.catalog.listDatabases()"
   ]
  },
  {
   "cell_type": "code",
   "execution_count": 7,
   "id": "f668140b-41d6-4cf6-9588-6652b07f8aa8",
   "metadata": {},
   "outputs": [
    {
     "data": {
      "text/html": [
       "<div>\n",
       "<style scoped>\n",
       "    .dataframe tbody tr th:only-of-type {\n",
       "        vertical-align: middle;\n",
       "    }\n",
       "\n",
       "    .dataframe tbody tr th {\n",
       "        vertical-align: top;\n",
       "    }\n",
       "\n",
       "    .dataframe thead th {\n",
       "        text-align: right;\n",
       "    }\n",
       "</style>\n",
       "<table border=\"1\" class=\"dataframe\">\n",
       "  <thead>\n",
       "    <tr style=\"text-align: right;\">\n",
       "      <th></th>\n",
       "      <th>info_name</th>\n",
       "      <th>info_value</th>\n",
       "    </tr>\n",
       "  </thead>\n",
       "  <tbody>\n",
       "    <tr>\n",
       "      <th>0</th>\n",
       "      <td>Catalog Name</td>\n",
       "      <td>spark_catalog</td>\n",
       "    </tr>\n",
       "    <tr>\n",
       "      <th>1</th>\n",
       "      <td>Namespace Name</td>\n",
       "      <td>mydb</td>\n",
       "    </tr>\n",
       "    <tr>\n",
       "      <th>2</th>\n",
       "      <td>Location</td>\n",
       "      <td>s3a://my-bucket/iceberg/mydb</td>\n",
       "    </tr>\n",
       "  </tbody>\n",
       "</table>\n",
       "</div>"
      ],
      "text/plain": [
       "        info_name                    info_value\n",
       "0    Catalog Name                 spark_catalog\n",
       "1  Namespace Name                          mydb\n",
       "2        Location  s3a://my-bucket/iceberg/mydb"
      ]
     },
     "execution_count": 7,
     "metadata": {},
     "output_type": "execute_result"
    }
   ],
   "source": [
    "spark.sql(\"describe database mydb\").toPandas()"
   ]
  },
  {
   "cell_type": "code",
   "execution_count": 8,
   "id": "7db47c58-88fa-4706-b64d-ebc0a7d9e2f2",
   "metadata": {},
   "outputs": [
    {
     "data": {
      "text/plain": [
       "True"
      ]
     },
     "execution_count": 8,
     "metadata": {},
     "output_type": "execute_result"
    }
   ],
   "source": [
    "spark.catalog.databaseExists(\"mydb\")"
   ]
  },
  {
   "cell_type": "code",
   "execution_count": 13,
   "id": "dfab081b-4e53-49ea-a7f5-0759521c7e0c",
   "metadata": {},
   "outputs": [
    {
     "data": {
      "text/plain": [
       "[Table(name='user_group_tracker', catalog='spark_catalog', namespace=['mydb'], description=None, tableType='MANAGED', isTemporary=False)]"
      ]
     },
     "execution_count": 13,
     "metadata": {},
     "output_type": "execute_result"
    }
   ],
   "source": [
    "spark.catalog.listTables(\"mydb\")"
   ]
  },
  {
   "cell_type": "code",
   "execution_count": 12,
   "id": "11e7ad6c-1246-4db0-9e01-c78532935177",
   "metadata": {
    "scrolled": true
   },
   "outputs": [
    {
     "data": {
      "text/html": [
       "<div>\n",
       "<style scoped>\n",
       "    .dataframe tbody tr th:only-of-type {\n",
       "        vertical-align: middle;\n",
       "    }\n",
       "\n",
       "    .dataframe tbody tr th {\n",
       "        vertical-align: top;\n",
       "    }\n",
       "\n",
       "    .dataframe thead th {\n",
       "        text-align: right;\n",
       "    }\n",
       "</style>\n",
       "<table border=\"1\" class=\"dataframe\">\n",
       "  <thead>\n",
       "    <tr style=\"text-align: right;\">\n",
       "      <th></th>\n",
       "      <th>namespace</th>\n",
       "      <th>tableName</th>\n",
       "      <th>isTemporary</th>\n",
       "    </tr>\n",
       "  </thead>\n",
       "  <tbody>\n",
       "    <tr>\n",
       "      <th>0</th>\n",
       "      <td>mydb</td>\n",
       "      <td>user_group_tracker</td>\n",
       "      <td>False</td>\n",
       "    </tr>\n",
       "  </tbody>\n",
       "</table>\n",
       "</div>"
      ],
      "text/plain": [
       "  namespace           tableName  isTemporary\n",
       "0      mydb  user_group_tracker        False"
      ]
     },
     "execution_count": 12,
     "metadata": {},
     "output_type": "execute_result"
    }
   ],
   "source": [
    "spark.sql(\"show tables in mydb\").toPandas()"
   ]
  },
  {
   "cell_type": "markdown",
   "id": "18bea54e-fe41-41bc-847f-0cdeff1823f2",
   "metadata": {},
   "source": [
    "# Create Iceberg Table"
   ]
  },
  {
   "cell_type": "code",
   "execution_count": 3,
   "id": "9e04ef96-35b1-4f8b-a46f-44d75c9f6d21",
   "metadata": {},
   "outputs": [
    {
     "data": {
      "text/plain": [
       "DataFrame[]"
      ]
     },
     "execution_count": 3,
     "metadata": {},
     "output_type": "execute_result"
    }
   ],
   "source": [
    "spark.sql(f\"\"\"\n",
    "CREATE TABLE IF NOT EXISTS spark_catalog.mydb.user_group_tracker (\n",
    "    user_id int,\n",
    "    group string,\n",
    "    start_date date,\n",
    "    end_date date\n",
    "    )\n",
    "USING iceberg\n",
    "\"\"\")\n",
    "# location 's3a://{bucket}/iceberg/mydb/user_group_tracker'  -- no need of it"
   ]
  },
  {
   "cell_type": "code",
   "execution_count": 4,
   "id": "a8d07041-15c8-4bcc-91ec-af2066ec9186",
   "metadata": {},
   "outputs": [
    {
     "data": {
      "text/html": [
       "<div>\n",
       "<style scoped>\n",
       "    .dataframe tbody tr th:only-of-type {\n",
       "        vertical-align: middle;\n",
       "    }\n",
       "\n",
       "    .dataframe tbody tr th {\n",
       "        vertical-align: top;\n",
       "    }\n",
       "\n",
       "    .dataframe thead th {\n",
       "        text-align: right;\n",
       "    }\n",
       "</style>\n",
       "<table border=\"1\" class=\"dataframe\">\n",
       "  <thead>\n",
       "    <tr style=\"text-align: right;\">\n",
       "      <th></th>\n",
       "      <th>user_id</th>\n",
       "      <th>group</th>\n",
       "      <th>start_date</th>\n",
       "      <th>end_date</th>\n",
       "    </tr>\n",
       "  </thead>\n",
       "  <tbody>\n",
       "  </tbody>\n",
       "</table>\n",
       "</div>"
      ],
      "text/plain": [
       "Empty DataFrame\n",
       "Columns: [user_id, group, start_date, end_date]\n",
       "Index: []"
      ]
     },
     "execution_count": 4,
     "metadata": {},
     "output_type": "execute_result"
    }
   ],
   "source": [
    "spark.sql(\"select * from mydb.user_group_tracker\").toPandas()"
   ]
  },
  {
   "cell_type": "code",
   "execution_count": 5,
   "id": "5e9c3c56-03fb-42d2-8032-b83e8d30b8ca",
   "metadata": {},
   "outputs": [
    {
     "name": "stdout",
     "output_type": "stream",
     "text": [
      "<class 'pyspark.sql.dataframe.DataFrame'>\n"
     ]
    },
    {
     "data": {
      "text/html": [
       "<div>\n",
       "<style scoped>\n",
       "    .dataframe tbody tr th:only-of-type {\n",
       "        vertical-align: middle;\n",
       "    }\n",
       "\n",
       "    .dataframe tbody tr th {\n",
       "        vertical-align: top;\n",
       "    }\n",
       "\n",
       "    .dataframe thead th {\n",
       "        text-align: right;\n",
       "    }\n",
       "</style>\n",
       "<table border=\"1\" class=\"dataframe\">\n",
       "  <thead>\n",
       "    <tr style=\"text-align: right;\">\n",
       "      <th></th>\n",
       "      <th>user_id</th>\n",
       "      <th>group</th>\n",
       "      <th>start_date</th>\n",
       "      <th>end_date</th>\n",
       "    </tr>\n",
       "  </thead>\n",
       "  <tbody>\n",
       "  </tbody>\n",
       "</table>\n",
       "</div>"
      ],
      "text/plain": [
       "Empty DataFrame\n",
       "Columns: [user_id, group, start_date, end_date]\n",
       "Index: []"
      ]
     },
     "execution_count": 5,
     "metadata": {},
     "output_type": "execute_result"
    }
   ],
   "source": [
    "table = spark.table(\"mydb.user_group_tracker\")\n",
    "\n",
    "print(type(table))\n",
    "\n",
    "table.toPandas()"
   ]
  },
  {
   "cell_type": "code",
   "execution_count": 6,
   "id": "90e02170-4c34-43ba-aaa2-b18a790666b6",
   "metadata": {},
   "outputs": [
    {
     "name": "stdout",
     "output_type": "stream",
     "text": [
      "<class 'pyspark.sql.dataframe.DataFrame'>\n"
     ]
    },
    {
     "data": {
      "text/html": [
       "<div>\n",
       "<style scoped>\n",
       "    .dataframe tbody tr th:only-of-type {\n",
       "        vertical-align: middle;\n",
       "    }\n",
       "\n",
       "    .dataframe tbody tr th {\n",
       "        vertical-align: top;\n",
       "    }\n",
       "\n",
       "    .dataframe thead th {\n",
       "        text-align: right;\n",
       "    }\n",
       "</style>\n",
       "<table border=\"1\" class=\"dataframe\">\n",
       "  <thead>\n",
       "    <tr style=\"text-align: right;\">\n",
       "      <th></th>\n",
       "      <th>user_id</th>\n",
       "      <th>group</th>\n",
       "      <th>start_date</th>\n",
       "      <th>end_date</th>\n",
       "    </tr>\n",
       "  </thead>\n",
       "  <tbody>\n",
       "  </tbody>\n",
       "</table>\n",
       "</div>"
      ],
      "text/plain": [
       "Empty DataFrame\n",
       "Columns: [user_id, group, start_date, end_date]\n",
       "Index: []"
      ]
     },
     "execution_count": 6,
     "metadata": {},
     "output_type": "execute_result"
    }
   ],
   "source": [
    "table = spark.read.table(\"mydb.user_group_tracker\")\n",
    "\n",
    "print(type(table))\n",
    "\n",
    "table.toPandas()"
   ]
  },
  {
   "cell_type": "code",
   "execution_count": null,
   "id": "2db6c30b-a7f8-4939-aab0-a7613ffe650c",
   "metadata": {
    "scrolled": true
   },
   "outputs": [],
   "source": [
    "df = spark.read \\\n",
    "  .format(\"iceberg\") \\\n",
    "  .load(\"s3a://my-bucket/iceberg/mydb/user_group_tracker\")\n",
    "\n",
    "df.toPandas()"
   ]
  },
  {
   "cell_type": "code",
   "execution_count": 186,
   "id": "80d0ded3-4f78-40c8-a92a-8f71a80dc020",
   "metadata": {},
   "outputs": [
    {
     "data": {
      "text/html": [
       "<div>\n",
       "<style scoped>\n",
       "    .dataframe tbody tr th:only-of-type {\n",
       "        vertical-align: middle;\n",
       "    }\n",
       "\n",
       "    .dataframe tbody tr th {\n",
       "        vertical-align: top;\n",
       "    }\n",
       "\n",
       "    .dataframe thead th {\n",
       "        text-align: right;\n",
       "    }\n",
       "</style>\n",
       "<table border=\"1\" class=\"dataframe\">\n",
       "  <thead>\n",
       "    <tr style=\"text-align: right;\">\n",
       "      <th></th>\n",
       "      <th>made_current_at</th>\n",
       "      <th>snapshot_id</th>\n",
       "      <th>parent_id</th>\n",
       "      <th>is_current_ancestor</th>\n",
       "    </tr>\n",
       "  </thead>\n",
       "  <tbody>\n",
       "    <tr>\n",
       "      <th>0</th>\n",
       "      <td>2024-07-31 02:36:26.515</td>\n",
       "      <td>2083599421527003655</td>\n",
       "      <td>NaN</td>\n",
       "      <td>True</td>\n",
       "    </tr>\n",
       "    <tr>\n",
       "      <th>1</th>\n",
       "      <td>2024-07-31 02:59:32.086</td>\n",
       "      <td>7085544283171923468</td>\n",
       "      <td>2.083599e+18</td>\n",
       "      <td>True</td>\n",
       "    </tr>\n",
       "    <tr>\n",
       "      <th>2</th>\n",
       "      <td>2024-07-31 03:02:00.681</td>\n",
       "      <td>4962479228511825851</td>\n",
       "      <td>7.085544e+18</td>\n",
       "      <td>True</td>\n",
       "    </tr>\n",
       "    <tr>\n",
       "      <th>3</th>\n",
       "      <td>2024-07-31 03:05:05.773</td>\n",
       "      <td>1374337079072212611</td>\n",
       "      <td>4.962479e+18</td>\n",
       "      <td>True</td>\n",
       "    </tr>\n",
       "  </tbody>\n",
       "</table>\n",
       "</div>"
      ],
      "text/plain": [
       "          made_current_at          snapshot_id     parent_id  \\\n",
       "0 2024-07-31 02:36:26.515  2083599421527003655           NaN   \n",
       "1 2024-07-31 02:59:32.086  7085544283171923468  2.083599e+18   \n",
       "2 2024-07-31 03:02:00.681  4962479228511825851  7.085544e+18   \n",
       "3 2024-07-31 03:05:05.773  1374337079072212611  4.962479e+18   \n",
       "\n",
       "   is_current_ancestor  \n",
       "0                 True  \n",
       "1                 True  \n",
       "2                 True  \n",
       "3                 True  "
      ]
     },
     "execution_count": 186,
     "metadata": {},
     "output_type": "execute_result"
    }
   ],
   "source": [
    "spark.sql(\"SELECT * FROM mydb.user_group_tracker.history\").toPandas()"
   ]
  },
  {
   "cell_type": "code",
   "execution_count": 187,
   "id": "f2414d98-c348-42cd-9871-b3b38a5a406e",
   "metadata": {},
   "outputs": [
    {
     "data": {
      "text/html": [
       "<div>\n",
       "<style scoped>\n",
       "    .dataframe tbody tr th:only-of-type {\n",
       "        vertical-align: middle;\n",
       "    }\n",
       "\n",
       "    .dataframe tbody tr th {\n",
       "        vertical-align: top;\n",
       "    }\n",
       "\n",
       "    .dataframe thead th {\n",
       "        text-align: right;\n",
       "    }\n",
       "</style>\n",
       "<table border=\"1\" class=\"dataframe\">\n",
       "  <thead>\n",
       "    <tr style=\"text-align: right;\">\n",
       "      <th></th>\n",
       "      <th>committed_at</th>\n",
       "      <th>snapshot_id</th>\n",
       "      <th>parent_id</th>\n",
       "      <th>operation</th>\n",
       "      <th>manifest_list</th>\n",
       "      <th>summary</th>\n",
       "    </tr>\n",
       "  </thead>\n",
       "  <tbody>\n",
       "    <tr>\n",
       "      <th>0</th>\n",
       "      <td>2024-07-31 02:36:26.515</td>\n",
       "      <td>2083599421527003655</td>\n",
       "      <td>NaN</td>\n",
       "      <td>append</td>\n",
       "      <td>s3a://my-bucket/iceberg/mydb/user_group_tracke...</td>\n",
       "      <td>{'engine-version': '3.5.1', 'added-data-files'...</td>\n",
       "    </tr>\n",
       "    <tr>\n",
       "      <th>1</th>\n",
       "      <td>2024-07-31 02:59:32.086</td>\n",
       "      <td>7085544283171923468</td>\n",
       "      <td>2.083599e+18</td>\n",
       "      <td>overwrite</td>\n",
       "      <td>s3a://my-bucket/iceberg/mydb/user_group_tracke...</td>\n",
       "      <td>{'engine-version': '3.5.1', 'added-data-files'...</td>\n",
       "    </tr>\n",
       "    <tr>\n",
       "      <th>2</th>\n",
       "      <td>2024-07-31 03:02:00.681</td>\n",
       "      <td>4962479228511825851</td>\n",
       "      <td>7.085544e+18</td>\n",
       "      <td>overwrite</td>\n",
       "      <td>s3a://my-bucket/iceberg/mydb/user_group_tracke...</td>\n",
       "      <td>{'engine-version': '3.5.1', 'added-data-files'...</td>\n",
       "    </tr>\n",
       "    <tr>\n",
       "      <th>3</th>\n",
       "      <td>2024-07-31 03:05:05.773</td>\n",
       "      <td>1374337079072212611</td>\n",
       "      <td>4.962479e+18</td>\n",
       "      <td>overwrite</td>\n",
       "      <td>s3a://my-bucket/iceberg/mydb/user_group_tracke...</td>\n",
       "      <td>{'engine-version': '3.5.1', 'added-data-files'...</td>\n",
       "    </tr>\n",
       "  </tbody>\n",
       "</table>\n",
       "</div>"
      ],
      "text/plain": [
       "             committed_at          snapshot_id     parent_id  operation  \\\n",
       "0 2024-07-31 02:36:26.515  2083599421527003655           NaN     append   \n",
       "1 2024-07-31 02:59:32.086  7085544283171923468  2.083599e+18  overwrite   \n",
       "2 2024-07-31 03:02:00.681  4962479228511825851  7.085544e+18  overwrite   \n",
       "3 2024-07-31 03:05:05.773  1374337079072212611  4.962479e+18  overwrite   \n",
       "\n",
       "                                       manifest_list  \\\n",
       "0  s3a://my-bucket/iceberg/mydb/user_group_tracke...   \n",
       "1  s3a://my-bucket/iceberg/mydb/user_group_tracke...   \n",
       "2  s3a://my-bucket/iceberg/mydb/user_group_tracke...   \n",
       "3  s3a://my-bucket/iceberg/mydb/user_group_tracke...   \n",
       "\n",
       "                                             summary  \n",
       "0  {'engine-version': '3.5.1', 'added-data-files'...  \n",
       "1  {'engine-version': '3.5.1', 'added-data-files'...  \n",
       "2  {'engine-version': '3.5.1', 'added-data-files'...  \n",
       "3  {'engine-version': '3.5.1', 'added-data-files'...  "
      ]
     },
     "execution_count": 187,
     "metadata": {},
     "output_type": "execute_result"
    }
   ],
   "source": [
    "spark.sql(\"SELECT * FROM mydb.user_group_tracker.snapshots\").toPandas()"
   ]
  },
  {
   "cell_type": "code",
   "execution_count": 8,
   "id": "69fda69a-7084-4759-b102-420386b2ec82",
   "metadata": {},
   "outputs": [
    {
     "data": {
      "text/plain": [
       "StructType([StructField('user_id', IntegerType(), True), StructField('group', StringType(), True), StructField('start_date', DateType(), True), StructField('end_date', DateType(), True)])"
      ]
     },
     "execution_count": 8,
     "metadata": {},
     "output_type": "execute_result"
    }
   ],
   "source": [
    "iceberg_table_schema = table.schema\n",
    "iceberg_table_schema"
   ]
  },
  {
   "cell_type": "markdown",
   "id": "93ffa313-602f-476d-8d24-414cd8f2fa1a",
   "metadata": {},
   "source": [
    "## Dataframe creation"
   ]
  },
  {
   "cell_type": "code",
   "execution_count": 9,
   "id": "5f7c94fe-cecc-4838-b039-e3186df50d5b",
   "metadata": {},
   "outputs": [],
   "source": [
    "from datetime import datetime\n",
    "\n",
    "from pyspark.sql.types import StructType, StructField, StringType, IntegerType, DateType\n",
    "from pyspark.sql.functions import lit, col, when, current_date"
   ]
  },
  {
   "cell_type": "code",
   "execution_count": 10,
   "id": "acf0f7aa-9ba2-4a55-a800-13350dd4662b",
   "metadata": {},
   "outputs": [
    {
     "name": "stderr",
     "output_type": "stream",
     "text": [
      "                                                                                \r"
     ]
    },
    {
     "data": {
      "text/html": [
       "<div>\n",
       "<style scoped>\n",
       "    .dataframe tbody tr th:only-of-type {\n",
       "        vertical-align: middle;\n",
       "    }\n",
       "\n",
       "    .dataframe tbody tr th {\n",
       "        vertical-align: top;\n",
       "    }\n",
       "\n",
       "    .dataframe thead th {\n",
       "        text-align: right;\n",
       "    }\n",
       "</style>\n",
       "<table border=\"1\" class=\"dataframe\">\n",
       "  <thead>\n",
       "    <tr style=\"text-align: right;\">\n",
       "      <th></th>\n",
       "      <th>user_id</th>\n",
       "      <th>group</th>\n",
       "      <th>start_date</th>\n",
       "      <th>end_date</th>\n",
       "    </tr>\n",
       "  </thead>\n",
       "  <tbody>\n",
       "    <tr>\n",
       "      <th>0</th>\n",
       "      <td>1</td>\n",
       "      <td>teen titans</td>\n",
       "      <td>2024-10-07</td>\n",
       "      <td>None</td>\n",
       "    </tr>\n",
       "    <tr>\n",
       "      <th>1</th>\n",
       "      <td>2</td>\n",
       "      <td>x-men</td>\n",
       "      <td>2021-03-11</td>\n",
       "      <td>None</td>\n",
       "    </tr>\n",
       "  </tbody>\n",
       "</table>\n",
       "</div>"
      ],
      "text/plain": [
       "   user_id        group  start_date end_date\n",
       "0        1  teen titans  2024-10-07     None\n",
       "1        2        x-men  2021-03-11     None"
      ]
     },
     "execution_count": 10,
     "metadata": {},
     "output_type": "execute_result"
    }
   ],
   "source": [
    "data =  [{'user_id': 1, 'group': 'teen titans', \"start_date\": datetime(2024, 10, 7)},\n",
    "         {'user_id': 2, 'group': 'x-men', \"start_date\": datetime(2021, 3, 11)}]\n",
    "\n",
    "# {'user_id': 1, 'group': 'avengers', \"start_date\": datetime(2021, 1, 1)}\n",
    "# {'user_id': 1, 'group': 'justice league', \"start_date\": datetime(2024, 5, 1)}\n",
    "\n",
    "# schema = StructType([\n",
    "#         StructField('user_id', IntegerType(), nullable=True),\n",
    "#         StructField('group', StringType(), nullable=True),\n",
    "#         StructField('start_date', DateType(), nullable=True),\n",
    "#         StructField('end_date', DateType(), nullable=True)\n",
    "#     ])\n",
    "\n",
    "new_data = spark.createDataFrame(data, schema=iceberg_table_schema)\n",
    "new_data.toPandas()"
   ]
  },
  {
   "cell_type": "markdown",
   "id": "7b729241-5447-4a4d-8d60-5588e6f008c7",
   "metadata": {},
   "source": [
    "## upsert SCD tipo 2"
   ]
  },
  {
   "cell_type": "code",
   "execution_count": 11,
   "id": "306d5946-d773-413b-a6cc-8396d1d58034",
   "metadata": {},
   "outputs": [
    {
     "name": "stderr",
     "output_type": "stream",
     "text": [
      "                                                                                \r"
     ]
    },
    {
     "data": {
      "text/html": [
       "<div>\n",
       "<style scoped>\n",
       "    .dataframe tbody tr th:only-of-type {\n",
       "        vertical-align: middle;\n",
       "    }\n",
       "\n",
       "    .dataframe tbody tr th {\n",
       "        vertical-align: top;\n",
       "    }\n",
       "\n",
       "    .dataframe thead th {\n",
       "        text-align: right;\n",
       "    }\n",
       "</style>\n",
       "<table border=\"1\" class=\"dataframe\">\n",
       "  <thead>\n",
       "    <tr style=\"text-align: right;\">\n",
       "      <th></th>\n",
       "      <th>user_id</th>\n",
       "      <th>group</th>\n",
       "      <th>start_date</th>\n",
       "      <th>end_date</th>\n",
       "    </tr>\n",
       "  </thead>\n",
       "  <tbody>\n",
       "    <tr>\n",
       "      <th>0</th>\n",
       "      <td>1</td>\n",
       "      <td>teen titans</td>\n",
       "      <td>2024-10-07</td>\n",
       "      <td>None</td>\n",
       "    </tr>\n",
       "    <tr>\n",
       "      <th>1</th>\n",
       "      <td>2</td>\n",
       "      <td>x-men</td>\n",
       "      <td>2021-03-11</td>\n",
       "      <td>None</td>\n",
       "    </tr>\n",
       "  </tbody>\n",
       "</table>\n",
       "</div>"
      ],
      "text/plain": [
       "   user_id        group  start_date end_date\n",
       "0        1  teen titans  2024-10-07     None\n",
       "1        2        x-men  2021-03-11     None"
      ]
     },
     "execution_count": 11,
     "metadata": {},
     "output_type": "execute_result"
    }
   ],
   "source": [
    "# Cast start_date to DateType\n",
    "# new_data = new_data.withColumn(\"start_date\", col(\"start_date\").cast(DateType()))\n",
    "\n",
    "# Add end_date column to new data with null values\n",
    "new_data = new_data.withColumn(\"end_date\", lit(None).cast(DateType()))\n",
    "\n",
    "\n",
    "# Load existing Iceberg table\n",
    "existing_df = spark.read.table(\"mydb.user_group_tracker\")\n",
    "\n",
    "# Handle case where the existing DataFrame is empty\n",
    "if existing_df.count() == 0:\n",
    "    # If existing table is empty, simply insert all new data\n",
    "    new_data.writeTo(\"spark_catalog.mydb.user_group_tracker\").append()\n",
    "\n",
    "existing_df.toPandas()"
   ]
  },
  {
   "cell_type": "code",
   "execution_count": 12,
   "id": "4a7effca-5a32-47f0-b082-e87ea429fc06",
   "metadata": {},
   "outputs": [],
   "source": [
    "def add_prefix(df, prefix: str):\n",
    "    # Add prefix to all column names\n",
    "    new_column_names = [prefix + col_name for col_name in df.columns]\n",
    "    \n",
    "    # Create new DataFrame with prefixed column names\n",
    "    return df.select([col(old_col).alias(new_col) for old_col, new_col in zip(df.columns, new_column_names)])"
   ]
  },
  {
   "cell_type": "code",
   "execution_count": 13,
   "id": "0eb1738d-fc8e-40a2-854e-7db99ba20191",
   "metadata": {},
   "outputs": [
    {
     "name": "stderr",
     "output_type": "stream",
     "text": [
      "                                                                                \r"
     ]
    },
    {
     "data": {
      "text/html": [
       "<div>\n",
       "<style scoped>\n",
       "    .dataframe tbody tr th:only-of-type {\n",
       "        vertical-align: middle;\n",
       "    }\n",
       "\n",
       "    .dataframe tbody tr th {\n",
       "        vertical-align: top;\n",
       "    }\n",
       "\n",
       "    .dataframe thead th {\n",
       "        text-align: right;\n",
       "    }\n",
       "</style>\n",
       "<table border=\"1\" class=\"dataframe\">\n",
       "  <thead>\n",
       "    <tr style=\"text-align: right;\">\n",
       "      <th></th>\n",
       "      <th>existing_user_id</th>\n",
       "      <th>existing_group</th>\n",
       "      <th>existing_start_date</th>\n",
       "      <th>existing_end_date</th>\n",
       "      <th>new_user_id</th>\n",
       "      <th>new_group</th>\n",
       "      <th>new_start_date</th>\n",
       "      <th>new_end_date</th>\n",
       "    </tr>\n",
       "  </thead>\n",
       "  <tbody>\n",
       "    <tr>\n",
       "      <th>0</th>\n",
       "      <td>1</td>\n",
       "      <td>teen titans</td>\n",
       "      <td>2024-10-07</td>\n",
       "      <td>None</td>\n",
       "      <td>1</td>\n",
       "      <td>teen titans</td>\n",
       "      <td>2024-10-07</td>\n",
       "      <td>None</td>\n",
       "    </tr>\n",
       "    <tr>\n",
       "      <th>1</th>\n",
       "      <td>2</td>\n",
       "      <td>x-men</td>\n",
       "      <td>2021-03-11</td>\n",
       "      <td>None</td>\n",
       "      <td>2</td>\n",
       "      <td>x-men</td>\n",
       "      <td>2021-03-11</td>\n",
       "      <td>None</td>\n",
       "    </tr>\n",
       "  </tbody>\n",
       "</table>\n",
       "</div>"
      ],
      "text/plain": [
       "   existing_user_id existing_group existing_start_date existing_end_date  \\\n",
       "0                 1    teen titans          2024-10-07              None   \n",
       "1                 2          x-men          2021-03-11              None   \n",
       "\n",
       "   new_user_id    new_group new_start_date new_end_date  \n",
       "0            1  teen titans     2024-10-07         None  \n",
       "1            2        x-men     2021-03-11         None  "
      ]
     },
     "execution_count": 13,
     "metadata": {},
     "output_type": "execute_result"
    }
   ],
   "source": [
    "# Rename columns for merging\n",
    "# existing_df = existing_df.withColumnRenamed(\"end_date\", \"existing_end_date\")\n",
    "\n",
    "existing_df = add_prefix(existing_df, \"existing_\")\n",
    "new_data = add_prefix(new_data, \"new_\")\n",
    "\n",
    "existing_df.toPandas()\n",
    "new_data.toPandas()\n",
    "# Create a new DataFrame that will store updated and new records\n",
    "joined_df = existing_df.join(\n",
    "    new_data,\n",
    "    (col(\"existing_user_id\") == col(\"new_user_id\")),\n",
    "    \"outer\"\n",
    ")\n",
    "\n",
    "joined_df.toPandas()"
   ]
  },
  {
   "cell_type": "code",
   "execution_count": 14,
   "id": "858d6c62-2d00-47a5-af33-4f56ef92181e",
   "metadata": {},
   "outputs": [
    {
     "data": {
      "text/html": [
       "<div>\n",
       "<style scoped>\n",
       "    .dataframe tbody tr th:only-of-type {\n",
       "        vertical-align: middle;\n",
       "    }\n",
       "\n",
       "    .dataframe tbody tr th {\n",
       "        vertical-align: top;\n",
       "    }\n",
       "\n",
       "    .dataframe thead th {\n",
       "        text-align: right;\n",
       "    }\n",
       "</style>\n",
       "<table border=\"1\" class=\"dataframe\">\n",
       "  <thead>\n",
       "    <tr style=\"text-align: right;\">\n",
       "      <th></th>\n",
       "      <th>existing_user_id</th>\n",
       "      <th>existing_group</th>\n",
       "      <th>existing_start_date</th>\n",
       "      <th>existing_end_date</th>\n",
       "      <th>new_user_id</th>\n",
       "      <th>new_group</th>\n",
       "      <th>new_start_date</th>\n",
       "      <th>new_end_date</th>\n",
       "      <th>update_required</th>\n",
       "    </tr>\n",
       "  </thead>\n",
       "  <tbody>\n",
       "    <tr>\n",
       "      <th>0</th>\n",
       "      <td>1</td>\n",
       "      <td>teen titans</td>\n",
       "      <td>2024-10-07</td>\n",
       "      <td>None</td>\n",
       "      <td>1</td>\n",
       "      <td>teen titans</td>\n",
       "      <td>2024-10-07</td>\n",
       "      <td>None</td>\n",
       "      <td>False</td>\n",
       "    </tr>\n",
       "    <tr>\n",
       "      <th>1</th>\n",
       "      <td>2</td>\n",
       "      <td>x-men</td>\n",
       "      <td>2021-03-11</td>\n",
       "      <td>None</td>\n",
       "      <td>2</td>\n",
       "      <td>x-men</td>\n",
       "      <td>2021-03-11</td>\n",
       "      <td>None</td>\n",
       "      <td>False</td>\n",
       "    </tr>\n",
       "  </tbody>\n",
       "</table>\n",
       "</div>"
      ],
      "text/plain": [
       "   existing_user_id existing_group existing_start_date existing_end_date  \\\n",
       "0                 1    teen titans          2024-10-07              None   \n",
       "1                 2          x-men          2021-03-11              None   \n",
       "\n",
       "   new_user_id    new_group new_start_date new_end_date  update_required  \n",
       "0            1  teen titans     2024-10-07         None            False  \n",
       "1            2        x-men     2021-03-11         None            False  "
      ]
     },
     "execution_count": 14,
     "metadata": {},
     "output_type": "execute_result"
    }
   ],
   "source": [
    "# Determine which records need to be updated\n",
    "updates_df = joined_df.withColumn(\n",
    "        \"update_required\",\n",
    "        when(\n",
    "            (col(\"new_user_id\").isNotNull()) & (col(\"existing_group\").isNotNull()) &\n",
    "            (col(\"existing_group\") != col(\"new_group\")) &\n",
    "            col(\"existing_end_date\").isNull(),\n",
    "            True\n",
    "        ).otherwise(False)\n",
    "    )\n",
    "updates_df.toPandas()"
   ]
  },
  {
   "cell_type": "code",
   "execution_count": 38,
   "id": "b686ddfb-e78b-4b5a-a1c9-1507dcdbfb0a",
   "metadata": {},
   "outputs": [
    {
     "data": {
      "text/html": [
       "<div>\n",
       "<style scoped>\n",
       "    .dataframe tbody tr th:only-of-type {\n",
       "        vertical-align: middle;\n",
       "    }\n",
       "\n",
       "    .dataframe tbody tr th {\n",
       "        vertical-align: top;\n",
       "    }\n",
       "\n",
       "    .dataframe thead th {\n",
       "        text-align: right;\n",
       "    }\n",
       "</style>\n",
       "<table border=\"1\" class=\"dataframe\">\n",
       "  <thead>\n",
       "    <tr style=\"text-align: right;\">\n",
       "      <th></th>\n",
       "      <th>existing_user_id</th>\n",
       "      <th>existing_group</th>\n",
       "      <th>existing_start_date</th>\n",
       "      <th>end_date</th>\n",
       "    </tr>\n",
       "  </thead>\n",
       "  <tbody>\n",
       "  </tbody>\n",
       "</table>\n",
       "</div>"
      ],
      "text/plain": [
       "Empty DataFrame\n",
       "Columns: [existing_user_id, existing_group, existing_start_date, end_date]\n",
       "Index: []"
      ]
     },
     "execution_count": 38,
     "metadata": {},
     "output_type": "execute_result"
    }
   ],
   "source": [
    "# Update end_date for existing records\n",
    "updated_existing_df = updates_df.filter(col(\"update_required\")).select(\n",
    "    col(\"existing_user_id\"),\n",
    "    col(\"existing_group\"),\n",
    "    col(\"existing_start_date\"),\n",
    "    current_date().alias(\"end_date\")\n",
    ")\n",
    "\n",
    "updated_existing_df.toPandas()"
   ]
  },
  {
   "cell_type": "code",
   "execution_count": 179,
   "id": "3c8d3a4c-6be0-469c-b34a-8dfc2bb50d23",
   "metadata": {},
   "outputs": [
    {
     "data": {
      "text/html": [
       "<div>\n",
       "<style scoped>\n",
       "    .dataframe tbody tr th:only-of-type {\n",
       "        vertical-align: middle;\n",
       "    }\n",
       "\n",
       "    .dataframe tbody tr th {\n",
       "        vertical-align: top;\n",
       "    }\n",
       "\n",
       "    .dataframe thead th {\n",
       "        text-align: right;\n",
       "    }\n",
       "</style>\n",
       "<table border=\"1\" class=\"dataframe\">\n",
       "  <thead>\n",
       "    <tr style=\"text-align: right;\">\n",
       "      <th></th>\n",
       "      <th>new_user_id</th>\n",
       "      <th>new_group</th>\n",
       "      <th>start_date</th>\n",
       "      <th>end_date</th>\n",
       "    </tr>\n",
       "  </thead>\n",
       "  <tbody>\n",
       "    <tr>\n",
       "      <th>0</th>\n",
       "      <td>1</td>\n",
       "      <td>teen titans</td>\n",
       "      <td>2024-07-31</td>\n",
       "      <td>None</td>\n",
       "    </tr>\n",
       "  </tbody>\n",
       "</table>\n",
       "</div>"
      ],
      "text/plain": [
       "   new_user_id    new_group  start_date end_date\n",
       "0            1  teen titans  2024-07-31     None"
      ]
     },
     "execution_count": 179,
     "metadata": {},
     "output_type": "execute_result"
    }
   ],
   "source": [
    "# Create new records for updated groups\n",
    "new_records_df = updates_df.filter(col(\"update_required\")).select(\n",
    "    col(\"new_user_id\"),\n",
    "    col(\"new_group\"),\n",
    "    current_date().alias(\"start_date\"),\n",
    "    lit(None).cast(DateType()).alias(\"end_date\")\n",
    ")\n",
    "\n",
    "new_records_df.toPandas()"
   ]
  },
  {
   "cell_type": "code",
   "execution_count": 180,
   "id": "f792641e-b19f-451c-92f7-78848bc44e66",
   "metadata": {},
   "outputs": [
    {
     "data": {
      "text/html": [
       "<div>\n",
       "<style scoped>\n",
       "    .dataframe tbody tr th:only-of-type {\n",
       "        vertical-align: middle;\n",
       "    }\n",
       "\n",
       "    .dataframe tbody tr th {\n",
       "        vertical-align: top;\n",
       "    }\n",
       "\n",
       "    .dataframe thead th {\n",
       "        text-align: right;\n",
       "    }\n",
       "</style>\n",
       "<table border=\"1\" class=\"dataframe\">\n",
       "  <thead>\n",
       "    <tr style=\"text-align: right;\">\n",
       "      <th></th>\n",
       "      <th>existing_user_id</th>\n",
       "      <th>existing_group</th>\n",
       "      <th>existing_start_date</th>\n",
       "      <th>existing_end_date</th>\n",
       "    </tr>\n",
       "  </thead>\n",
       "  <tbody>\n",
       "    <tr>\n",
       "      <th>0</th>\n",
       "      <td>1</td>\n",
       "      <td>avengers</td>\n",
       "      <td>2021-01-01</td>\n",
       "      <td>2024-07-31</td>\n",
       "    </tr>\n",
       "    <tr>\n",
       "      <th>1</th>\n",
       "      <td>2</td>\n",
       "      <td>x-men</td>\n",
       "      <td>2021-03-11</td>\n",
       "      <td>None</td>\n",
       "    </tr>\n",
       "  </tbody>\n",
       "</table>\n",
       "</div>"
      ],
      "text/plain": [
       "   existing_user_id existing_group existing_start_date existing_end_date\n",
       "0                 1       avengers          2021-01-01        2024-07-31\n",
       "1                 2          x-men          2021-03-11              None"
      ]
     },
     "execution_count": 180,
     "metadata": {},
     "output_type": "execute_result"
    }
   ],
   "source": [
    "# Filter out records that are not updated or new\n",
    "no_update_records_df = updates_df.filter(~col(\"update_required\")).select(\n",
    "    col(\"existing_user_id\"),\n",
    "    col(\"existing_group\"),\n",
    "    col(\"existing_start_date\"),\n",
    "    col(\"existing_end_date\")\n",
    ")\n",
    "\n",
    "no_update_records_df.toPandas()"
   ]
  },
  {
   "cell_type": "code",
   "execution_count": 181,
   "id": "24dc9593-3469-42e9-9ec2-ec1c94bc82e3",
   "metadata": {},
   "outputs": [
    {
     "data": {
      "text/html": [
       "<div>\n",
       "<style scoped>\n",
       "    .dataframe tbody tr th:only-of-type {\n",
       "        vertical-align: middle;\n",
       "    }\n",
       "\n",
       "    .dataframe tbody tr th {\n",
       "        vertical-align: top;\n",
       "    }\n",
       "\n",
       "    .dataframe thead th {\n",
       "        text-align: right;\n",
       "    }\n",
       "</style>\n",
       "<table border=\"1\" class=\"dataframe\">\n",
       "  <thead>\n",
       "    <tr style=\"text-align: right;\">\n",
       "      <th></th>\n",
       "      <th>existing_user_id</th>\n",
       "      <th>existing_group</th>\n",
       "      <th>existing_start_date</th>\n",
       "      <th>end_date</th>\n",
       "    </tr>\n",
       "  </thead>\n",
       "  <tbody>\n",
       "    <tr>\n",
       "      <th>0</th>\n",
       "      <td>1</td>\n",
       "      <td>justice league</td>\n",
       "      <td>2024-07-31</td>\n",
       "      <td>2024-07-31</td>\n",
       "    </tr>\n",
       "    <tr>\n",
       "      <th>1</th>\n",
       "      <td>1</td>\n",
       "      <td>teen titans</td>\n",
       "      <td>2024-07-31</td>\n",
       "      <td>None</td>\n",
       "    </tr>\n",
       "    <tr>\n",
       "      <th>2</th>\n",
       "      <td>1</td>\n",
       "      <td>avengers</td>\n",
       "      <td>2021-01-01</td>\n",
       "      <td>2024-07-31</td>\n",
       "    </tr>\n",
       "    <tr>\n",
       "      <th>3</th>\n",
       "      <td>2</td>\n",
       "      <td>x-men</td>\n",
       "      <td>2021-03-11</td>\n",
       "      <td>None</td>\n",
       "    </tr>\n",
       "  </tbody>\n",
       "</table>\n",
       "</div>"
      ],
      "text/plain": [
       "   existing_user_id  existing_group existing_start_date    end_date\n",
       "0                 1  justice league          2024-07-31  2024-07-31\n",
       "1                 1     teen titans          2024-07-31        None\n",
       "2                 1        avengers          2021-01-01  2024-07-31\n",
       "3                 2           x-men          2021-03-11        None"
      ]
     },
     "execution_count": 181,
     "metadata": {},
     "output_type": "execute_result"
    }
   ],
   "source": [
    "# Union all DataFrames together\n",
    "final_df = updated_existing_df.union(new_records_df).union(no_update_records_df)\n",
    "\n",
    "final_df.toPandas()"
   ]
  },
  {
   "cell_type": "code",
   "execution_count": 182,
   "id": "55855cd2-3ad4-4b24-8988-4fb31b6962f4",
   "metadata": {},
   "outputs": [
    {
     "data": {
      "text/html": [
       "<div>\n",
       "<style scoped>\n",
       "    .dataframe tbody tr th:only-of-type {\n",
       "        vertical-align: middle;\n",
       "    }\n",
       "\n",
       "    .dataframe tbody tr th {\n",
       "        vertical-align: top;\n",
       "    }\n",
       "\n",
       "    .dataframe thead th {\n",
       "        text-align: right;\n",
       "    }\n",
       "</style>\n",
       "<table border=\"1\" class=\"dataframe\">\n",
       "  <thead>\n",
       "    <tr style=\"text-align: right;\">\n",
       "      <th></th>\n",
       "      <th>user_id</th>\n",
       "      <th>group</th>\n",
       "      <th>start_date</th>\n",
       "      <th>end_date</th>\n",
       "    </tr>\n",
       "  </thead>\n",
       "  <tbody>\n",
       "    <tr>\n",
       "      <th>0</th>\n",
       "      <td>1</td>\n",
       "      <td>justice league</td>\n",
       "      <td>2024-07-31</td>\n",
       "      <td>2024-07-31</td>\n",
       "    </tr>\n",
       "    <tr>\n",
       "      <th>1</th>\n",
       "      <td>1</td>\n",
       "      <td>teen titans</td>\n",
       "      <td>2024-07-31</td>\n",
       "      <td>None</td>\n",
       "    </tr>\n",
       "    <tr>\n",
       "      <th>2</th>\n",
       "      <td>1</td>\n",
       "      <td>avengers</td>\n",
       "      <td>2021-01-01</td>\n",
       "      <td>2024-07-31</td>\n",
       "    </tr>\n",
       "    <tr>\n",
       "      <th>3</th>\n",
       "      <td>2</td>\n",
       "      <td>x-men</td>\n",
       "      <td>2021-03-11</td>\n",
       "      <td>None</td>\n",
       "    </tr>\n",
       "  </tbody>\n",
       "</table>\n",
       "</div>"
      ],
      "text/plain": [
       "   user_id           group  start_date    end_date\n",
       "0        1  justice league  2024-07-31  2024-07-31\n",
       "1        1     teen titans  2024-07-31        None\n",
       "2        1        avengers  2021-01-01  2024-07-31\n",
       "3        2           x-men  2021-03-11        None"
      ]
     },
     "execution_count": 182,
     "metadata": {},
     "output_type": "execute_result"
    }
   ],
   "source": [
    "final_df = final_df.withColumnRenamed(\"existing_user_id\", \"user_id\") \\\n",
    "            .withColumnRenamed(\"existing_group\", \"group\") \\\n",
    "            .withColumnRenamed(\"existing_start_date\", \"start_date\")\n",
    "\n",
    "final_df.toPandas()"
   ]
  },
  {
   "cell_type": "code",
   "execution_count": 183,
   "id": "116b52b8-d53a-4f86-938d-b200582533be",
   "metadata": {},
   "outputs": [
    {
     "name": "stderr",
     "output_type": "stream",
     "text": [
      "                                                                                \r"
     ]
    }
   ],
   "source": [
    "# Write updated DataFrame back to Iceberg table\n",
    "final_df.writeTo(\"spark_catalog.mydb.user_group_tracker\").using(\"iceberg\").overwritePartitions()"
   ]
  },
  {
   "cell_type": "code",
   "execution_count": 184,
   "id": "b7124a87-011f-48b7-a8e8-e3460b02ea27",
   "metadata": {},
   "outputs": [
    {
     "data": {
      "text/html": [
       "<div>\n",
       "<style scoped>\n",
       "    .dataframe tbody tr th:only-of-type {\n",
       "        vertical-align: middle;\n",
       "    }\n",
       "\n",
       "    .dataframe tbody tr th {\n",
       "        vertical-align: top;\n",
       "    }\n",
       "\n",
       "    .dataframe thead th {\n",
       "        text-align: right;\n",
       "    }\n",
       "</style>\n",
       "<table border=\"1\" class=\"dataframe\">\n",
       "  <thead>\n",
       "    <tr style=\"text-align: right;\">\n",
       "      <th></th>\n",
       "      <th>user_id</th>\n",
       "      <th>group</th>\n",
       "      <th>start_date</th>\n",
       "      <th>end_date</th>\n",
       "    </tr>\n",
       "  </thead>\n",
       "  <tbody>\n",
       "    <tr>\n",
       "      <th>0</th>\n",
       "      <td>1</td>\n",
       "      <td>justice league</td>\n",
       "      <td>2024-07-31</td>\n",
       "      <td>2024-07-31</td>\n",
       "    </tr>\n",
       "    <tr>\n",
       "      <th>1</th>\n",
       "      <td>1</td>\n",
       "      <td>teen titans</td>\n",
       "      <td>2024-07-31</td>\n",
       "      <td>None</td>\n",
       "    </tr>\n",
       "    <tr>\n",
       "      <th>2</th>\n",
       "      <td>1</td>\n",
       "      <td>avengers</td>\n",
       "      <td>2021-01-01</td>\n",
       "      <td>2024-07-31</td>\n",
       "    </tr>\n",
       "    <tr>\n",
       "      <th>3</th>\n",
       "      <td>2</td>\n",
       "      <td>x-men</td>\n",
       "      <td>2021-03-11</td>\n",
       "      <td>None</td>\n",
       "    </tr>\n",
       "  </tbody>\n",
       "</table>\n",
       "</div>"
      ],
      "text/plain": [
       "   user_id           group  start_date    end_date\n",
       "0        1  justice league  2024-07-31  2024-07-31\n",
       "1        1     teen titans  2024-07-31        None\n",
       "2        1        avengers  2021-01-01  2024-07-31\n",
       "3        2           x-men  2021-03-11        None"
      ]
     },
     "execution_count": 184,
     "metadata": {},
     "output_type": "execute_result"
    }
   ],
   "source": [
    "spark.table(\"mydb.user_group_tracker\").toPandas()"
   ]
  },
  {
   "cell_type": "code",
   "execution_count": null,
   "id": "083566c6-50f4-478f-89f6-8ac12b45111b",
   "metadata": {},
   "outputs": [],
   "source": []
  }
 ],
 "metadata": {
  "kernelspec": {
   "display_name": "Python 3 (ipykernel)",
   "language": "python",
   "name": "python3"
  },
  "language_info": {
   "codemirror_mode": {
    "name": "ipython",
    "version": 3
   },
   "file_extension": ".py",
   "mimetype": "text/x-python",
   "name": "python",
   "nbconvert_exporter": "python",
   "pygments_lexer": "ipython3",
   "version": "3.9.2"
  }
 },
 "nbformat": 4,
 "nbformat_minor": 5
}
