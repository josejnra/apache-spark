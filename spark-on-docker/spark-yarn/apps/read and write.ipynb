{
 "cells": [
  {
   "cell_type": "code",
   "execution_count": 1,
   "id": "waiting-professor",
   "metadata": {},
   "outputs": [
    {
     "name": "stderr",
     "output_type": "stream",
     "text": [
      "2021-09-22 01:39:10,468 WARN util.Utils: Your hostname, localhost resolves to a loopback address: 127.0.0.1; using 192.168.64.2 instead (on interface eth0)\n",
      "2021-09-22 01:39:10,470 WARN util.Utils: Set SPARK_LOCAL_IP if you need to bind to another address\n",
      "WARNING: An illegal reflective access operation has occurred\n",
      "WARNING: Illegal reflective access by org.apache.spark.unsafe.Platform (file:/opt/spark-3.1.2-bin-without-hadoop/jars/spark-unsafe_2.12-3.1.2.jar) to constructor java.nio.DirectByteBuffer(long,int)\n",
      "WARNING: Please consider reporting this to the maintainers of org.apache.spark.unsafe.Platform\n",
      "WARNING: Use --illegal-access=warn to enable warnings of further illegal reflective access operations\n",
      "WARNING: All illegal access operations will be denied in a future release\n"
     ]
    },
    {
     "name": "stdout",
     "output_type": "stream",
     "text": [
      ":: loading settings :: url = jar:file:/opt/spark-3.1.2-bin-without-hadoop/jars/ivy-2.4.0.jar!/org/apache/ivy/core/settings/ivysettings.xml\n"
     ]
    },
    {
     "name": "stderr",
     "output_type": "stream",
     "text": [
      "Ivy Default Cache set to: /root/.ivy2/cache\n",
      "The jars for the packages stored in: /root/.ivy2/jars\n",
      "mysql#mysql-connector-java added as a dependency\n",
      ":: resolving dependencies :: org.apache.spark#spark-submit-parent-b2f9c91c-749b-45fb-b90d-fb91dc55101e;1.0\n",
      "\tconfs: [default]\n",
      "\tfound mysql#mysql-connector-java;8.0.23 in central\n",
      "\tfound com.google.protobuf#protobuf-java;3.11.4 in central\n",
      "downloading https://repo1.maven.org/maven2/mysql/mysql-connector-java/8.0.23/mysql-connector-java-8.0.23.jar ...\n",
      "\t[SUCCESSFUL ] mysql#mysql-connector-java;8.0.23!mysql-connector-java.jar (40531ms)\n",
      "downloading https://repo1.maven.org/maven2/com/google/protobuf/protobuf-java/3.11.4/protobuf-java-3.11.4.jar ...\n",
      "\t[SUCCESSFUL ] com.google.protobuf#protobuf-java;3.11.4!protobuf-java.jar(bundle) (37521ms)\n",
      ":: resolution report :: resolve 8548ms :: artifacts dl 78079ms\n",
      "\t:: modules in use:\n",
      "\tcom.google.protobuf#protobuf-java;3.11.4 from central in [default]\n",
      "\tmysql#mysql-connector-java;8.0.23 from central in [default]\n",
      "\t---------------------------------------------------------------------\n",
      "\t|                  |            modules            ||   artifacts   |\n",
      "\t|       conf       | number| search|dwnlded|evicted|| number|dwnlded|\n",
      "\t---------------------------------------------------------------------\n",
      "\t|      default     |   2   |   2   |   2   |   0   ||   2   |   2   |\n",
      "\t---------------------------------------------------------------------\n",
      ":: retrieving :: org.apache.spark#spark-submit-parent-b2f9c91c-749b-45fb-b90d-fb91dc55101e\n",
      "\tconfs: [default]\n",
      "\t2 artifacts copied, 0 already retrieved (3980kB/34ms)\n",
      "Setting default log level to \"WARN\".\n",
      "To adjust logging level use sc.setLogLevel(newLevel). For SparkR, use setLogLevel(newLevel).\n",
      "2021-09-22 01:40:42,647 WARN yarn.Client: Neither spark.yarn.jars nor spark.yarn.archive is set, falling back to uploading libraries under SPARK_HOME.\n",
      "2021-09-22 01:40:49,784 WARN yarn.Client: Same path resource file:///root/.ivy2/jars/mysql_mysql-connector-java-8.0.23.jar added multiple times to distributed cache.\n",
      "2021-09-22 01:40:49,784 WARN yarn.Client: Same path resource file:///root/.ivy2/jars/com.google.protobuf_protobuf-java-3.11.4.jar added multiple times to distributed cache.\n"
     ]
    },
    {
     "data": {
      "text/html": [
       "\n",
       "            <div>\n",
       "                <p><b>SparkSession - in-memory</b></p>\n",
       "                \n",
       "        <div>\n",
       "            <p><b>SparkContext</b></p>\n",
       "\n",
       "            <p><a href=\"http://localhost:4040\">Spark UI</a></p>\n",
       "\n",
       "            <dl>\n",
       "              <dt>Version</dt>\n",
       "                <dd><code>v3.1.2</code></dd>\n",
       "              <dt>Master</dt>\n",
       "                <dd><code>yarn</code></dd>\n",
       "              <dt>AppName</dt>\n",
       "                <dd><code>Read and Write</code></dd>\n",
       "            </dl>\n",
       "        </div>\n",
       "        \n",
       "            </div>\n",
       "        "
      ],
      "text/plain": [
       "<pyspark.sql.session.SparkSession at 0x7fbdbdd59b00>"
      ]
     },
     "execution_count": 1,
     "metadata": {},
     "output_type": "execute_result"
    }
   ],
   "source": [
    "from pyspark import SparkContext, SparkConf\n",
    "from pyspark.sql import SparkSession\n",
    "\n",
    "spark = SparkSession.builder \\\n",
    "                    .appName('Read and Write') \\\n",
    "                    .config('spark.jars.packages', 'mysql:mysql-connector-java:8.0.23') \\\n",
    "                    .getOrCreate()\n",
    "\n",
    "spark"
   ]
  },
  {
   "cell_type": "markdown",
   "id": "portable-charm",
   "metadata": {},
   "source": [
    "## CSV"
   ]
  },
  {
   "cell_type": "code",
   "execution_count": null,
   "id": "standard-january",
   "metadata": {},
   "outputs": [],
   "source": [
    "csv_df = spark.read \\\n",
    "              .options(delimeter=',') \\\n",
    "              .csv('../datasets/forestfires.csv', header=True, inferSchema=True)\n",
    "csv_df.show()\n",
    "csv_df.count()"
   ]
  },
  {
   "cell_type": "code",
   "execution_count": null,
   "id": "skilled-blond",
   "metadata": {},
   "outputs": [],
   "source": [
    "csv_df.write.csv('../datasets/write-csv', mode='overwrite')"
   ]
  },
  {
   "cell_type": "markdown",
   "id": "plain-joseph",
   "metadata": {},
   "source": [
    "## Parquet"
   ]
  },
  {
   "cell_type": "code",
   "execution_count": null,
   "id": "charitable-license",
   "metadata": {},
   "outputs": [],
   "source": [
    "parquet_df = spark.read \\\n",
    "                  .parquet('../datasets/olympic-history/athletes_events')\n",
    "parquet_df.show()\n",
    "parquet_df.count()"
   ]
  },
  {
   "cell_type": "code",
   "execution_count": null,
   "id": "religious-tunnel",
   "metadata": {},
   "outputs": [],
   "source": [
    "parquet_df.write.parquet('../datasets/write-parquet', mode='overwrite')"
   ]
  },
  {
   "cell_type": "markdown",
   "id": "affected-aspect",
   "metadata": {},
   "source": [
    "## Database"
   ]
  },
  {
   "cell_type": "code",
   "execution_count": null,
   "id": "present-trust",
   "metadata": {},
   "outputs": [],
   "source": [
    "# Setup the JDBC connection\n",
    "jdbc_url = \"jdbc:mysql://localhost:3306/loja\"\n",
    "connection_properties = {\n",
    "      \"user\" : \"root\",\n",
    "      \"password\" : \"123\",\n",
    "      \"driver\" : \"com.mysql.jdbc.Driver\"\n",
    "    }\n",
    "\n",
    "# Create a query\n",
    "query = \"\"\"\n",
    "            SELECT * FROM bairro\n",
    "        \"\"\"\n",
    "\n",
    "# run the query\n",
    "bh_bairros_df = spark.read \\\n",
    "                     .jdbc(url=jdbc_url, \n",
    "                           table=f\"({query}) AS t\", \n",
    "                           properties=connection_properties)\n",
    "\n",
    "bh_bairros_df.show()\n",
    "bh_bairros_df.count()\n",
    "bh_bairros_df.printSchema()"
   ]
  },
  {
   "cell_type": "code",
   "execution_count": null,
   "id": "covered-nigeria",
   "metadata": {},
   "outputs": [],
   "source": [
    "from pyspark.sql import functions as F\n",
    "\n",
    "bh_bairros_df.write \\\n",
    "             .mode(\"overwrite\") \\\n",
    "             .option(\"truncate\", \"true\") \\\n",
    "             .jdbc(url=jdbc_url, \n",
    "                   table=\"bairro\",\n",
    "                   properties=connection_properties)\n",
    "\n",
    "bh_bairros_df.printSchema()"
   ]
  },
  {
   "cell_type": "code",
   "execution_count": null,
   "id": "hairy-season",
   "metadata": {},
   "outputs": [],
   "source": []
  }
 ],
 "metadata": {
  "kernelspec": {
   "display_name": "Python 3 (ipykernel)",
   "language": "python",
   "name": "python3"
  },
  "language_info": {
   "codemirror_mode": {
    "name": "ipython",
    "version": 3
   },
   "file_extension": ".py",
   "mimetype": "text/x-python",
   "name": "python",
   "nbconvert_exporter": "python",
   "pygments_lexer": "ipython3",
   "version": "3.7.3"
  }
 },
 "nbformat": 4,
 "nbformat_minor": 5
}
