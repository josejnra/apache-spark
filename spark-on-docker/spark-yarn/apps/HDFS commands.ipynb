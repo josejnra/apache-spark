{
 "cells": [
  {
   "cell_type": "markdown",
   "id": "8396c248-f7ff-4051-a58d-3878b95ff751",
   "metadata": {},
   "source": [
    "# HDFS"
   ]
  },
  {
   "cell_type": "markdown",
   "id": "a5af92a8-61bf-4db3-b97e-c804a1267e0c",
   "metadata": {},
   "source": [
    "## List"
   ]
  },
  {
   "cell_type": "code",
   "execution_count": 1,
   "id": "fe8df7ff-c1d8-493e-b01d-e5637ef93ac5",
   "metadata": {},
   "outputs": [
    {
     "name": "stdout",
     "output_type": "stream",
     "text": [
      "Found 2 items\n",
      "drwxr-xr-x   - root supergroup          0 2021-09-29 01:12 /spark-logs\n",
      "drwxr-xr-x   - root supergroup          0 2021-09-29 00:47 /user\n"
     ]
    }
   ],
   "source": [
    "!hadoop fs -ls /"
   ]
  },
  {
   "cell_type": "markdown",
   "id": "43f31fb9-321f-409f-874d-ff7970e433d9",
   "metadata": {},
   "source": [
    "## Copy data to HDFS"
   ]
  },
  {
   "cell_type": "code",
   "execution_count": 4,
   "id": "8942bad9-e56e-4b43-bd9f-ec4ae8c2606a",
   "metadata": {},
   "outputs": [],
   "source": [
    "!hdfs dfs -put datasets /user/root"
   ]
  },
  {
   "cell_type": "code",
   "execution_count": null,
   "id": "a42940aa-e43e-4ce2-b27f-98a866d2f873",
   "metadata": {},
   "outputs": [],
   "source": []
  }
 ],
 "metadata": {
  "kernelspec": {
   "display_name": "Python 3 (ipykernel)",
   "language": "python",
   "name": "python3"
  },
  "language_info": {
   "codemirror_mode": {
    "name": "ipython",
    "version": 3
   },
   "file_extension": ".py",
   "mimetype": "text/x-python",
   "name": "python",
   "nbconvert_exporter": "python",
   "pygments_lexer": "ipython3",
   "version": "3.9.2"
  }
 },
 "nbformat": 4,
 "nbformat_minor": 5
}
