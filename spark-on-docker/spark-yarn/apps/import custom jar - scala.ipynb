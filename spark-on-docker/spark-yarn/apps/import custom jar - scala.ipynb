{
 "cells": [
  {
   "cell_type": "code",
   "execution_count": 1,
   "id": "4807307d-c64e-451a-b104-87ec5d06df95",
   "metadata": {
    "tags": []
   },
   "outputs": [],
   "source": [
    "%%init_spark\n",
    "launcher.num_executors = 4\n",
    "launcher.executor_cores = 2\n",
    "launcher.driver_memory = '4g'\n",
    "launcher.conf.set(\"spark.sql.catalogImplementation\", \"hive\")\n",
    "launcher.conf.set(\"spark.jars.packages\", \"net.liftweb:lift-json_2.12:3.5.0\")\n",
    "launcher.conf.set(\"spark.jars\", \"/opt/spark-hive_2.12-3.4.0.jar,/opt/scala-project_2.12-0.1.0-SNAPSHOT.jar\")"
   ]
  },
  {
   "cell_type": "code",
   "execution_count": 2,
   "id": "8d1e9e90-66ad-497f-8efb-19657e8670b5",
   "metadata": {
    "tags": []
   },
   "outputs": [
    {
     "data": {
      "text/plain": [
       "Intitializing Scala interpreter ..."
      ]
     },
     "metadata": {},
     "output_type": "display_data"
    },
    {
     "data": {
      "text/plain": [
       "Spark Web UI available at http://localhost:8088/proxy/application_1682380615897_0014\n",
       "SparkContext available as 'sc' (version = 3.4.0, master = yarn, app id = application_1682380615897_0014)\n",
       "SparkSession available as 'spark'\n"
      ]
     },
     "metadata": {},
     "output_type": "display_data"
    },
    {
     "data": {
      "text/plain": [
       "res0: org.apache.spark.sql.SparkSession = org.apache.spark.sql.SparkSession@2074de99\n"
      ]
     },
     "execution_count": 2,
     "metadata": {},
     "output_type": "execute_result"
    }
   ],
   "source": [
    "spark"
   ]
  },
  {
   "cell_type": "code",
   "execution_count": 3,
   "id": "40582db7-3ca5-4bcd-82a5-3f1cd305d09d",
   "metadata": {
    "tags": []
   },
   "outputs": [
    {
     "data": {
      "text/plain": [
       "res1: String = 3.4.0\n"
      ]
     },
     "execution_count": 3,
     "metadata": {},
     "output_type": "execute_result"
    }
   ],
   "source": [
    "spark.version"
   ]
  },
  {
   "cell_type": "markdown",
   "id": "c8a9d305-fd14-487d-bf50-48c695230538",
   "metadata": {},
   "source": [
    "## Define Data Frame"
   ]
  },
  {
   "cell_type": "code",
   "execution_count": 4,
   "id": "aadae97b-3091-4c6f-8b58-c7a8c34eff57",
   "metadata": {
    "tags": []
   },
   "outputs": [
    {
     "name": "stdout",
     "output_type": "stream",
     "text": [
      "root\n",
      " |-- id: integer (nullable = true)\n",
      " |-- title: string (nullable = true)\n",
      " |-- price: map (nullable = true)\n",
      " |    |-- key: string\n",
      " |    |-- value: string (valueContainsNull = true)\n",
      " |-- release_date: timestamp (nullable = true)\n",
      " |-- cast: array (nullable = true)\n",
      " |    |-- element: map (containsNull = true)\n",
      " |    |    |-- key: string\n",
      " |    |    |-- value: string (valueContainsNull = true)\n",
      "\n",
      "+---+---------------------------+--------------------------------------+------------+------------------------------------------------------------------------------------------------------------------------------------------------------------+\n",
      "|id |title                      |price                                 |release_date|cast                                                                                                                                                        |\n",
      "+---+---------------------------+--------------------------------------+------------+------------------------------------------------------------------------------------------------------------------------------------------------------------+\n",
      "|1  |The Super Mario Bros. Movie|{currency_code -> USD, amount -> 3.95}|null        |[{Jack Black -> Bowser, Chris Pratt -> Mario, Charlie Day -> Luigi, Anya Taylor -> Princess Peach}]                                                         |\n",
      "|2  |Top Gun: Maverick          |{currency_code -> USD, amount -> 3.95}|null        |[{Tom Cruise -> Pete Mitchell, Miles Teller -> Bradley, Val Kilmer -> Tom Kazansky, Jennifer Connelly -> Penny Benjamin}, {Glen Powell -> Lt. Jake Seresin}]|\n",
      "|3  |null                       |{currency_code -> USD, amount -> 3.95}|null        |[]                                                                                                                                                          |\n",
      "+---+---------------------------+--------------------------------------+------------+------------------------------------------------------------------------------------------------------------------------------------------------------------+\n",
      "\n"
     ]
    },
    {
     "data": {
      "text/plain": [
       "import org.apache.spark.sql.types.{IntegerType, StringType, DoubleType, MapType, ArrayType, StructField, StructType}\n",
       "import org.apache.spark.sql.Row\n",
       "movies: Seq[org.apache.spark.sql.Row] = List([1,The Super Mario Bros. Movie,Map(currency_code -> USD, amount -> 3.95),2023-04-10 06:14:23.298,List(Map(Jack Black -> Bowser, Chris Pratt -> Mario, Charlie Day -> Luigi, Anya Taylor -> Princess Peach))], [2,Top Gun: Maverick,Map(currency_code -> USD, amount -> 3.95),2023-04-10 06:14:23.298,List(Map(Tom Cruise -> Pete Mitchell, Miles Teller -> Bradley, Val Kilmer -> Tom Kazansky, Jennifer Connelly -> Penny Benjamin), Map(Glen Powell -> Lt. Jake Seresin))], [3,null,Map(currency_code -> USD, amount -> 3.95),2023-04-10 06:14:23.298,List()])\n",
       "schema: List[org.apache.spark.sql.types.StructField] = Lis...\n"
      ]
     },
     "execution_count": 4,
     "metadata": {},
     "output_type": "execute_result"
    }
   ],
   "source": [
    "import org.apache.spark.sql.types.{IntegerType, StringType, DoubleType, MapType, ArrayType, StructField, StructType}\n",
    "import org.apache.spark.sql.Row\n",
    "\n",
    "val movies = Seq(\n",
    "Row(1, \"The Super Mario Bros. Movie\", Map(\"currency_code\" -> \"USD\", \"amount\" -> \"3.95\"), \"2023-04-10 06:14:23.298\", List(Map(\"Jack Black\" -> \"Bowser\", \"Chris Pratt\" -> \"Mario\", \"Charlie Day\" -> \"Luigi\", \"Anya Taylor\" -> \"Princess Peach\"))),\n",
    "Row(2, \"Top Gun: Maverick\", Map(\"currency_code\" -> \"USD\", \"amount\" -> \"3.95\"), \"2023-04-10 06:14:23.298\", List(Map(\"Tom Cruise\" -> \"Pete Mitchell\", \"Miles Teller\" -> \"Bradley\", \"Val Kilmer\" -> \"Tom Kazansky\", \"Jennifer Connelly\" -> \"Penny Benjamin\"), Map(\"Glen Powell\" -> \"Lt. Jake Seresin\"))),\n",
    "Row(3, null, Map(\"currency_code\" -> \"USD\", \"amount\" -> \"3.95\"), \"2023-04-10 06:14:23.298\", List())\n",
    ")\n",
    "\n",
    "val schema = List(\n",
    "    StructField(\"id\", IntegerType, true),\n",
    "    StructField(\"title\", StringType, true),\n",
    "    StructField(\"price\", MapType(StringType, StringType, true), true),\n",
    "    StructField(\"release_date\", StringType, true),\n",
    "    StructField(\"cast\", ArrayType(MapType(StringType, StringType, true), true))\n",
    ")\n",
    "\n",
    "var moviesDf = spark.createDataFrame(\n",
    "    spark.sparkContext.parallelize(movies),\n",
    "    StructType(schema)\n",
    ")\n",
    "\n",
    "moviesDf = moviesDf.withColumn(\"release_date\", to_timestamp(col(\"release_date\"),\"MM-dd-yyyy HH:mm:ss.SSSS\"))\n",
    "\n",
    "moviesDf.printSchema()\n",
    "moviesDf.show(false)"
   ]
  },
  {
   "cell_type": "markdown",
   "id": "07dc8c55-8aeb-49c4-ba61-18bd60b5dd04",
   "metadata": {},
   "source": [
    "## Defining an UDF"
   ]
  },
  {
   "cell_type": "code",
   "execution_count": 5,
   "id": "fe59a86d-53b9-4f80-9682-83dd14dca23d",
   "metadata": {
    "tags": []
   },
   "outputs": [
    {
     "data": {
      "text/plain": [
       "import scala.collection.mutable.WrappedArray\n",
       "import org.apache.spark.sql.functions.udf\n",
       "import net.liftweb.json._\n",
       "import net.liftweb.json.Serialization.write\n",
       "udfStringifyCast: ()org.apache.spark.sql.expressions.UserDefinedFunction\n",
       "udfLowerCase: ()org.apache.spark.sql.expressions.UserDefinedFunction\n",
       "udfJsonify: ()org.apache.spark.sql.expressions.UserDefinedFunction\n"
      ]
     },
     "execution_count": 5,
     "metadata": {},
     "output_type": "execute_result"
    }
   ],
   "source": [
    "import scala.collection.mutable.WrappedArray\n",
    "import org.apache.spark.sql.functions.udf\n",
    "import net.liftweb.json._\n",
    "import net.liftweb.json.Serialization.write\n",
    "\n",
    "def udfStringifyCast() = {\n",
    "    udf((movieCast: WrappedArray[Map[String, String]]) => {\n",
    "        var newCastList = List[String]()\n",
    "        for (element <- movieCast) {\n",
    "            newCastList = newCastList :+ element.map(_.productIterator.mkString(\":\")).mkString(\"|\")\n",
    "        }\n",
    "        newCastList\n",
    "    })\n",
    "}\n",
    "\n",
    "def udfLowerCase() = {\n",
    "    udf((columnValue: String) => {\n",
    "        println(s\"O que temos? $columnValue\")\n",
    "        if (columnValue == null) \"\" else columnValue.toLowerCase()\n",
    "    })\n",
    "}\n",
    "\n",
    "def udfJsonify() = {\n",
    "    udf((column: Map[String, String]) => {\n",
    "        implicit val formats = DefaultFormats\n",
    "        write(Map(\n",
    "            \"currency_code\" -> column(\"currency_code\"),\n",
    "            \"amount\" -> column(\"amount\")\n",
    "        ))\n",
    "    })\n",
    "}\n"
   ]
  },
  {
   "cell_type": "code",
   "execution_count": 6,
   "id": "1d749eee-6b02-43b7-ab43-cc4fd1639974",
   "metadata": {
    "tags": []
   },
   "outputs": [
    {
     "name": "stdout",
     "output_type": "stream",
     "text": [
      "+---+--------------------+--------------------+------------+--------------------+--------------------+--------------------+--------------------+\n",
      "| id|               title|               price|release_date|                cast|      cast_stringify|     title_lowercase|       price_jsonify|\n",
      "+---+--------------------+--------------------+------------+--------------------+--------------------+--------------------+--------------------+\n",
      "|  1|The Super Mario B...|{currency_code ->...|        null|[{Jack Black -> B...|[Jack Black:Bowse...|the super mario b...|{\"currency_code\":...|\n",
      "|  2|   Top Gun: Maverick|{currency_code ->...|        null|[{Tom Cruise -> P...|[Tom Cruise:Pete ...|   top gun: maverick|{\"currency_code\":...|\n",
      "|  3|                null|{currency_code ->...|        null|                  []|                  []|                    |{\"currency_code\":...|\n",
      "+---+--------------------+--------------------+------------+--------------------+--------------------+--------------------+--------------------+\n",
      "\n",
      "root\n",
      " |-- id: integer (nullable = true)\n",
      " |-- title: string (nullable = true)\n",
      " |-- price: map (nullable = true)\n",
      " |    |-- key: string\n",
      " |    |-- value: string (valueContainsNull = true)\n",
      " |-- release_date: timestamp (nullable = true)\n",
      " |-- cast: array (nullable = true)\n",
      " |    |-- element: map (containsNull = true)\n",
      " |    |    |-- key: string\n",
      " |    |    |-- value: string (valueContainsNull = true)\n",
      " |-- cast_stringify: array (nullable = true)\n",
      " |    |-- element: string (containsNull = true)\n",
      " |-- title_lowercase: string (nullable = true)\n",
      " |-- price_jsonify: string (nullable = true)\n",
      "\n"
     ]
    },
    {
     "data": {
      "text/plain": [
       "df: org.apache.spark.sql.DataFrame = [id: int, title: string ... 6 more fields]\n"
      ]
     },
     "execution_count": 6,
     "metadata": {},
     "output_type": "execute_result"
    }
   ],
   "source": [
    "val df = moviesDf\n",
    "    .withColumn(\"cast_stringify\", udfStringifyCast()($\"cast\"))\n",
    "    .withColumn(\"title_lowercase\", udfLowerCase()($\"title\"))\n",
    "    .withColumn(\"price_jsonify\", udfJsonify()($\"price\"))\n",
    "\n",
    "df.show\n",
    "df.printSchema"
   ]
  },
  {
   "cell_type": "markdown",
   "id": "5c0de04f-2bc1-4e3f-b209-351dbf912eb4",
   "metadata": {},
   "source": [
    "## Importing a UDF"
   ]
  },
  {
   "cell_type": "code",
   "execution_count": 8,
   "id": "05939384-70b2-485e-aca2-c2c11760b653",
   "metadata": {
    "tags": []
   },
   "outputs": [
    {
     "data": {
      "text/plain": [
       "import com.myudfs.MathUDFs\n"
      ]
     },
     "execution_count": 8,
     "metadata": {},
     "output_type": "execute_result"
    }
   ],
   "source": [
    "import com.myudfs.MathUDFs"
   ]
  },
  {
   "cell_type": "code",
   "execution_count": 9,
   "id": "fec26b52-58c1-4b68-80b0-2b4b4b2353c8",
   "metadata": {
    "tags": []
   },
   "outputs": [
    {
     "name": "stdout",
     "output_type": "stream",
     "text": [
      "+----------------+--------------------+\n",
      "|greatherThanZero|               title|\n",
      "+----------------+--------------------+\n",
      "|            true|The Super Mario B...|\n",
      "|            true|   Top Gun: Maverick|\n",
      "|            true|                null|\n",
      "+----------------+--------------------+\n",
      "\n"
     ]
    }
   ],
   "source": [
    "df.withColumn(\"greatherThanZero\", MathUDFs.isGreaterThanZeroUDF($\"id\")).select(\"greatherThanZero\", \"title\").show"
   ]
  },
  {
   "cell_type": "code",
   "execution_count": 15,
   "id": "d2a0122f-f255-458a-baf5-30933e1af768",
   "metadata": {
    "tags": []
   },
   "outputs": [
    {
     "data": {
      "text/plain": [
       "res11: org.apache.spark.sql.expressions.UserDefinedFunction = SparkUserDefinedFunction(com.myudfs.MathUDFs$$$Lambda$4261/0x000000084199f840@18365020,IntegerType,List(Some(class[value[0]: int])),Some(class[value[0]: int]),Some(multiply),false,true)\n"
      ]
     },
     "execution_count": 15,
     "metadata": {},
     "output_type": "execute_result"
    }
   ],
   "source": [
    "spark.udf.register(\"multiply\", com.myudfs.MathUDFs.multiplyBy(2))"
   ]
  },
  {
   "cell_type": "code",
   "execution_count": 16,
   "id": "239382ff-11ad-483b-992a-48685c3b10f5",
   "metadata": {},
   "outputs": [],
   "source": [
    "df.createOrReplaceTempView(\"movies\")"
   ]
  },
  {
   "cell_type": "code",
   "execution_count": null,
   "id": "41bb9cf4-b155-4875-817b-910bd7b00331",
   "metadata": {
    "tags": []
   },
   "outputs": [],
   "source": [
    "// needs to setup hive metastore\n",
    "spark.sql(\"\"\"\n",
    "    SELECT isGreaterThanZero(id), name\n",
    "    FROM movies\n",
    "    \"\"\").show()"
   ]
  },
  {
   "cell_type": "code",
   "execution_count": null,
   "id": "97e588b7-dfd9-437f-916c-00b540b52985",
   "metadata": {},
   "outputs": [],
   "source": []
  }
 ],
 "metadata": {
  "kernelspec": {
   "display_name": "spylon-kernel",
   "language": "scala",
   "name": "spylon-kernel"
  },
  "language_info": {
   "codemirror_mode": "text/x-scala",
   "file_extension": ".scala",
   "help_links": [
    {
     "text": "MetaKernel Magics",
     "url": "https://metakernel.readthedocs.io/en/latest/source/README.html"
    }
   ],
   "mimetype": "text/x-scala",
   "name": "scala",
   "pygments_lexer": "scala",
   "version": "0.4.1"
  }
 },
 "nbformat": 4,
 "nbformat_minor": 5
}
