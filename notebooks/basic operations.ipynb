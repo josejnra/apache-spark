{
 "cells": [
  {
   "cell_type": "code",
   "execution_count": 1,
   "id": "proprietary-tiffany",
   "metadata": {},
   "outputs": [
    {
     "data": {
      "text/html": [
       "<style>.container { width:100% !important; }</style>"
      ],
      "text/plain": [
       "<IPython.core.display.HTML object>"
      ]
     },
     "metadata": {},
     "output_type": "display_data"
    }
   ],
   "source": [
    "from IPython.core.display import display, HTML\n",
    "display(HTML(\"<style>.container { width:100% !important; }</style>\"))"
   ]
  },
  {
   "cell_type": "code",
   "execution_count": 2,
   "id": "quantitative-rating",
   "metadata": {},
   "outputs": [],
   "source": [
    "SPARK_HOME = '/home/jose/Frameworks/spark-3.0.2-bin-hadoop2.7'"
   ]
  },
  {
   "cell_type": "code",
   "execution_count": 3,
   "id": "hungarian-ribbon",
   "metadata": {},
   "outputs": [
    {
     "data": {
      "text/html": [
       "\n",
       "            <div>\n",
       "                <p><b>SparkSession - in-memory</b></p>\n",
       "                \n",
       "        <div>\n",
       "            <p><b>SparkContext</b></p>\n",
       "\n",
       "            <p><a href=\"http://192.168.0.111:4041\">Spark UI</a></p>\n",
       "\n",
       "            <dl>\n",
       "              <dt>Version</dt>\n",
       "                <dd><code>v3.0.2</code></dd>\n",
       "              <dt>Master</dt>\n",
       "                <dd><code>local[*]</code></dd>\n",
       "              <dt>AppName</dt>\n",
       "                <dd><code>Spark Base</code></dd>\n",
       "            </dl>\n",
       "        </div>\n",
       "        \n",
       "            </div>\n",
       "        "
      ],
      "text/plain": [
       "<pyspark.sql.session.SparkSession at 0x7fc9f9344898>"
      ]
     },
     "execution_count": 3,
     "metadata": {},
     "output_type": "execute_result"
    }
   ],
   "source": [
    "# import os\n",
    "# os.environ['PYSPARK_SUBMIT_ARGS'] = 'pyspark-shell'\n",
    "\n",
    "import findspark\n",
    "findspark.init(SPARK_HOME)\n",
    "\n",
    "from pyspark import SparkContext, SparkConf\n",
    "from pyspark.sql import SparkSession\n",
    "\n",
    "config = SparkConf() \\\n",
    "                    .setMaster('local[*]') \\\n",
    "                    .setAppName('Spark Base') \\\n",
    "                    .setAll([('spark.executor.memory', '2G'),\n",
    "                            ('spark.driver.memory', '2G'),\n",
    "                            ('spark.driver.maxResultSize', '1G')])\n",
    "\n",
    "sc = SparkContext(conf=config)\n",
    "spark = SparkSession(sc)\n",
    "\n",
    "spark"
   ]
  },
  {
   "cell_type": "markdown",
   "id": "local-mechanism",
   "metadata": {},
   "source": [
    "## Create Dataframe"
   ]
  },
  {
   "cell_type": "markdown",
   "id": "stock-sessions",
   "metadata": {},
   "source": [
    "### No schema"
   ]
  },
  {
   "cell_type": "code",
   "execution_count": 6,
   "id": "tribal-reduction",
   "metadata": {},
   "outputs": [
    {
     "name": "stdout",
     "output_type": "stream",
     "text": [
      "+-----+---+\n",
      "| name| id|\n",
      "+-----+---+\n",
      "|Alice|  1|\n",
      "|Braga|  2|\n",
      "|Steve|  3|\n",
      "+-----+---+\n",
      "\n"
     ]
    }
   ],
   "source": [
    "tuple_list_data = [('Alice', 1), ('Braga', 2), ('Steve', 3)]\n",
    "spark.createDataFrame(tuple_list_data, ['name', 'id']).show()"
   ]
  },
  {
   "cell_type": "code",
   "execution_count": 7,
   "id": "capable-worst",
   "metadata": {},
   "outputs": [
    {
     "name": "stderr",
     "output_type": "stream",
     "text": [
      "/home/jose/Frameworks/spark-3.0.2-bin-hadoop2.7/python/pyspark/sql/session.py:381: UserWarning: inferring schema from dict is deprecated,please use pyspark.sql.Row instead\n",
      "  warnings.warn(\"inferring schema from dict is deprecated,\"\n"
     ]
    },
    {
     "name": "stdout",
     "output_type": "stream",
     "text": [
      "+---+-----+\n",
      "| id| name|\n",
      "+---+-----+\n",
      "|  1|Alice|\n",
      "|  2|Braga|\n",
      "|  2|Steve|\n",
      "+---+-----+\n",
      "\n"
     ]
    }
   ],
   "source": [
    "dict_list_data = [{'name': 'Alice', 'id': 1}, {'name': 'Braga', 'id': 2}, {'name': 'Steve', 'id': 2}]\n",
    "spark.createDataFrame(dict_list_data).show()"
   ]
  },
  {
   "cell_type": "code",
   "execution_count": 19,
   "id": "colored-miracle",
   "metadata": {},
   "outputs": [
    {
     "name": "stdout",
     "output_type": "stream",
     "text": [
      "+-----+---+\n",
      "| name| id|\n",
      "+-----+---+\n",
      "|Alice|  1|\n",
      "|Braga|  2|\n",
      "|Steve|  3|\n",
      "+-----+---+\n",
      "\n"
     ]
    }
   ],
   "source": [
    "from pyspark.sql.types import Row\n",
    "\n",
    "row_list_data = [Row('Alice', 1), Row('Braga', 2), Row('Steve', 3)]\n",
    "spark.createDataFrame(row_list_data, ['name', 'id']).show()"
   ]
  },
  {
   "cell_type": "markdown",
   "id": "productive-messaging",
   "metadata": {},
   "source": [
    "### With Schema"
   ]
  },
  {
   "cell_type": "code",
   "execution_count": 16,
   "id": "resident-prediction",
   "metadata": {},
   "outputs": [
    {
     "name": "stdout",
     "output_type": "stream",
     "text": [
      "+-----+---+\n",
      "| name| id|\n",
      "+-----+---+\n",
      "|Alice|  1|\n",
      "|Braga|  2|\n",
      "|Steve|  3|\n",
      "+-----+---+\n",
      "\n"
     ]
    }
   ],
   "source": [
    "from pyspark.sql.types import StructType, StructField, StringType, IntegerType\n",
    "schema = StructType([\n",
    "    StructField('name', StringType()),\n",
    "    StructField('id', IntegerType())\n",
    "])\n",
    "\n",
    "spark.createDataFrame(tuple_list_data, schema).show()"
   ]
  },
  {
   "cell_type": "code",
   "execution_count": 17,
   "id": "limiting-mount",
   "metadata": {},
   "outputs": [
    {
     "name": "stdout",
     "output_type": "stream",
     "text": [
      "+-----+---+\n",
      "| name| id|\n",
      "+-----+---+\n",
      "|Alice|  1|\n",
      "|Braga|  2|\n",
      "|Steve|  3|\n",
      "+-----+---+\n",
      "\n"
     ]
    }
   ],
   "source": [
    "spark.createDataFrame(dict_list_data, schema).show()"
   ]
  },
  {
   "cell_type": "code",
   "execution_count": 20,
   "id": "congressional-party",
   "metadata": {},
   "outputs": [
    {
     "name": "stdout",
     "output_type": "stream",
     "text": [
      "+-----+---+\n",
      "| name| id|\n",
      "+-----+---+\n",
      "|Alice|  1|\n",
      "|Braga|  2|\n",
      "|Steve|  3|\n",
      "+-----+---+\n",
      "\n"
     ]
    }
   ],
   "source": [
    "spark.createDataFrame(row_list_data, schema).show()"
   ]
  },
  {
   "cell_type": "markdown",
   "id": "accessory-supply",
   "metadata": {},
   "source": [
    "## Table"
   ]
  },
  {
   "cell_type": "code",
   "execution_count": 26,
   "id": "spatial-centre",
   "metadata": {},
   "outputs": [],
   "source": [
    "sample_data = [('Alice', 1), ('Braga', 2), ('Steve', 3)]\n",
    "df = spark.createDataFrame(sample_data, ['name', 'id'])\n",
    "df.createOrReplaceTempView(\"my_table\")"
   ]
  },
  {
   "cell_type": "code",
   "execution_count": 31,
   "id": "corresponding-trade",
   "metadata": {},
   "outputs": [
    {
     "name": "stdout",
     "output_type": "stream",
     "text": [
      "+-----+---+\n",
      "| name| id|\n",
      "+-----+---+\n",
      "|Alice|  1|\n",
      "|Braga|  2|\n",
      "|Steve|  3|\n",
      "+-----+---+\n",
      "\n"
     ]
    }
   ],
   "source": [
    "r = spark.sql('SELECT * FROM my_table')\n",
    "r.show()"
   ]
  },
  {
   "cell_type": "markdown",
   "id": "peaceful-warning",
   "metadata": {},
   "source": [
    "# Basic Operations with SQL"
   ]
  },
  {
   "cell_type": "code",
   "execution_count": 4,
   "id": "mechanical-squad",
   "metadata": {},
   "outputs": [],
   "source": [
    "sprinters = [\n",
    "    ('Usain Bolt', 1),\n",
    "    ('Tyson Gay', 2),\n",
    "    ('Yohan Blake', 3),\n",
    "    ('Asafa Powell', 4),\n",
    "    ('Justin Gatlin', 5),\n",
    "    ('Christian Coleman', 6)\n",
    "]\n",
    "\n",
    "times = {\n",
    "    1: 9.58,\n",
    "    2: 9.69,\n",
    "    3: 9.72,\n",
    "    4: 9.74,\n",
    "    5: 9.76,\n",
    "    6: 9.78\n",
    "}\n",
    "\n",
    "sprinters_df = spark.createDataFrame(\n",
    "    sprinters,\n",
    "    schema=['name', 'id']\n",
    ")\n",
    "\n",
    "times_df = spark.createDataFrame(\n",
    "    times.items(),\n",
    "    schema=['id', 'time']\n",
    ")\n",
    "\n",
    "\n",
    "# SQL\n",
    "sprinters_df.createOrReplaceTempView('sprinters')\n",
    "times_df.createOrReplaceTempView('times')"
   ]
  },
  {
   "cell_type": "code",
   "execution_count": 5,
   "id": "objective-congress",
   "metadata": {},
   "outputs": [
    {
     "data": {
      "text/html": [
       "<div>\n",
       "<style scoped>\n",
       "    .dataframe tbody tr th:only-of-type {\n",
       "        vertical-align: middle;\n",
       "    }\n",
       "\n",
       "    .dataframe tbody tr th {\n",
       "        vertical-align: top;\n",
       "    }\n",
       "\n",
       "    .dataframe thead th {\n",
       "        text-align: right;\n",
       "    }\n",
       "</style>\n",
       "<table border=\"1\" class=\"dataframe\">\n",
       "  <thead>\n",
       "    <tr style=\"text-align: right;\">\n",
       "      <th></th>\n",
       "      <th>name</th>\n",
       "      <th>id</th>\n",
       "    </tr>\n",
       "  </thead>\n",
       "  <tbody>\n",
       "    <tr>\n",
       "      <th>0</th>\n",
       "      <td>Usain Bolt</td>\n",
       "      <td>1</td>\n",
       "    </tr>\n",
       "    <tr>\n",
       "      <th>1</th>\n",
       "      <td>Tyson Gay</td>\n",
       "      <td>2</td>\n",
       "    </tr>\n",
       "    <tr>\n",
       "      <th>2</th>\n",
       "      <td>Yohan Blake</td>\n",
       "      <td>3</td>\n",
       "    </tr>\n",
       "    <tr>\n",
       "      <th>3</th>\n",
       "      <td>Asafa Powell</td>\n",
       "      <td>4</td>\n",
       "    </tr>\n",
       "    <tr>\n",
       "      <th>4</th>\n",
       "      <td>Justin Gatlin</td>\n",
       "      <td>5</td>\n",
       "    </tr>\n",
       "    <tr>\n",
       "      <th>5</th>\n",
       "      <td>Christian Coleman</td>\n",
       "      <td>6</td>\n",
       "    </tr>\n",
       "  </tbody>\n",
       "</table>\n",
       "</div>"
      ],
      "text/plain": [
       "                name  id\n",
       "0         Usain Bolt   1\n",
       "1          Tyson Gay   2\n",
       "2        Yohan Blake   3\n",
       "3       Asafa Powell   4\n",
       "4      Justin Gatlin   5\n",
       "5  Christian Coleman   6"
      ]
     },
     "execution_count": 5,
     "metadata": {},
     "output_type": "execute_result"
    }
   ],
   "source": [
    "spark.sql(\"\"\"\n",
    "    SELECT *\n",
    "    FROM sprinters\n",
    "    \"\"\").toPandas()"
   ]
  },
  {
   "cell_type": "code",
   "execution_count": 6,
   "id": "civil-customs",
   "metadata": {},
   "outputs": [
    {
     "data": {
      "text/html": [
       "<div>\n",
       "<style scoped>\n",
       "    .dataframe tbody tr th:only-of-type {\n",
       "        vertical-align: middle;\n",
       "    }\n",
       "\n",
       "    .dataframe tbody tr th {\n",
       "        vertical-align: top;\n",
       "    }\n",
       "\n",
       "    .dataframe thead th {\n",
       "        text-align: right;\n",
       "    }\n",
       "</style>\n",
       "<table border=\"1\" class=\"dataframe\">\n",
       "  <thead>\n",
       "    <tr style=\"text-align: right;\">\n",
       "      <th></th>\n",
       "      <th>name</th>\n",
       "      <th>id</th>\n",
       "      <th>id</th>\n",
       "      <th>time</th>\n",
       "    </tr>\n",
       "  </thead>\n",
       "  <tbody>\n",
       "    <tr>\n",
       "      <th>0</th>\n",
       "      <td>Christian Coleman</td>\n",
       "      <td>6</td>\n",
       "      <td>6</td>\n",
       "      <td>9.78</td>\n",
       "    </tr>\n",
       "    <tr>\n",
       "      <th>1</th>\n",
       "      <td>Justin Gatlin</td>\n",
       "      <td>5</td>\n",
       "      <td>5</td>\n",
       "      <td>9.76</td>\n",
       "    </tr>\n",
       "    <tr>\n",
       "      <th>2</th>\n",
       "      <td>Usain Bolt</td>\n",
       "      <td>1</td>\n",
       "      <td>1</td>\n",
       "      <td>9.58</td>\n",
       "    </tr>\n",
       "    <tr>\n",
       "      <th>3</th>\n",
       "      <td>Yohan Blake</td>\n",
       "      <td>3</td>\n",
       "      <td>3</td>\n",
       "      <td>9.72</td>\n",
       "    </tr>\n",
       "    <tr>\n",
       "      <th>4</th>\n",
       "      <td>Tyson Gay</td>\n",
       "      <td>2</td>\n",
       "      <td>2</td>\n",
       "      <td>9.69</td>\n",
       "    </tr>\n",
       "    <tr>\n",
       "      <th>5</th>\n",
       "      <td>Asafa Powell</td>\n",
       "      <td>4</td>\n",
       "      <td>4</td>\n",
       "      <td>9.74</td>\n",
       "    </tr>\n",
       "  </tbody>\n",
       "</table>\n",
       "</div>"
      ],
      "text/plain": [
       "                name  id  id  time\n",
       "0  Christian Coleman   6   6  9.78\n",
       "1      Justin Gatlin   5   5  9.76\n",
       "2         Usain Bolt   1   1  9.58\n",
       "3        Yohan Blake   3   3  9.72\n",
       "4          Tyson Gay   2   2  9.69\n",
       "5       Asafa Powell   4   4  9.74"
      ]
     },
     "execution_count": 6,
     "metadata": {},
     "output_type": "execute_result"
    }
   ],
   "source": [
    "sprinters_and_times_df = spark.sql(\"\"\"\n",
    "    SELECT * \n",
    "    FROM sprinters s\n",
    "    INNER JOIN times t ON s.id = t.id\n",
    "\"\"\")\n",
    "\n",
    "sprinters_and_times_df.toPandas()"
   ]
  },
  {
   "cell_type": "markdown",
   "id": "typical-adrian",
   "metadata": {},
   "source": [
    "## Window"
   ]
  },
  {
   "cell_type": "code",
   "execution_count": 59,
   "id": "dramatic-texas",
   "metadata": {},
   "outputs": [
    {
     "data": {
      "text/html": [
       "<div>\n",
       "<style scoped>\n",
       "    .dataframe tbody tr th:only-of-type {\n",
       "        vertical-align: middle;\n",
       "    }\n",
       "\n",
       "    .dataframe tbody tr th {\n",
       "        vertical-align: top;\n",
       "    }\n",
       "\n",
       "    .dataframe thead th {\n",
       "        text-align: right;\n",
       "    }\n",
       "</style>\n",
       "<table border=\"1\" class=\"dataframe\">\n",
       "  <thead>\n",
       "    <tr style=\"text-align: right;\">\n",
       "      <th></th>\n",
       "      <th>name</th>\n",
       "      <th>id</th>\n",
       "      <th>id</th>\n",
       "      <th>time</th>\n",
       "    </tr>\n",
       "  </thead>\n",
       "  <tbody>\n",
       "    <tr>\n",
       "      <th>0</th>\n",
       "      <td>Usain Bolt</td>\n",
       "      <td>1</td>\n",
       "      <td>1</td>\n",
       "      <td>9.58</td>\n",
       "    </tr>\n",
       "    <tr>\n",
       "      <th>1</th>\n",
       "      <td>Tyson Gay</td>\n",
       "      <td>2</td>\n",
       "      <td>2</td>\n",
       "      <td>9.69</td>\n",
       "    </tr>\n",
       "    <tr>\n",
       "      <th>2</th>\n",
       "      <td>Yohan Blake</td>\n",
       "      <td>3</td>\n",
       "      <td>3</td>\n",
       "      <td>9.72</td>\n",
       "    </tr>\n",
       "    <tr>\n",
       "      <th>3</th>\n",
       "      <td>Asafa Powell</td>\n",
       "      <td>4</td>\n",
       "      <td>4</td>\n",
       "      <td>9.74</td>\n",
       "    </tr>\n",
       "    <tr>\n",
       "      <th>4</th>\n",
       "      <td>Justin Gatlin</td>\n",
       "      <td>5</td>\n",
       "      <td>5</td>\n",
       "      <td>9.76</td>\n",
       "    </tr>\n",
       "    <tr>\n",
       "      <th>5</th>\n",
       "      <td>Christian Coleman</td>\n",
       "      <td>6</td>\n",
       "      <td>6</td>\n",
       "      <td>9.78</td>\n",
       "    </tr>\n",
       "  </tbody>\n",
       "</table>\n",
       "</div>"
      ],
      "text/plain": [
       "                name  id  id  time\n",
       "0         Usain Bolt   1   1  9.58\n",
       "1          Tyson Gay   2   2  9.69\n",
       "2        Yohan Blake   3   3  9.72\n",
       "3       Asafa Powell   4   4  9.74\n",
       "4      Justin Gatlin   5   5  9.76\n",
       "5  Christian Coleman   6   6  9.78"
      ]
     },
     "execution_count": 59,
     "metadata": {},
     "output_type": "execute_result"
    }
   ],
   "source": [
    "spark.sql(\"\"\"\n",
    "    SELECT * \n",
    "    FROM sprinters s\n",
    "    INNER JOIN times t ON s.id = t.id\n",
    "    ORDER BY time\n",
    "\"\"\").toPandas()"
   ]
  },
  {
   "cell_type": "code",
   "execution_count": 60,
   "id": "creative-building",
   "metadata": {},
   "outputs": [
    {
     "data": {
      "text/html": [
       "<div>\n",
       "<style scoped>\n",
       "    .dataframe tbody tr th:only-of-type {\n",
       "        vertical-align: middle;\n",
       "    }\n",
       "\n",
       "    .dataframe tbody tr th {\n",
       "        vertical-align: top;\n",
       "    }\n",
       "\n",
       "    .dataframe thead th {\n",
       "        text-align: right;\n",
       "    }\n",
       "</style>\n",
       "<table border=\"1\" class=\"dataframe\">\n",
       "  <thead>\n",
       "    <tr style=\"text-align: right;\">\n",
       "      <th></th>\n",
       "      <th>id</th>\n",
       "      <th>name</th>\n",
       "      <th>time</th>\n",
       "      <th>rank</th>\n",
       "    </tr>\n",
       "  </thead>\n",
       "  <tbody>\n",
       "    <tr>\n",
       "      <th>0</th>\n",
       "      <td>1</td>\n",
       "      <td>Usain Bolt</td>\n",
       "      <td>9.58</td>\n",
       "      <td>1</td>\n",
       "    </tr>\n",
       "  </tbody>\n",
       "</table>\n",
       "</div>"
      ],
      "text/plain": [
       "   id        name  time  rank\n",
       "0   1  Usain Bolt  9.58     1"
      ]
     },
     "execution_count": 60,
     "metadata": {},
     "output_type": "execute_result"
    }
   ],
   "source": [
    "from pyspark.sql import Window\n",
    "from pyspark.sql.functions import rank\n",
    "\n",
    "\n",
    "spark.sql(\"\"\"\n",
    "    SELECT name\n",
    "    FROM (\n",
    "        SELECT *, RANK() OVER (ORDER BY time) AS rank \n",
    "        FROM sprinters s\n",
    "        INNER JOIN times t ON s.id = t.id\n",
    "    ) as t\n",
    "    WHERE t.rank = 1\n",
    "\"\"\").toPandas()\n",
    "\n",
    "\n",
    "window = Window().orderBy('time')\n",
    "\n",
    "sprinters_df.join(times_df, on=\"id\") \\\n",
    "            .withColumn(\"rank\", rank().over(window)) \\\n",
    "            .filter(\"rank == 1\") \\\n",
    "            .toPandas()"
   ]
  },
  {
   "cell_type": "markdown",
   "id": "pediatric-default",
   "metadata": {},
   "source": [
    "## CASE Clause"
   ]
  },
  {
   "cell_type": "code",
   "execution_count": 61,
   "id": "fallen-taste",
   "metadata": {},
   "outputs": [
    {
     "data": {
      "text/html": [
       "<div>\n",
       "<style scoped>\n",
       "    .dataframe tbody tr th:only-of-type {\n",
       "        vertical-align: middle;\n",
       "    }\n",
       "\n",
       "    .dataframe tbody tr th {\n",
       "        vertical-align: top;\n",
       "    }\n",
       "\n",
       "    .dataframe thead th {\n",
       "        text-align: right;\n",
       "    }\n",
       "</style>\n",
       "<table border=\"1\" class=\"dataframe\">\n",
       "  <thead>\n",
       "    <tr style=\"text-align: right;\">\n",
       "      <th></th>\n",
       "      <th>id</th>\n",
       "      <th>name</th>\n",
       "      <th>time</th>\n",
       "      <th>comment</th>\n",
       "    </tr>\n",
       "  </thead>\n",
       "  <tbody>\n",
       "    <tr>\n",
       "      <th>0</th>\n",
       "      <td>6</td>\n",
       "      <td>Christian Coleman</td>\n",
       "      <td>9.78</td>\n",
       "      <td>Not Bolt</td>\n",
       "    </tr>\n",
       "    <tr>\n",
       "      <th>1</th>\n",
       "      <td>5</td>\n",
       "      <td>Justin Gatlin</td>\n",
       "      <td>9.76</td>\n",
       "      <td>Not Bolt</td>\n",
       "    </tr>\n",
       "    <tr>\n",
       "      <th>2</th>\n",
       "      <td>1</td>\n",
       "      <td>Usain Bolt</td>\n",
       "      <td>9.58</td>\n",
       "      <td>Bolt</td>\n",
       "    </tr>\n",
       "    <tr>\n",
       "      <th>3</th>\n",
       "      <td>3</td>\n",
       "      <td>Yohan Blake</td>\n",
       "      <td>9.72</td>\n",
       "      <td>Not Bolt</td>\n",
       "    </tr>\n",
       "    <tr>\n",
       "      <th>4</th>\n",
       "      <td>2</td>\n",
       "      <td>Tyson Gay</td>\n",
       "      <td>9.69</td>\n",
       "      <td>Almost a Bolt</td>\n",
       "    </tr>\n",
       "    <tr>\n",
       "      <th>5</th>\n",
       "      <td>4</td>\n",
       "      <td>Asafa Powell</td>\n",
       "      <td>9.74</td>\n",
       "      <td>Not Bolt</td>\n",
       "    </tr>\n",
       "  </tbody>\n",
       "</table>\n",
       "</div>"
      ],
      "text/plain": [
       "   id               name  time        comment\n",
       "0   6  Christian Coleman  9.78       Not Bolt\n",
       "1   5      Justin Gatlin  9.76       Not Bolt\n",
       "2   1         Usain Bolt  9.58           Bolt\n",
       "3   3        Yohan Blake  9.72       Not Bolt\n",
       "4   2          Tyson Gay  9.69  Almost a Bolt\n",
       "5   4       Asafa Powell  9.74       Not Bolt"
      ]
     },
     "execution_count": 61,
     "metadata": {},
     "output_type": "execute_result"
    }
   ],
   "source": [
    "from pyspark.sql.functions import when, col\n",
    "\n",
    "spark.sql(\"\"\"\n",
    "    SELECT name,\n",
    "    CASE\n",
    "        WHEN t.time <= 9.58 THEN \"Bolt\"\n",
    "        WHEN t.time > 9.58 AND t.time <= 9.7 THEN \"Almost a Bolt\"\n",
    "        ELSE \"Not Bolt\"\n",
    "    END AS comment\n",
    "    FROM sprinters s\n",
    "    JOIN times t ON s.id = t.id\n",
    "\"\"\").toPandas()\n",
    "\n",
    "\n",
    "sprinters_df.join(times_df, on=\"id\") \\\n",
    "            .withColumn(\"comment\", when(col(\"time\") <= 9.58, \"Bolt\").when((col(\"time\") > 9.58) & (col(\"time\") <= 9.7), \"Almost a Bolt\").otherwise(\"Not Bolt\")) \\\n",
    "            .toPandas()"
   ]
  },
  {
   "cell_type": "code",
   "execution_count": 62,
   "id": "increased-genetics",
   "metadata": {},
   "outputs": [
    {
     "data": {
      "text/html": [
       "<div>\n",
       "<style scoped>\n",
       "    .dataframe tbody tr th:only-of-type {\n",
       "        vertical-align: middle;\n",
       "    }\n",
       "\n",
       "    .dataframe tbody tr th {\n",
       "        vertical-align: top;\n",
       "    }\n",
       "\n",
       "    .dataframe thead th {\n",
       "        text-align: right;\n",
       "    }\n",
       "</style>\n",
       "<table border=\"1\" class=\"dataframe\">\n",
       "  <thead>\n",
       "    <tr style=\"text-align: right;\">\n",
       "      <th></th>\n",
       "      <th>name</th>\n",
       "      <th>time</th>\n",
       "    </tr>\n",
       "  </thead>\n",
       "  <tbody>\n",
       "    <tr>\n",
       "      <th>0</th>\n",
       "      <td>Tyson Gay</td>\n",
       "      <td>9.69</td>\n",
       "    </tr>\n",
       "    <tr>\n",
       "      <th>1</th>\n",
       "      <td>Usain Bolt</td>\n",
       "      <td>9.58</td>\n",
       "    </tr>\n",
       "    <tr>\n",
       "      <th>2</th>\n",
       "      <td>Christian Coleman</td>\n",
       "      <td>9.78</td>\n",
       "    </tr>\n",
       "    <tr>\n",
       "      <th>3</th>\n",
       "      <td>Justin Gatlin</td>\n",
       "      <td>9.76</td>\n",
       "    </tr>\n",
       "    <tr>\n",
       "      <th>4</th>\n",
       "      <td>Yohan Blake</td>\n",
       "      <td>9.72</td>\n",
       "    </tr>\n",
       "    <tr>\n",
       "      <th>5</th>\n",
       "      <td>Asafa Powell</td>\n",
       "      <td>9.74</td>\n",
       "    </tr>\n",
       "  </tbody>\n",
       "</table>\n",
       "</div>"
      ],
      "text/plain": [
       "                name  time\n",
       "0          Tyson Gay  9.69\n",
       "1         Usain Bolt  9.58\n",
       "2  Christian Coleman  9.78\n",
       "3      Justin Gatlin  9.76\n",
       "4        Yohan Blake  9.72\n",
       "5       Asafa Powell  9.74"
      ]
     },
     "execution_count": 62,
     "metadata": {},
     "output_type": "execute_result"
    }
   ],
   "source": [
    "spark.sql(\"\"\"\n",
    "    SELECT name, time\n",
    "    FROM sprinters s\n",
    "    JOIN times t ON s.id = t.id\n",
    "    ORDER BY CASE\n",
    "              WHEN t.time <= 9.58 THEN \"Bolt\"\n",
    "              WHEN t.time > 9.58 AND t.time <= 9.7 THEN \"Almost a Bolt\"\n",
    "              ELSE \"Not Bolt\"\n",
    "          END\n",
    "\"\"\").toPandas()"
   ]
  },
  {
   "cell_type": "markdown",
   "id": "silver-processor",
   "metadata": {},
   "source": [
    "## Aggregation"
   ]
  },
  {
   "cell_type": "code",
   "execution_count": 64,
   "id": "caroline-landscape",
   "metadata": {},
   "outputs": [],
   "source": [
    "dealer = [\n",
    "    (100, 'Fremont', 'Honda Civic', 10),\n",
    "    (100, 'Fremont', 'Honda Accord', 15),\n",
    "    (100, 'Fremont', 'Honda CRV', 7),\n",
    "    (200, 'Dublin', 'Honda Civic', 20),\n",
    "    (200, 'Dublin', 'Honda Accord', 10),\n",
    "    (200, 'Dublin', 'Honda CRV', 3),\n",
    "    (300, 'San Jose', 'Honda Civic', 5),\n",
    "    (300, 'San Jose', 'Honda Accord', 8)\n",
    "]\n",
    "\n",
    "dealer_df = spark.createDataFrame(\n",
    "    dealer,\n",
    "    schema=[\"id\", \"city\", \"car_model\", \"quantity\"]\n",
    ")\n",
    "\n",
    "dealer_df.createOrReplaceTempView(\"dealer\")"
   ]
  },
  {
   "cell_type": "code",
   "execution_count": 84,
   "id": "together-somerset",
   "metadata": {},
   "outputs": [
    {
     "data": {
      "text/html": [
       "<div>\n",
       "<style scoped>\n",
       "    .dataframe tbody tr th:only-of-type {\n",
       "        vertical-align: middle;\n",
       "    }\n",
       "\n",
       "    .dataframe tbody tr th {\n",
       "        vertical-align: top;\n",
       "    }\n",
       "\n",
       "    .dataframe thead th {\n",
       "        text-align: right;\n",
       "    }\n",
       "</style>\n",
       "<table border=\"1\" class=\"dataframe\">\n",
       "  <thead>\n",
       "    <tr style=\"text-align: right;\">\n",
       "      <th></th>\n",
       "      <th>id</th>\n",
       "      <th>sum</th>\n",
       "    </tr>\n",
       "  </thead>\n",
       "  <tbody>\n",
       "    <tr>\n",
       "      <th>0</th>\n",
       "      <td>100</td>\n",
       "      <td>32</td>\n",
       "    </tr>\n",
       "    <tr>\n",
       "      <th>1</th>\n",
       "      <td>200</td>\n",
       "      <td>33</td>\n",
       "    </tr>\n",
       "    <tr>\n",
       "      <th>2</th>\n",
       "      <td>300</td>\n",
       "      <td>13</td>\n",
       "    </tr>\n",
       "  </tbody>\n",
       "</table>\n",
       "</div>"
      ],
      "text/plain": [
       "    id  sum\n",
       "0  100   32\n",
       "1  200   33\n",
       "2  300   13"
      ]
     },
     "execution_count": 84,
     "metadata": {},
     "output_type": "execute_result"
    }
   ],
   "source": [
    "from pyspark.sql.functions import sum as pysum\n",
    "\n",
    "spark.sql(\"\"\"\n",
    "    SELECT id, sum(quantity)\n",
    "    FROM dealer\n",
    "    GROUP BY id\n",
    "    ORDER BY id\n",
    "\"\"\").toPandas()\n",
    "\n",
    "\n",
    "\n",
    "dealer_df.groupby(\"id\") \\\n",
    "         .agg({\"quantity\": \"sum\"}) \\\n",
    "         .sort(\"id\") \\\n",
    "         .toPandas()\n",
    "\n",
    "dealer_df.groupby(\"id\") \\\n",
    "         .sum(\"quantity\") \\\n",
    "         .sort(\"id\") \\\n",
    "         .toPandas()\n",
    "\n",
    "dealer_df.groupby(\"id\") \\\n",
    "         .agg(pysum(\"quantity\").alias(\"sum\")) \\\n",
    "         .sort(\"id\") \\\n",
    "         .toPandas()"
   ]
  },
  {
   "cell_type": "code",
   "execution_count": 95,
   "id": "colonial-politics",
   "metadata": {},
   "outputs": [
    {
     "data": {
      "text/html": [
       "<div>\n",
       "<style scoped>\n",
       "    .dataframe tbody tr th:only-of-type {\n",
       "        vertical-align: middle;\n",
       "    }\n",
       "\n",
       "    .dataframe tbody tr th {\n",
       "        vertical-align: top;\n",
       "    }\n",
       "\n",
       "    .dataframe thead th {\n",
       "        text-align: right;\n",
       "    }\n",
       "</style>\n",
       "<table border=\"1\" class=\"dataframe\">\n",
       "  <thead>\n",
       "    <tr style=\"text-align: right;\">\n",
       "      <th></th>\n",
       "      <th>car_model</th>\n",
       "      <th>count</th>\n",
       "    </tr>\n",
       "  </thead>\n",
       "  <tbody>\n",
       "    <tr>\n",
       "      <th>0</th>\n",
       "      <td>Honda Civic</td>\n",
       "      <td>3</td>\n",
       "    </tr>\n",
       "    <tr>\n",
       "      <th>1</th>\n",
       "      <td>Honda CRV</td>\n",
       "      <td>2</td>\n",
       "    </tr>\n",
       "    <tr>\n",
       "      <th>2</th>\n",
       "      <td>Honda Accord</td>\n",
       "      <td>3</td>\n",
       "    </tr>\n",
       "  </tbody>\n",
       "</table>\n",
       "</div>"
      ],
      "text/plain": [
       "      car_model  count\n",
       "0   Honda Civic      3\n",
       "1     Honda CRV      2\n",
       "2  Honda Accord      3"
      ]
     },
     "execution_count": 95,
     "metadata": {},
     "output_type": "execute_result"
    }
   ],
   "source": [
    "spark.sql(\"\"\"\n",
    "    SELECT car_model, count(car_model)\n",
    "    FROM dealer\n",
    "    GROUP BY car_model\n",
    "\"\"\").toPandas()\n",
    "\n",
    "dealer_df.groupby(\"car_model\") \\\n",
    "         .count() \\\n",
    "         .toPandas()"
   ]
  },
  {
   "cell_type": "markdown",
   "id": "sorted-support",
   "metadata": {},
   "source": [
    "## Pivot"
   ]
  },
  {
   "cell_type": "code",
   "execution_count": 5,
   "id": "working-satellite",
   "metadata": {},
   "outputs": [],
   "source": [
    "person = [\n",
    "    (100, 'John', 30, 1, 'Street 1'),\n",
    "    (200, 'Mary', None, 1, 'Street 2'),\n",
    "    (300, 'Mike', 80, 3, 'Street 3'),\n",
    "    (400, 'Dan', 50, 4, 'Street 4')\n",
    "]\n",
    "\n",
    "\n",
    "person_df = spark.createDataFrame(person, schema=[\"id\", \"name\", \"age\", \"class\", \"address\"])\n",
    "\n",
    "\n",
    "person_df.createTempView(\"person\")"
   ]
  },
  {
   "cell_type": "code",
   "execution_count": 6,
   "id": "retired-canada",
   "metadata": {},
   "outputs": [
    {
     "data": {
      "text/html": [
       "<div>\n",
       "<style scoped>\n",
       "    .dataframe tbody tr th:only-of-type {\n",
       "        vertical-align: middle;\n",
       "    }\n",
       "\n",
       "    .dataframe tbody tr th {\n",
       "        vertical-align: top;\n",
       "    }\n",
       "\n",
       "    .dataframe thead th {\n",
       "        text-align: right;\n",
       "    }\n",
       "</style>\n",
       "<table border=\"1\" class=\"dataframe\">\n",
       "  <thead>\n",
       "    <tr style=\"text-align: right;\">\n",
       "      <th></th>\n",
       "      <th>id</th>\n",
       "      <th>address</th>\n",
       "      <th>john_a</th>\n",
       "      <th>john_c</th>\n",
       "      <th>mike_a</th>\n",
       "      <th>mike_c</th>\n",
       "    </tr>\n",
       "  </thead>\n",
       "  <tbody>\n",
       "    <tr>\n",
       "      <th>0</th>\n",
       "      <td>400</td>\n",
       "      <td>Street 4</td>\n",
       "      <td>NaN</td>\n",
       "      <td>NaN</td>\n",
       "      <td>NaN</td>\n",
       "      <td>NaN</td>\n",
       "    </tr>\n",
       "    <tr>\n",
       "      <th>1</th>\n",
       "      <td>300</td>\n",
       "      <td>Street 3</td>\n",
       "      <td>NaN</td>\n",
       "      <td>NaN</td>\n",
       "      <td>80.0</td>\n",
       "      <td>3.0</td>\n",
       "    </tr>\n",
       "    <tr>\n",
       "      <th>2</th>\n",
       "      <td>100</td>\n",
       "      <td>Street 1</td>\n",
       "      <td>30.0</td>\n",
       "      <td>1.0</td>\n",
       "      <td>NaN</td>\n",
       "      <td>NaN</td>\n",
       "    </tr>\n",
       "    <tr>\n",
       "      <th>3</th>\n",
       "      <td>200</td>\n",
       "      <td>Street 2</td>\n",
       "      <td>NaN</td>\n",
       "      <td>NaN</td>\n",
       "      <td>NaN</td>\n",
       "      <td>NaN</td>\n",
       "    </tr>\n",
       "  </tbody>\n",
       "</table>\n",
       "</div>"
      ],
      "text/plain": [
       "    id   address  john_a  john_c  mike_a  mike_c\n",
       "0  400  Street 4     NaN     NaN     NaN     NaN\n",
       "1  300  Street 3     NaN     NaN    80.0     3.0\n",
       "2  100  Street 1    30.0     1.0     NaN     NaN\n",
       "3  200  Street 2     NaN     NaN     NaN     NaN"
      ]
     },
     "execution_count": 6,
     "metadata": {},
     "output_type": "execute_result"
    }
   ],
   "source": [
    "spark.sql(\"\"\"\n",
    "    SELECT * FROM person\n",
    "    PIVOT (\n",
    "        SUM(age) AS a, AVG(class) AS c\n",
    "        FOR name IN ('John' AS john, 'Mike' AS mike)\n",
    "    )\n",
    "\"\"\").toPandas()"
   ]
  },
  {
   "cell_type": "code",
   "execution_count": 17,
   "id": "corporate-acrylic",
   "metadata": {},
   "outputs": [
    {
     "data": {
      "text/html": [
       "<div>\n",
       "<style scoped>\n",
       "    .dataframe tbody tr th:only-of-type {\n",
       "        vertical-align: middle;\n",
       "    }\n",
       "\n",
       "    .dataframe tbody tr th {\n",
       "        vertical-align: top;\n",
       "    }\n",
       "\n",
       "    .dataframe thead th {\n",
       "        text-align: right;\n",
       "    }\n",
       "</style>\n",
       "<table border=\"1\" class=\"dataframe\">\n",
       "  <thead>\n",
       "    <tr style=\"text-align: right;\">\n",
       "      <th></th>\n",
       "      <th>id</th>\n",
       "      <th>address</th>\n",
       "      <th>John</th>\n",
       "      <th>Mike</th>\n",
       "    </tr>\n",
       "  </thead>\n",
       "  <tbody>\n",
       "    <tr>\n",
       "      <th>0</th>\n",
       "      <td>300</td>\n",
       "      <td>Street 3</td>\n",
       "      <td>NaN</td>\n",
       "      <td>80.0</td>\n",
       "    </tr>\n",
       "    <tr>\n",
       "      <th>1</th>\n",
       "      <td>100</td>\n",
       "      <td>Street 1</td>\n",
       "      <td>30.0</td>\n",
       "      <td>NaN</td>\n",
       "    </tr>\n",
       "  </tbody>\n",
       "</table>\n",
       "</div>"
      ],
      "text/plain": [
       "    id   address  John  Mike\n",
       "0  300  Street 3   NaN  80.0\n",
       "1  100  Street 1  30.0   NaN"
      ]
     },
     "execution_count": 17,
     "metadata": {},
     "output_type": "execute_result"
    }
   ],
   "source": [
    "from pyspark.sql.functions import col\n",
    "\n",
    "person_df.filter(col(\"name\").isin([\"John\", \"Mike\"])) \\\n",
    "         .groupby([\"id\", \"address\"]) \\\n",
    "         .pivot(\"name\") \\\n",
    "         .sum(\"age\") \\\n",
    "         .toPandas()"
   ]
  },
  {
   "cell_type": "markdown",
   "id": "printable-palmer",
   "metadata": {},
   "source": [
    "## Joins"
   ]
  },
  {
   "cell_type": "code",
   "execution_count": 21,
   "id": "meaning-sociology",
   "metadata": {},
   "outputs": [
    {
     "name": "stdout",
     "output_type": "stream",
     "text": [
      "+--------+---+\n",
      "|    name| id|\n",
      "+--------+---+\n",
      "|Deadpool|  3|\n",
      "|Iron man|  1|\n",
      "|   Groot|  7|\n",
      "+--------+---+\n",
      "\n",
      "+----------+---+\n",
      "|      race| id|\n",
      "+----------+---+\n",
      "|Kryptonian|  5|\n",
      "|    Mutant|  3|\n",
      "|     Human|  1|\n",
      "+----------+---+\n",
      "\n"
     ]
    }
   ],
   "source": [
    "from pyspark.sql.functions import col\n",
    "\n",
    "heroes_data = [\n",
    "    ('Deadpool', 3), \n",
    "    ('Iron man', 1),\n",
    "    ('Groot', 7),\n",
    "]\n",
    "\n",
    "race_data = [\n",
    "    ('Kryptonian', 5), \n",
    "    ('Mutant', 3), \n",
    "    ('Human', 1), \n",
    "]\n",
    "\n",
    "heroes_df = spark.createDataFrame(heroes_data, schema=['name', 'id'])\n",
    "races_df = spark.createDataFrame(race_data, schema=['race', 'id'])\n",
    "\n",
    "heroes_df.show()\n",
    "races_df.show()"
   ]
  },
  {
   "cell_type": "markdown",
   "id": "rapid-brave",
   "metadata": {},
   "source": [
    "### Inner"
   ]
  },
  {
   "cell_type": "code",
   "execution_count": 31,
   "id": "cheap-saying",
   "metadata": {},
   "outputs": [
    {
     "name": "stdout",
     "output_type": "stream",
     "text": [
      "+---+--------+------+\n",
      "| id|    name|  race|\n",
      "+---+--------+------+\n",
      "|  1|Iron man| Human|\n",
      "|  3|Deadpool|Mutant|\n",
      "+---+--------+------+\n",
      "\n",
      "+--------+---+------+---+\n",
      "|    name| id|  race| id|\n",
      "+--------+---+------+---+\n",
      "|Iron man|  1| Human|  1|\n",
      "|Deadpool|  3|Mutant|  3|\n",
      "+--------+---+------+---+\n",
      "\n",
      "+--------+---+------+\n",
      "|    name| id|  race|\n",
      "+--------+---+------+\n",
      "|Iron man|  1| Human|\n",
      "|Deadpool|  3|Mutant|\n",
      "+--------+---+------+\n",
      "\n"
     ]
    }
   ],
   "source": [
    "heroes_df.join(races_df, on=['id'], how='inner') \\\n",
    "         .show()\n",
    "\n",
    "heroes_df.join(races_df, heroes_df.id == races_df.id, how='inner') \\\n",
    "         .show()\n",
    "\n",
    "heroes_df.alias('h').join(races_df.alias('r'), col('h.id') == col('r.id'), how='inner') \\\n",
    "         .select('h.*', 'r.race') \\\n",
    "         .show()"
   ]
  },
  {
   "cell_type": "markdown",
   "id": "loaded-selection",
   "metadata": {},
   "source": [
    "### left"
   ]
  },
  {
   "cell_type": "code",
   "execution_count": 24,
   "id": "simple-census",
   "metadata": {},
   "outputs": [
    {
     "name": "stdout",
     "output_type": "stream",
     "text": [
      "+---+--------+------+\n",
      "| id|    name|  race|\n",
      "+---+--------+------+\n",
      "|  7|   Groot|  null|\n",
      "|  1|Iron man| Human|\n",
      "|  3|Deadpool|Mutant|\n",
      "+---+--------+------+\n",
      "\n",
      "+--------+---+------+----+\n",
      "|    name| id|  race|  id|\n",
      "+--------+---+------+----+\n",
      "|   Groot|  7|  null|null|\n",
      "|Iron man|  1| Human|   1|\n",
      "|Deadpool|  3|Mutant|   3|\n",
      "+--------+---+------+----+\n",
      "\n"
     ]
    }
   ],
   "source": [
    "heroes_df.join(races_df, on=['id'], how='left') \\\n",
    "         .show()\n",
    "\n",
    "heroes_df.join(races_df, heroes_df.id == races_df.id, how='left') \\\n",
    "         .show()"
   ]
  },
  {
   "cell_type": "markdown",
   "id": "multiple-discrimination",
   "metadata": {},
   "source": [
    "### full"
   ]
  },
  {
   "cell_type": "code",
   "execution_count": 29,
   "id": "rough-premises",
   "metadata": {},
   "outputs": [
    {
     "name": "stdout",
     "output_type": "stream",
     "text": [
      "+---+--------+----------+\n",
      "| id|    name|      race|\n",
      "+---+--------+----------+\n",
      "|  7|   Groot|      null|\n",
      "|  5|    null|Kryptonian|\n",
      "|  1|Iron man|     Human|\n",
      "|  3|Deadpool|    Mutant|\n",
      "+---+--------+----------+\n",
      "\n",
      "+--------+----+----------+----+\n",
      "|    name|  id|      race|  id|\n",
      "+--------+----+----------+----+\n",
      "|   Groot|   7|      null|null|\n",
      "|    null|null|Kryptonian|   5|\n",
      "|Iron man|   1|     Human|   1|\n",
      "|Deadpool|   3|    Mutant|   3|\n",
      "+--------+----+----------+----+\n",
      "\n"
     ]
    }
   ],
   "source": [
    "heroes_df.join(races_df, on=['id'], how='full') \\\n",
    "         .show()\n",
    "\n",
    "heroes_df.join(races_df, heroes_df.id == races_df.id, how='full') \\\n",
    "         .show()"
   ]
  },
  {
   "cell_type": "markdown",
   "id": "twelve-shuttle",
   "metadata": {},
   "source": [
    "### left-semi"
   ]
  },
  {
   "cell_type": "code",
   "execution_count": 26,
   "id": "funky-loading",
   "metadata": {},
   "outputs": [
    {
     "name": "stdout",
     "output_type": "stream",
     "text": [
      "+---+--------+\n",
      "| id|    name|\n",
      "+---+--------+\n",
      "|  1|Iron man|\n",
      "|  3|Deadpool|\n",
      "+---+--------+\n",
      "\n",
      "+--------+---+\n",
      "|    name| id|\n",
      "+--------+---+\n",
      "|Iron man|  1|\n",
      "|Deadpool|  3|\n",
      "+--------+---+\n",
      "\n"
     ]
    }
   ],
   "source": [
    "heroes_df.join(races_df, on=['id'], how='leftsemi') \\\n",
    "         .show()\n",
    "\n",
    "heroes_df.join(races_df, heroes_df.id == races_df.id, how='leftsemi') \\\n",
    "         .show()"
   ]
  },
  {
   "cell_type": "markdown",
   "id": "literary-removal",
   "metadata": {},
   "source": [
    "### left-anti"
   ]
  },
  {
   "cell_type": "code",
   "execution_count": 27,
   "id": "upper-mountain",
   "metadata": {},
   "outputs": [
    {
     "name": "stdout",
     "output_type": "stream",
     "text": [
      "+---+-----+\n",
      "| id| name|\n",
      "+---+-----+\n",
      "|  7|Groot|\n",
      "+---+-----+\n",
      "\n",
      "+-----+---+\n",
      "| name| id|\n",
      "+-----+---+\n",
      "|Groot|  7|\n",
      "+-----+---+\n",
      "\n"
     ]
    }
   ],
   "source": [
    "heroes_df.join(races_df, on=['id'], how='leftanti') \\\n",
    "         .show()\n",
    "\n",
    "heroes_df.join(races_df, heroes_df.id == races_df.id, how='leftanti') \\\n",
    "         .show()"
   ]
  },
  {
   "cell_type": "code",
   "execution_count": null,
   "id": "employed-vatican",
   "metadata": {},
   "outputs": [],
   "source": []
  }
 ],
 "metadata": {
  "kernelspec": {
   "display_name": "Python 3",
   "language": "python",
   "name": "python3"
  },
  "language_info": {
   "codemirror_mode": {
    "name": "ipython",
    "version": 3
   },
   "file_extension": ".py",
   "mimetype": "text/x-python",
   "name": "python",
   "nbconvert_exporter": "python",
   "pygments_lexer": "ipython3",
   "version": "3.7.3"
  }
 },
 "nbformat": 4,
 "nbformat_minor": 5
}
