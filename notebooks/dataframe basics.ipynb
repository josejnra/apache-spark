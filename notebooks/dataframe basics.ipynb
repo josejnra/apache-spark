{
 "cells": [
  {
   "cell_type": "code",
   "execution_count": 1,
   "id": "international-april",
   "metadata": {},
   "outputs": [
    {
     "data": {
      "text/html": [
       "<style>.container { width:100% !important; }</style>"
      ],
      "text/plain": [
       "<IPython.core.display.HTML object>"
      ]
     },
     "metadata": {},
     "output_type": "display_data"
    }
   ],
   "source": [
    "from IPython.core.display import display, HTML\n",
    "display(HTML(\"<style>.container { width:100% !important; }</style>\"))"
   ]
  },
  {
   "cell_type": "code",
   "execution_count": 2,
   "id": "transsexual-rochester",
   "metadata": {},
   "outputs": [],
   "source": [
    "SPARK_HOME = '/home/jose/Frameworks/spark-3.0.2-bin-hadoop2.7'"
   ]
  },
  {
   "cell_type": "code",
   "execution_count": 3,
   "id": "rural-setup",
   "metadata": {},
   "outputs": [
    {
     "data": {
      "text/html": [
       "\n",
       "            <div>\n",
       "                <p><b>SparkSession - in-memory</b></p>\n",
       "                \n",
       "        <div>\n",
       "            <p><b>SparkContext</b></p>\n",
       "\n",
       "            <p><a href=\"http://192.168.0.111:4040\">Spark UI</a></p>\n",
       "\n",
       "            <dl>\n",
       "              <dt>Version</dt>\n",
       "                <dd><code>v3.0.2</code></dd>\n",
       "              <dt>Master</dt>\n",
       "                <dd><code>local[*]</code></dd>\n",
       "              <dt>AppName</dt>\n",
       "                <dd><code>Spark Base</code></dd>\n",
       "            </dl>\n",
       "        </div>\n",
       "        \n",
       "            </div>\n",
       "        "
      ],
      "text/plain": [
       "<pyspark.sql.session.SparkSession at 0x7f1f986699b0>"
      ]
     },
     "execution_count": 3,
     "metadata": {},
     "output_type": "execute_result"
    }
   ],
   "source": [
    "# import os\n",
    "# os.environ['PYSPARK_SUBMIT_ARGS'] = 'pyspark-shell'\n",
    "\n",
    "import findspark\n",
    "findspark.init(SPARK_HOME)\n",
    "\n",
    "from pyspark import SparkContext, SparkConf\n",
    "from pyspark.sql import SparkSession\n",
    "\n",
    "config = SparkConf() \\\n",
    "                    .setMaster('local[*]') \\\n",
    "                    .setAppName('Spark Base') \\\n",
    "                    .setAll([('spark.executor.memory', '2G'),\n",
    "                            ('spark.driver.memory', '2G'),\n",
    "                            ('spark.driver.maxResultSize', '1G')])\n",
    "\n",
    "sc = SparkContext(conf=config)\n",
    "spark = SparkSession(sc)\n",
    "\n",
    "spark"
   ]
  },
  {
   "cell_type": "markdown",
   "id": "experienced-preview",
   "metadata": {},
   "source": [
    "## UDF"
   ]
  },
  {
   "cell_type": "code",
   "execution_count": 4,
   "id": "after-waterproof",
   "metadata": {},
   "outputs": [
    {
     "name": "stdout",
     "output_type": "stream",
     "text": [
      "+----------+--------------+------------+\n",
      "|slen(name)|to_upper(name)|add_one(age)|\n",
      "+----------+--------------+------------+\n",
      "|         8|      JOHN DOE|          22|\n",
      "+----------+--------------+------------+\n",
      "\n"
     ]
    }
   ],
   "source": [
    "from pyspark.sql.functions import udf\n",
    "from pyspark.sql.types import IntegerType\n",
    "\n",
    "slen = udf(lambda s: len(s), IntegerType())\n",
    "\n",
    "@udf\n",
    "def to_upper(s: str) -> str:\n",
    "    if s is not None:\n",
    "        return s.upper()\n",
    "\n",
    "\n",
    "@udf(returnType=IntegerType())\n",
    "def add_one(x: int) -> int:\n",
    "    if x is not None:\n",
    "        return x + 1\n",
    "\n",
    "df = spark.createDataFrame([(1, \"John Doe\", 21)], (\"id\", \"name\", \"age\"))\n",
    "df.select(slen(\"name\").alias(\"slen(name)\"), to_upper(\"name\"), add_one(\"age\")).show()"
   ]
  },
  {
   "cell_type": "code",
   "execution_count": 8,
   "id": "impossible-easter",
   "metadata": {},
   "outputs": [
    {
     "name": "stdout",
     "output_type": "stream",
     "text": [
      "+---+--------+---+----------------------------------------+----------------------------------------+\n",
      "| id|    name|age|                                multiple|                                  string|\n",
      "+---+--------+---+----------------------------------------+----------------------------------------+\n",
      "|  1|John Doe| 21|[JOHN DOEJOHN DOEJOHN DOEJOHN DOEJOHN...|JOHN DOEJOHN DOEJOHN DOEJOHN DOEJOHN ...|\n",
      "+---+--------+---+----------------------------------------+----------------------------------------+\n",
      "\n"
     ]
    }
   ],
   "source": [
    "from pyspark.sql.functions import array, explode, col\n",
    "from pyspark.sql.types import StructField, StructType, StringType\n",
    "\n",
    "schema = StructType([\n",
    "    StructField(\"string\", StringType()),\n",
    "    StructField(\"number\", IntegerType())])\n",
    "\n",
    "@udf(returnType=schema)\n",
    "def multiple_columns(s: str, n: int):\n",
    "    return s.upper()*n,  n**2\n",
    "\n",
    "\n",
    "df = spark.createDataFrame([(1, \"John Doe\", 21)], (\"id\", \"name\", \"age\"))\n",
    "df.withColumn(\"multiple\", multiple_columns(\"name\", \"age\")) \\\n",
    "  .withColumn(\"string\", col(\"multiple.string\")) \\\n",
    "  .show(truncate=40)"
   ]
  }
 ],
 "metadata": {
  "kernelspec": {
   "display_name": "Python 3",
   "language": "python",
   "name": "python3"
  },
  "language_info": {
   "codemirror_mode": {
    "name": "ipython",
    "version": 3
   },
   "file_extension": ".py",
   "mimetype": "text/x-python",
   "name": "python",
   "nbconvert_exporter": "python",
   "pygments_lexer": "ipython3",
   "version": "3.7.3"
  }
 },
 "nbformat": 4,
 "nbformat_minor": 5
}
